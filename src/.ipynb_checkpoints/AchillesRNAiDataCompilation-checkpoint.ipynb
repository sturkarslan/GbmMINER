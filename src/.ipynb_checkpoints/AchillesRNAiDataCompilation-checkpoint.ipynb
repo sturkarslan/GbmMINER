{
 "cells": [
  {
   "cell_type": "code",
   "execution_count": null,
   "metadata": {},
   "outputs": [],
   "source": [
    "import pandas as pd\n",
    "import os\n",
    "os.chdir('C:\\\\Users\\\\kkannan\\\\Documents\\\\Post-Doc_BaligaLab_GBMSYGNALProject')\n",
    "\n",
    "AchillesGeneKnockout = pd.read_csv(\"D2_combined_gene_dep_scoresRNAiSymbol.csv\", header=0, index_col=0, low_memory=False)\n",
    "BrainCellLines = pd.read_csv(\"sample_infoAchillesGbm.csv\", header=0)\n",
    "columnsbrain = list(BrainCellLines['CCLE_Name'])\n",
    "print(columnsbrain)\n",
    "AchillesGeneKnockout = AchillesGeneKnockout[AchillesGeneKnockout.columns.intersection(columnsbrain)]\n",
    "AchillesGeneKnockout['Median'] = AchillesGeneKnockout.median(axis=1)\n",
    "AchillesGeneKnockout.to_csv(\"D2_combined_gene_dep_scoresRNAiSymbolGbm.csv\")"
   ]
  }
 ],
 "metadata": {
  "kernelspec": {
   "display_name": "Python 3",
   "language": "python",
   "name": "python3"
  },
  "language_info": {
   "codemirror_mode": {
    "name": "ipython",
    "version": 3
   },
   "file_extension": ".py",
   "mimetype": "text/x-python",
   "name": "python",
   "nbconvert_exporter": "python",
   "pygments_lexer": "ipython3",
   "version": "3.8.3"
  }
 },
 "nbformat": 4,
 "nbformat_minor": 4
}
