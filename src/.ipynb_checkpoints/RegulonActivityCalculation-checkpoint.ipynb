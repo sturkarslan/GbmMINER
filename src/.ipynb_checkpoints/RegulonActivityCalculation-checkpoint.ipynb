{
 "cells": [
  {
   "cell_type": "code",
   "execution_count": 1,
   "metadata": {},
   "outputs": [
    {
     "name": "stdout",
     "output_type": "stream",
     "text": [
      "done!\n",
      "done!\n"
     ]
    }
   ],
   "source": [
    "#!/usr/bin/env python3\n",
    "# -*- coding: utf-8 -*-\n",
    "\"\"\"\n",
    "Created on Fri Sep 25 10:40:42 2020\n",
    "\n",
    "@author: mwall\n",
    "\"\"\"\n",
    "import os\n",
    "import numpy as np\n",
    "import pandas as pd\n",
    "os.chdir('C:\\\\Users\\\\kkannan\\\\Documents\\\\Post-Doc_BaligaLab_GBMSYGNALProject')\n",
    "import miner as miner\n",
    "\n",
    "# Path to the miner directory\n",
    "input_path = os.getcwd()\n",
    "expressionData = pd.read_csv(\"abundanceXCuresRNATPMTL1961DB85ZScoredLatest.csv\", sep=\",\", index_col=0, header = 0)\n",
    "# Load resulonModules\n",
    "regulonModules = miner.read_json(os.path.join(input_path,\"GBM\\\\results\\\\MINER\\\\MINER_MicroLowessRNATMM.08.24.2020\\\\regulons.json\"))\n",
    "regulonDfMicroGbmLatest = pd.read_csv(\"regulonDfGbmMicroRNASigCoxAndStatSig.csv\", header = 0)\n",
    "regulonDfMicroGbmLatest = list(regulonDfMicroGbmLatest['Regulon_ID'].drop_duplicates())\n",
    "regulonDfMicroGbmLatest = [str(i) for i in regulonDfMicroGbmLatest]\n",
    "regulonModules = dict((k, regulonModules[k]) for k in regulonDfMicroGbmLatest if k in regulonModules)\n",
    "# select reference dictionary for downstream analysis (pr_genes, revisedClusters, coexpressionModules, or regulonModules)\n",
    "referenceDictionary = regulonModules\n",
    "# create a background matrix used for statistical hypothesis testing\n",
    "bkgd = miner.backgroundDf(expressionData)\n",
    "# for each cluster, give samples that show high coherent cluster activity\n",
    "overExpressedMembers = miner.biclusterMembershipDictionary(referenceDictionary,bkgd,label=2,p=0.05)\n",
    "# for each clus|ter, give samples that show low coherent cluster activity\n",
    "underExpressedMembers = miner.biclusterMembershipDictionary(referenceDictionary,bkgd,label=0,p=0.05)\n",
    "# convert overExpressedMembers dictionary to binary matrix\n",
    "overExpressedMembersMatrix = miner.membershipToIncidence(overExpressedMembers,expressionData)\n",
    "overExpressedMembersMatrix.index = np.array(overExpressedMembersMatrix.index).astype(str)\n",
    "# convert underExpressedMembers dictionary to binary matrix\n",
    "underExpressedMembersMatrix = miner.membershipToIncidence(underExpressedMembers,expressionData)\n",
    "underExpressedMembersMatrix.index = np.array(underExpressedMembersMatrix.index).astype(str)\n",
    "\n",
    "# Create program matrix with values of {-1,0,1}\n",
    "dfr_regulons = overExpressedMembersMatrix-underExpressedMembersMatrix\n",
    "\n",
    "dfr_regulons.to_csv(\"SigRegulonsActivityabundanceXCuresRNATPMTL1961DB85ZScoredLatest.csv\")"
   ]
  },
  {
   "cell_type": "code",
   "execution_count": null,
   "metadata": {},
   "outputs": [],
   "source": []
  }
 ],
 "metadata": {
  "kernelspec": {
   "display_name": "Python 3",
   "language": "python",
   "name": "python3"
  },
  "language_info": {
   "codemirror_mode": {
    "name": "ipython",
    "version": 3
   },
   "file_extension": ".py",
   "mimetype": "text/x-python",
   "name": "python",
   "nbconvert_exporter": "python",
   "pygments_lexer": "ipython3",
   "version": "3.8.3"
  }
 },
 "nbformat": 4,
 "nbformat_minor": 4
}
