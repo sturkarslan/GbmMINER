{
 "cells": [
  {
   "cell_type": "code",
   "execution_count": 1,
   "metadata": {},
   "outputs": [
    {
     "name": "stdout",
     "output_type": "stream",
     "text": [
      "2020-10-16 21:10:55\n"
     ]
    }
   ],
   "source": [
    "import sys\n",
    "import os\n",
    "os.chdir('E:\\ISB work stuff\\Post-Doc_BaligaLab_GBMSYGNALProject')\n",
    "import numpy as np\n",
    "import pandas as pd\n",
    "from scipy import stats\n",
    "from numpy import random as rd\n",
    "import re\n",
    "import subprocess\n",
    "import json\n",
    "from sklearn.decomposition import PCA\n",
    "import multiprocessing, multiprocessing.pool\n",
    "import matplotlib.pyplot as plt\n",
    "import seaborn as sns\n",
    "import time,datetime\n",
    "from collections import Counter\n",
    "from sklearn.manifold import TSNE\n",
    "import pickle\n",
    "import numpy as np\n",
    "import pandas as pd\n",
    "from sklearn.model_selection import train_test_split\n",
    "from sklearn.tree import DecisionTreeClassifier\n",
    "from sklearn.ensemble import RandomForestClassifier\n",
    "from sklearn.metrics import accuracy_score\n",
    "from sklearn.metrics import f1_score\n",
    "from sklearn.metrics import roc_auc_score\n",
    "from sklearn import metrics\n",
    "from sklearn import tree\n",
    "import miner\n",
    "import imp\n",
    "imp.reload(miner)\n",
    "%matplotlib inline\n",
    "plt.style.use('ggplot')\n",
    "print(datetime.datetime.now().strftime(\"%Y-%m-%d %H:%M:%S\"))"
   ]
  },
  {
   "cell_type": "code",
   "execution_count": 2,
   "metadata": {},
   "outputs": [],
   "source": [
    "import miner_py3_kk as miner3\n",
    "import os\n",
    "import pandas as pd\n",
    "os.chdir('E:\\\\ISB work stuff\\\\Post-Doc_BaligaLab_GBMSYGNALProject')\n",
    "##Expression data must be normalized (TMM normalization for RNASeq and lowess normalization of Microarray).\n",
    "expressionData=pd.read_csv(\"GbmMicroRNAMergedmRNAMicroarraymiRNA.csv\",header=0,index_col=0,sep=\",\")\n",
    "expressionData=miner.zscore(expressionData)"
   ]
  },
  {
   "cell_type": "markdown",
   "metadata": {},
   "source": [
    "# Network Mapping"
   ]
  },
  {
   "cell_type": "code",
   "execution_count": 4,
   "metadata": {},
   "outputs": [
    {
     "name": "stdout",
     "output_type": "stream",
     "text": [
      "done!\n",
      "done!\n",
      "done!\n",
      "done!\n",
      "Completed patient mapping in 0.23 minutes\n"
     ]
    }
   ],
   "source": [
    "imp.reload(miner)\n",
    "t1 = time.time()\n",
    "# select reference dictionary for downstream analysis (revisedClusters, coexpressionModules, or regulonModules)\n",
    "regulonModules = miner.read_json(os.path.join(input_path,\"GBM\\\\results\\\\MINER\\\\MINER_MicroLowessRNATMM.08.24.2020\\\\regulons.json\"))\n",
    "\n",
    "referenceDictionary = regulonModules\n",
    "# create a background matrix used for statistical hypothesis testing\n",
    "bkgd = miner.backgroundDf(expressionData)\n",
    "# for each cluster, give samples that show high coherent cluster activity\n",
    "overExpressedMembers = miner.biclusterMembershipDictionary(referenceDictionary,bkgd,label=2,p=0.05)\n",
    "# for each clus|ter, give samples that show low coherent cluster activity\n",
    "underExpressedMembers = miner.biclusterMembershipDictionary(referenceDictionary,bkgd,label=0,p=0.05)\n",
    "# for each cluster, give samples that do not show coherent cluster activity\n",
    "dysregulatedMembers = miner.biclusterMembershipDictionary(referenceDictionary,bkgd,label=\"excluded\")\n",
    "# # for each cluster, give samples that show coherent cluster activity, despite magnitude of expression\n",
    "coherentMembers = miner.biclusterMembershipDictionary(referenceDictionary,bkgd,label=\"included\")\n",
    "# write membership matrices to .csv file\n",
    "overExpressedMembersMatrix = miner.membershipToIncidence(overExpressedMembers,expressionData)\n",
    "underExpressedMembersMatrix = miner.membershipToIncidence(underExpressedMembers,expressionData)\n",
    "dysregulatedMembersMatrix = miner.membershipToIncidence(dysregulatedMembers,expressionData)\n",
    "coherentMembersMatrix = miner.membershipToIncidence(coherentMembers,expressionData)\n",
    "coherentMembersMatrix.to_csv(os.path.join(resultsDirectory,\"coherentMembers.csv\"))\n",
    "\n",
    "t2 = time.time()\n",
    "print(\"Completed patient mapping in {:.2f} minutes\".format((t2-t1)/60.))"
   ]
  },
  {
   "cell_type": "code",
   "execution_count": null,
   "metadata": {},
   "outputs": [],
   "source": []
  }
 ],
 "metadata": {
  "kernelspec": {
   "display_name": "Python 3",
   "language": "python",
   "name": "python3"
  },
  "language_info": {
   "codemirror_mode": {
    "name": "ipython",
    "version": 3
   },
   "file_extension": ".py",
   "mimetype": "text/x-python",
   "name": "python",
   "nbconvert_exporter": "python",
   "pygments_lexer": "ipython3",
   "version": "3.8.3"
  }
 },
 "nbformat": 4,
 "nbformat_minor": 2
}
