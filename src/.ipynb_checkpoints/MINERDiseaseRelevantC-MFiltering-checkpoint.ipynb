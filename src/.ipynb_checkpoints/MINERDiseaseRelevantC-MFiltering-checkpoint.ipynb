{
 "cells": [
  {
   "cell_type": "markdown",
   "metadata": {},
   "source": [
    "# Compiling all GBM related results"
   ]
  },
  {
   "cell_type": "code",
   "execution_count": 61,
   "metadata": {},
   "outputs": [],
   "source": [
    "import pandas as pd\n",
    "import os\n",
    "os.chdir('E:\\ISB work stuff\\Post-Doc_BaligaLab_GBMSYGNALProject')\n",
    "#regulonlist = pd.read_csv(\"RegulonsStatSigAndDiseaseRelevantGbm.csv\",header=0,sep=\",\")\n",
    "PCR_main = pd.read_csv(\"GbmRNAMicroarrayTCGARegulonVarianceTest.csv\",header=0,sep=\",\")\n",
    "PCR1 = pd.read_csv(\"GbmMicroRembrandtRegulonVarianceTest.csv\",header=0,sep=\",\")\n",
    "PCR2 = pd.read_csv(\"GbmMicroFrenchRegulonVarianceTest.csv\",header=0,sep=\",\")\n",
    "PCR3 = pd.read_csv(\"GbmRNAIvyAtlasRegulonVarianceTest.csv\",header=0,sep=\",\")\n",
    "PCR4 = pd.read_csv(\"GbmMicroGSE7696RegulonVarianceTest.csv\",header=0,sep=\",\")\n",
    "TFReg_main = pd.read_csv(\"GbmMicroRNAmiRNATFRegulatorRegulonSpearmanCorrelations.csv\",header=0,sep=\",\")\n",
    "Mutation_main = pd.read_csv(\"filteredCausalResults_miRNAAndTFMinerGbmMicroarrayRNASeq.csv\",header=0,sep=\",\")\n",
    "Mutation_main = Mutation_main[['Regulon_ID', 'Regulator', 'MutationRegulatorEdge', 'Fraction_of_edges_correctly_aligned', 'Mutation', 'RegMutation_Pval_allPatients', 'EigenGene_tstat_allPatients','EigenGenePValAllPatients']]"
   ]
  },
  {
   "cell_type": "code",
   "execution_count": 62,
   "metadata": {},
   "outputs": [],
   "source": [
    "PCR_main = PCR_main[['Regulon_ID', 'PCA_1Var', 'PCA_1RandomPVal', 'PCA_1RandomPValNonMember']]\n",
    "PCR_main = PCR_main.drop_duplicates()\n",
    "PCR_main = PCR_main[PCR_main['PCA_1Var']>=0.3]\n",
    "PCR_main = PCR_main[PCR_main['PCA_1RandomPVal']<=0.05]\n",
    "PCR_main = PCR_main[PCR_main['PCA_1RandomPValNonMember']<=0.05]\n",
    "PCR1 = PCR1[['Regulon_ID', 'PCA_1VarRembrandt', 'PCA_1RandomPValRembrandt', 'PCA_1RandomPValNonMemberRembrandt']]\n",
    "PCR1 = PCR1.drop_duplicates()\n",
    "PCR1 = PCR1[PCR1['PCA_1VarRembrandt']>=0.3]\n",
    "PCR1 = PCR1[PCR1['PCA_1RandomPValRembrandt']<=0.05]\n",
    "PCR1 = PCR1[PCR1['PCA_1RandomPValNonMemberRembrandt']<=0.05]\n",
    "PCR2 = PCR2[['Regulon_ID', 'PCA_1VarFrench', 'PCA_1RandomPValFrench', 'PCA_1RandomPValNonMemberFrench']]\n",
    "PCR2 = PCR2.drop_duplicates()\n",
    "PCR2 = PCR2[PCR2['PCA_1VarFrench']>=0.3]\n",
    "PCR2 = PCR2[PCR2['PCA_1RandomPValFrench']<=0.05]\n",
    "PCR2 = PCR2[PCR2['PCA_1RandomPValNonMemberFrench']<=0.05]\n",
    "PCR3 = PCR3[['Regulon_ID', 'PCA_1VarIvyAtlas', 'PCA_1RandomPValIvyAtlas', 'PCA_1RandomPValNonMemberIvyAtlas']]\n",
    "PCR3 = PCR3.drop_duplicates()\n",
    "PCR3 = PCR3[PCR3['PCA_1VarIvyAtlas']>=0.3]\n",
    "PCR3 = PCR3[PCR3['PCA_1RandomPValIvyAtlas']<=0.05]\n",
    "PCR3 = PCR3[PCR3['PCA_1RandomPValNonMemberIvyAtlas']<=0.05]\n",
    "\n",
    "PCR4 = PCR4[['Regulon_ID', 'PCA_1VarGSE7696', 'PCA_1RandomPValGSE7696', 'PCA_1RandomPValNonMemberGSE7696']]\n",
    "PCR4 = PCR4.drop_duplicates()\n",
    "PCR4 = PCR4[PCR4['PCA_1VarGSE7696']>=0.3]\n",
    "PCR4 = PCR4[PCR4['PCA_1RandomPValGSE7696']<=0.05]\n",
    "PCR4 = PCR4[PCR4['PCA_1RandomPValNonMemberGSE7696']<=0.05]\n",
    "\n",
    "data_frames = [PCR1, PCR2, PCR3, PCR4]\n",
    "df_merged1 = reduce(lambda  left,right: pd.merge(left,right,on=['Regulon_ID'],\n",
    "                                            how='outer'), data_frames)\n",
    "df_coexp = pd.merge(df_merged1, PCR_main, left_on = 'Regulon_ID', right_on = 'Regulon_ID', how = 'inner')\n",
    "#df_coexp.to_csv(\"GbmMicroRNASignificantlyCoexpressed.csv\")"
   ]
  },
  {
   "cell_type": "code",
   "execution_count": 63,
   "metadata": {},
   "outputs": [],
   "source": [
    "TFReg_main = TFReg_main[['Regulon_ID', 'SpearmanCorrelationEigenGene','SpearmanCorrelationPValEigenGene', 'Regulator']]\n",
    "TFReg_main = TFReg_main.drop_duplicates()\n",
    "TFReg_main_1 = TFReg_main[TFReg_main['SpearmanCorrelationEigenGene']>=0.3]\n",
    "TFReg_main_2 = TFReg_main[TFReg_main['SpearmanCorrelationEigenGene']<=-0.3]\n",
    "frames = [TFReg_main_1, TFReg_main_2]\n",
    "TFReg_main = pd.concat(frames)\n",
    "TFReg_main = TFReg_main[TFReg_main['SpearmanCorrelationPValEigenGene']<=0.05]\n",
    "\n",
    "Mutation_main = Mutation_main[['Mutation', 'Regulon_ID','Regulator', 'Reg_pval','EigenGene_pval','EigenGene_tstat','MutationRegulatorEdge', 'Fraction_of_edges_correctly_aligned','RegMutation_Pval_allPatients', 'EigenGene_tstat_allPatients','EigenGenePValAllPatients']]\n",
    "Mutation_main = Mutation_main[Mutation_main['RegMutation_Pval_allPatients']<=0.05]\n",
    "Mutation_main = Mutation_main[Mutation_main['EigenGenePValAllPatients']<=0.05]\n",
    "Mutation_main = Mutation_main.drop_duplicates()"
   ]
  },
  {
   "cell_type": "code",
   "execution_count": 64,
   "metadata": {},
   "outputs": [],
   "source": [
    "from functools import reduce\n",
    "\n",
    "data_frames = [df_coexp, Mutation_main]\n",
    "\n",
    "df_coexpmutation = reduce(lambda  left,right: pd.merge(left,right,on=['Regulon_ID'],\n",
    "                                            how='inner'), data_frames)"
   ]
  },
  {
   "cell_type": "code",
   "execution_count": 65,
   "metadata": {},
   "outputs": [],
   "source": [
    "from __future__ import division\n",
    "from functools import reduce\n",
    "cox_hrmain = pd.read_csv(\"CoxProportionalHazardsRegulons.csv\",header=0,sep=\",\")\n",
    "cox1 = pd.read_csv(\"CoxProportionalHazardsRegulonsFrench.csv\",header=0,sep=\",\")\n",
    "cox2 = pd.read_csv(\"CoxProportionalHazardsRegulonsGSE7696.csv\",header=0,sep=\",\")\n",
    "cox3 = pd.read_csv(\"CoxProportionalHazardsRegulonsRembrandt.csv\",header=0,sep=\",\")\n",
    "cox_hrmain = cox_hrmain[cox_hrmain['p-value']<=0.05]\n",
    "cox1 = cox1[cox1['Cox-p-valueFrench']<=0.05]\n",
    "cox2 = cox2[cox2['Cox-p-valueGSE7696']<=0.05]\n",
    "cox3 = cox3[cox3['Cox-p-valueRembrandt']<=0.05]\n",
    "data_frames = [cox1, cox2, cox3]\n",
    "df_cox = reduce(lambda  left,right: pd.merge(left,right,on=['Regulon_ID'],how='outer'), data_frames)\n",
    "df_cox = pd.merge(df_cox, cox_hrmain, left_on = 'Regulon_ID', right_on = 'Regulon_ID', how = 'inner')"
   ]
  },
  {
   "cell_type": "code",
   "execution_count": 67,
   "metadata": {},
   "outputs": [],
   "source": [
    "df_coexpmutation_cox = pd.merge(df_coexpmutation, df_cox, left_on = 'Regulon_ID', right_on = 'Regulon_ID', how = 'inner')\n",
    "#df_coexpmutation_semantic.to_csv(\"RegulonDiseaseRelevantCoexpMutSigResultsGbm.csv\")\n",
    "\n",
    "df_merged_all = pd.merge(df_coexpmutation_cox, TFReg_main, left_on = ['Regulon_ID','Regulator'], right_on = ['Regulon_ID','Regulator'], how = 'inner')\n",
    "df_merged_all.to_csv(\"RegulonStatSigAndDiseaseRelevantResultsGbm.csv\")"
   ]
  }
 ],
 "metadata": {
  "kernelspec": {
   "display_name": "Python 3",
   "language": "python",
   "name": "python3"
  },
  "language_info": {
   "codemirror_mode": {
    "name": "ipython",
    "version": 3
   },
   "file_extension": ".py",
   "mimetype": "text/x-python",
   "name": "python",
   "nbconvert_exporter": "python",
   "pygments_lexer": "ipython3",
   "version": "3.8.3"
  }
 },
 "nbformat": 4,
 "nbformat_minor": 4
}
