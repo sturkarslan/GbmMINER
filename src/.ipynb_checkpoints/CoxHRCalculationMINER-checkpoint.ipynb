{
 "cells": [
  {
   "cell_type": "markdown",
   "metadata": {},
   "source": [
    "# import libraries"
   ]
  },
  {
   "cell_type": "code",
   "execution_count": 1,
   "metadata": {},
   "outputs": [],
   "source": [
    "import sys\n",
    "import os\n",
    "os.chdir('E:\\ISB work stuff\\Post-Doc_BaligaLab_GBMSYGNALProject')\n",
    "import miner as miner\n",
    "import numpy as np\n",
    "import pandas as pd\n",
    "import matplotlib.pyplot as plt\n",
    "%matplotlib inline\n",
    "plt.style.use('ggplot')\n",
    "import seaborn as sns\n",
    "import time\n",
    "import imp\n",
    "imp.reload(miner)\n",
    "import miner_py3_kk as miner3"
   ]
  },
  {
   "cell_type": "markdown",
   "metadata": {},
   "source": [
    "# Create directories to save output file"
   ]
  },
  {
   "cell_type": "code",
   "execution_count": 2,
   "metadata": {},
   "outputs": [],
   "source": [
    "# Path to the miner directory\n",
    "input_path = os.getcwd()\n",
    "\n",
    "# create name for results folder where output files will be saved\n",
    "resultsFolder = \"results_miner3_gbm_MicroarrayRNA_survival_08252020\"\n",
    "\n",
    "# name of the folder containing the miner network\n",
    "#networkFolder = \"miner_network_results\"\n",
    "networkFolder = \"results_minCorrelation_0o2_50_allFiles_gbm_MicroarrayRNA_survival_08252020\"\n",
    "\n",
    "# create results directory\n",
    "resultsDirectory = os.path.join(os.getcwd(),resultsFolder)\n",
    "if not os.path.isdir(resultsDirectory):\n",
    "    os.mkdir(resultsDirectory)\n",
    "\n",
    "expressionData=pd.read_csv(\"GbmMicroRNAMergedWithIDsZScored.csv\",header=0,index_col=0,sep=\",\")\n"
   ]
  },
  {
   "cell_type": "markdown",
   "metadata": {},
   "source": [
    "# Load primary data"
   ]
  },
  {
   "cell_type": "code",
   "execution_count": 3,
   "metadata": {},
   "outputs": [],
   "source": [
    "regulonModules = miner.read_json(os.path.join(input_path,\"GBM\\\\results\\\\MINER\\\\MINER_MicroLowessRNATMM.08.24.2020\\\\regulons.json\"))"
   ]
  },
  {
   "cell_type": "markdown",
   "metadata": {},
   "source": [
    "# Load primary survival data"
   ]
  },
  {
   "cell_type": "code",
   "execution_count": 5,
   "metadata": {},
   "outputs": [],
   "source": [
    "# load primary survival data (i.e., corresponding to expression data training set)\n",
    "survivalMMRF = pd.read_csv(os.path.join(input_path,\"TCGA_Survival_Gbm.csv\"),index_col=0,header=0)\n",
    "survivalDfMMRF = survivalMMRF.iloc[:,0:2]\n",
    "survivalDfMMRF.columns = [\"duration\",\"observed\"]\n",
    "kmDfMMRF = miner.kmAnalysis(survivalDf=survivalDfMMRF,durationCol=\"duration\",statusCol=\"observed\")\n",
    "guanSurvivalDfMMRF= miner.guanRank(kmSurvival=kmDfMMRF)"
   ]
  },
  {
   "cell_type": "markdown",
   "metadata": {},
   "source": [
    "# Survival analysis of regulons"
   ]
  },
  {
   "cell_type": "code",
   "execution_count": 7,
   "metadata": {},
   "outputs": [
    {
     "name": "stdout",
     "output_type": "stream",
     "text": [
      "\n",
      "High-risk regulons:\n",
      "            HR       p-value\n",
      "1518  5.014802  5.308803e-07\n",
      "3123  4.567590  4.933645e-06\n",
      "2604  4.452387  8.492082e-06\n",
      "66    4.176004  2.966745e-05\n",
      "116   4.162867  3.142767e-05\n",
      "\n",
      "Low-risk regulons\n",
      "            HR   p-value\n",
      "1519 -3.855115  0.000116\n",
      "1502 -3.877505  0.000106\n",
      "195  -3.881185  0.000104\n",
      "3082 -3.937179  0.000082\n",
      "1545 -4.001801  0.000063\n",
      "Completed regulon risk analysis in 0.82 minutes\n"
     ]
    }
   ],
   "source": [
    "t1 = time.time()\n",
    "\n",
    "cox_regulons_output = miner.parallelMedianSurvivalAnalysis(regulonModules,expressionData,guanSurvivalDfMMRF,numCores=5)\n",
    "cox_regulons_output = cox_regulons_output.iloc[np.argsort(np.array(cox_regulons_output.index).astype(int))]\n",
    "cox_regulons_output.to_csv(os.path.join(resultsDirectory,'CoxProportionalHazardsRegulons.csv'))\n",
    "cox_regulons_output.sort_values(by=\"HR\",ascending=False,inplace=True)\n",
    "\n",
    "print(\"\\nHigh-risk regulons:\")\n",
    "print(cox_regulons_output.iloc[0:5,:])\n",
    "print(\"\\nLow-risk regulons\")\n",
    "print(cox_regulons_output.iloc[-5:,:])\n",
    "\n",
    "t2 = time.time()\n",
    "print(\"Completed regulon risk analysis in {:.2f} minutes\".format((t2-t1)/60.))"
   ]
  },
  {
   "cell_type": "code",
   "execution_count": null,
   "metadata": {},
   "outputs": [],
   "source": []
  }
 ],
 "metadata": {
  "kernelspec": {
   "display_name": "Python 3",
   "language": "python",
   "name": "python3"
  },
  "language_info": {
   "codemirror_mode": {
    "name": "ipython",
    "version": 3
   },
   "file_extension": ".py",
   "mimetype": "text/x-python",
   "name": "python",
   "nbconvert_exporter": "python",
   "pygments_lexer": "ipython3",
   "version": "3.8.3"
  }
 },
 "nbformat": 4,
 "nbformat_minor": 4
}
