{
 "cells": [
  {
   "cell_type": "markdown",
   "metadata": {},
   "source": [
    "# import libraries"
   ]
  },
  {
   "cell_type": "code",
   "execution_count": 66,
   "metadata": {},
   "outputs": [
    {
     "data": {
      "text/plain": [
       "<module 'miner' from 'C:\\\\Users\\\\kkavy\\\\miner.py'>"
      ]
     },
     "execution_count": 66,
     "metadata": {},
     "output_type": "execute_result"
    }
   ],
   "source": [
    "import sys\n",
    "import os\n",
    "os.chdir('E:\\ISB work stuff\\Post-Doc_BaligaLab_GBMSYGNALProject')\n",
    "import miner as miner\n",
    "import numpy as np\n",
    "import pandas as pd\n",
    "import matplotlib.pyplot as plt\n",
    "%matplotlib inline\n",
    "plt.style.use('ggplot')\n",
    "import seaborn as sns\n",
    "import time\n",
    "import imp\n",
    "imp.reload(miner)"
   ]
  },
  {
   "cell_type": "markdown",
   "metadata": {},
   "source": [
    "# Create directories to save output file"
   ]
  },
  {
   "cell_type": "code",
   "execution_count": 67,
   "metadata": {},
   "outputs": [],
   "source": [
    "# Path to the miner directory\n",
    "input_path = os.getcwd()\n",
    "\n",
    "# create name for results folder where output files will be saved\n",
    "resultsFolder = \"results_miner3_gbm_MicroarrayRNA_survival_08252020\"\n",
    "\n",
    "# name of the folder containing the miner network\n",
    "#networkFolder = \"miner_network_results\"\n",
    "networkFolder = \"results_minCorrelation_0o2_50_allFiles_gbm_MicroarrayRNA_survival_08252020\"\n",
    "\n",
    "# create results directory\n",
    "resultsDirectory = os.path.join(os.getcwd(),resultsFolder)\n",
    "if not os.path.isdir(resultsDirectory):\n",
    "    os.mkdir(resultsDirectory)\n",
    "\n",
    "expressionData=pd.read_csv(\"GbmMicroRNAMergedWithIDsZScored.csv\",header=0,index_col=0,sep=\",\")\n",
    "#expressionData=pd.read_csv(\"Rembrandt_MinerInputFiltered.csv\",header=0,index_col=0,sep=\",\")\n",
    "#expressionData=pd.read_csv(\"GSE7696_MinerInputFiltered.csv\",header=0,index_col=0,sep=\",\")\n",
    "#expressionData=pd.read_csv(\"French_MinerInputFiltered.csv\",header=0,index_col=0,sep=\",\")"
   ]
  },
  {
   "cell_type": "markdown",
   "metadata": {},
   "source": [
    "# Load primary data"
   ]
  },
  {
   "cell_type": "code",
   "execution_count": 69,
   "metadata": {},
   "outputs": [],
   "source": [
    "# Load mutations\n",
    "common_mutations1 = pd.read_csv(os.path.join(input_path,'NonSilentPathwayMutationsGbmRNAAndMicroarray07242020.csv'),index_col=0,header=0)\n",
    "common_mutations2 = pd.read_csv(os.path.join(input_path,'SignificantSomaticMutationsGbmRNAAndMicroarray07242020.csv'),index_col=0,header=0)\n",
    "common_mutations3 = pd.read_csv(os.path.join(input_path,'mutations.GBM.TCGA.2019.05.01.csv'),index_col=0,header=0)\n",
    "common_patients_mutations_translocations = list(set(common_mutations3.columns)&set(common_mutations2.columns)&set(common_mutations1.columns))\n",
    "#common_patients_mutations_translocations = list(set(common_mutations3.columns)&set(common_patients_mutations_translocations.columns))\n",
    "mutation_matrix = pd.concat([common_mutations1.loc[:,common_patients_mutations_translocations],common_mutations2.loc[:,common_patients_mutations_translocations],common_mutations3.loc[:,common_patients_mutations_translocations]],axis=0)\n",
    "\n",
    "\n",
    "#If previous results exist, use miner.read_json to load them\n",
    "#revisedClusters = miner.read_json(os.path.join(input_path,\"GBM\\\\results\\\\MINER\\\\MINER_MicroLowess.07.20.2020\\\\coexpressionDictionary.json\"))\n",
    "#coexpressionModules = miner.read_json(os.path.join(input_path,\"GBM\\\\results\\\\MINER\\\\MINER_MicroLowess.07.20.2020\\\\coexpressionModules.json\"))\n",
    "regulonModules = miner.read_json(os.path.join(input_path,\"GBM\\\\results\\\\MINER\\\\MINER_MicroLowessRNATMM.08.24.2020\\\\regulons.json\"))\n",
    "#regulonDfMicroGbmLatest = pd.read_csv(\"regulonDfDiseaseRelevant.csv\", header = 0)\n",
    "#regulonDfMicroGbmLatest = list(regulonDfMicroGbmLatest['Regulon_ID'].drop_duplicates())\n",
    "#regulonDfMicroGbmLatest = [str(i) for i in regulonDfMicroGbmLatest]\n",
    "#regulonModules = dict((k, regulonModules[k]) for k in regulonDfMicroGbmLatest if k in regulonModules)\n",
    "#mechanisticOutput = miner.read_json(os.path.join(input_path,\"GBM\\\\results\\\\MINER\\\\MINER_MicroLowess.07.20.2020\\\\mechanisticOutput.json\"))\n",
    "overExpressedMembersMatrix = pd.read_csv(os.path.join(input_path,\"GBM\\\\results\\\\MINER\\\\MINER_MicroLowessRNATMM.08.24.2020\\\\overExpressedMembers.csv\"),index_col=0,header=0)\n",
    "overExpressedMembersMatrix.index = np.array(overExpressedMembersMatrix.index).astype(str)\n",
    "underExpressedMembersMatrix = pd.read_csv(os.path.join(input_path,\"GBM\\\\results\\\\MINER\\\\MINER_MicroLowessRNATMM.08.24.2020\\\\underExpressedMembers.csv\"),index_col=0,header=0)\n",
    "underExpressedMembersMatrix.index = np.array(underExpressedMembersMatrix.index).astype(str)\n",
    "eigengenes = pd.read_csv(os.path.join(input_path,\"GBM\\\\results\\\\MINER\\\\MINER_MicroLowessRNATMM.08.24.2020\\\\eigengenes.csv\"),index_col=0,header=0)\n",
    "eigengenes.index = np.array(underExpressedMembersMatrix.index).astype(str)\n",
    "diff_matrix_MMRF = overExpressedMembersMatrix-underExpressedMembersMatrix\n",
    "diff_matrix_MMRF.to_csv('GbmMinerMicroRNADiffMatrix.csv')"
   ]
  },
  {
   "cell_type": "markdown",
   "metadata": {},
   "source": [
    "# Random forest survival using sci-kit survival"
   ]
  },
  {
   "cell_type": "code",
   "execution_count": 1,
   "metadata": {},
   "outputs": [],
   "source": [
    "import pandas as pd\n",
    "import matplotlib.pyplot as plt\n",
    "import numpy as np\n",
    "%matplotlib inline\n",
    "\n",
    "from sklearn.model_selection import train_test_split\n",
    "from sklearn.preprocessing import OrdinalEncoder\n",
    "\n",
    "from sksurv.datasets import load_gbsg2\n",
    "from sksurv.preprocessing import OneHotEncoder\n",
    "from sksurv.ensemble import RandomSurvivalForest"
   ]
  },
  {
   "cell_type": "code",
   "execution_count": 177,
   "metadata": {},
   "outputs": [
    {
     "name": "stderr",
     "output_type": "stream",
     "text": [
      "C:\\Users\\kkavy\\anaconda3\\lib\\site-packages\\ipykernel_launcher.py:6: SettingWithCopyWarning: \n",
      "A value is trying to be set on a copy of a slice from a DataFrame.\n",
      "Try using .loc[row_indexer,col_indexer] = value instead\n",
      "\n",
      "See the caveats in the documentation: http://pandas.pydata.org/pandas-docs/stable/user_guide/indexing.html#returning-a-view-versus-a-copy\n",
      "  \n"
     ]
    }
   ],
   "source": [
    "TrainingDataTCGA = pd.read_csv(\"overExpressedMembersGBMTCGAMicroRNACoxPVAL0.005.csv\", header = 0)\n",
    "TrainingDataTCGA = TrainingDataTCGA[TrainingDataTCGA['Subtype'] == 'mesenchymal']\n",
    "TrainingDataTCGA['D_PFS_FLAG'] = np.where(TrainingDataTCGA['D_PFS_FLAG']== 1, True, False)\n",
    "TrainingDataTCGA['D_PFS'] = TrainingDataTCGA['D_PFS'].astype(float)\n",
    "subset = TrainingDataTCGA[['D_PFS_FLAG', 'D_PFS']]\n",
    "subset['D_PFS'] = subset['D_PFS'].astype(float)\n",
    "y = [tuple(x) for x in subset.values]\n",
    "dt=np.dtype({'names':['cens','time'], 'formats':['bool', 'f8']})\n",
    "y_pval0o005OxMesen = np.array(y, dtype=dt)\n",
    "X_trim = TrainingDataTCGA.drop(\"Patient_ID\", axis=1)\n",
    "X_trim = X_trim.drop(\"D_PFS_FLAG\", axis=1)\n",
    "X_trim = X_trim.drop(\"D_PFS\", axis=1)\n",
    "X_trim = X_trim.drop(\"Subtype\", axis=1)\n",
    "X_trim = X_trim.drop(\"MGMT_status\", axis=1)\n",
    "X_trim = X_trim.drop(\"IDH1Status\", axis=1)\n",
    "Xt_pval0o005OxMesen = OneHotEncoder().fit_transform(X_trim)\n",
    "#Xt = np.column_stack(Xt.values)\n",
    "\n",
    "feature_names = X_trim.columns.tolist()"
   ]
  },
  {
   "cell_type": "markdown",
   "metadata": {},
   "source": [
    "# Random survival forest with network activity (-1, 0, +1) of regulons having Cox HR P-val <= 0.05"
   ]
  },
  {
   "cell_type": "code",
   "execution_count": 169,
   "metadata": {},
   "outputs": [
    {
     "name": "stdout",
     "output_type": "stream",
     "text": [
      "0.5600754310344828\n",
      "0      181.842270\n",
      "1      299.536759\n",
      "2      313.473750\n",
      "3      281.952422\n",
      "4      295.833123\n",
      "          ...    \n",
      "127    144.690142\n",
      "128    300.471138\n",
      "129    331.810431\n",
      "130    266.763329\n",
      "131    265.950766\n",
      "Length: 132, dtype: float64\n",
      "[0.56086957 0.5868695  0.48249027 0.45623987 0.48198198 0.52020202\n",
      " 0.51345756 0.53663366 0.49914384 0.49554896]\n"
     ]
    },
    {
     "name": "stderr",
     "output_type": "stream",
     "text": [
      "C:\\Users\\kkavy\\anaconda3\\lib\\site-packages\\sksurv\\linear_model\\coxph.py:80: RuntimeWarning: overflow encountered in exp\n",
      "  numpy.exp(- self.cum_baseline_hazard_.y))\n"
     ]
    },
    {
     "name": "stdout",
     "output_type": "stream",
     "text": [
      "0.5600754310344828 0.5573814655172413 0.5\n",
      "0.190095982398402 0.30555871624146136 0.2524245824498522 0.2001600130694731\n"
     ]
    },
    {
     "data": {
      "image/png": "[encoded data removed]",
      "text/plain": [
       "<Figure size 432x288 with 1 Axes>"
      ]
     },
     "metadata": {},
     "output_type": "display_data"
    }
   ],
   "source": [
    "random_state = 20\n",
    "\n",
    "Xt = Xt_pval0o05\n",
    "y = y_pval0o05\n",
    "X_train, X_test, y_train, y_test = train_test_split(\n",
    "    Xt, y, test_size=0.25, random_state=random_state)\n",
    "\n",
    "from sklearn.model_selection import cross_val_score\n",
    "rsf = RandomSurvivalForest(n_estimators=1000,\n",
    "                           min_samples_split=10,\n",
    "                           min_samples_leaf=15,\n",
    "                           max_features=\"sqrt\",\n",
    "                           n_jobs=-1,\n",
    "                           random_state=random_state)\n",
    "rsf.fit(X_train, y_train)\n",
    "print(rsf.score(X_test, y_test))\n",
    "print(pd.Series(rsf.predict(X_test)))\n",
    "\n",
    "#import eli5\n",
    "#from eli5.sklearn import PermutationImportance\n",
    "\n",
    "#perm = PermutationImportance(rsf, n_iter=15, random_state=random_state)\n",
    "#perm.fit(X_test, y_test)\n",
    "#eli5.show_weights(perm, feature_names=feature_names)\n",
    "\n",
    "rsf.fit(Xt, y)\n",
    "scores = cross_val_score(rsf, Xt, y, cv=10)\n",
    "print(scores)\n",
    "\n",
    "\n",
    "from sksurv.metrics import (concordance_index_censored,\n",
    "                            concordance_index_ipcw,\n",
    "                            cumulative_dynamic_auc)\n",
    "va_times = np.arange(3, 3881, 7)\n",
    "# estimate performance on training data, thus use `va_y` twice.\n",
    "va_auc, va_mean_auc = cumulative_dynamic_auc(y, y, rsf.predict(Xt), va_times)\n",
    "\n",
    "plt.plot(va_times, va_auc, marker=\"o\")\n",
    "plt.axhline(va_mean_auc, linestyle=\"--\")\n",
    "plt.xlabel(\"days from enrollment\")\n",
    "plt.ylabel(\"time-dependent AUC\")\n",
    "plt.grid(True)\n",
    "\n",
    "from sksurv.linear_model import CoxnetSurvivalAnalysis\n",
    "cph = CoxnetSurvivalAnalysis(l1_ratio=0.99, fit_baseline_model=True)\n",
    "cph.fit(X_train, y_train)\n",
    "rsf.fit(X_train, y_train)\n",
    "rsf_c = rsf.score(X_test, y_test)\n",
    "cph_c = cph.score(X_test, y_test)\n",
    "import numpy as np\n",
    "\n",
    "lower, upper = np.percentile(y[\"time\"], [10, 90])\n",
    "times = np.arange(lower, upper + 1)\n",
    "rsf_surv_prob = np.row_stack([\n",
    "    fn(times)\n",
    "    for fn in rsf.predict_survival_function(X_test, return_array=False)\n",
    "])\n",
    "cph_surv_prob = np.row_stack([\n",
    "    fn(times)\n",
    "    for fn in cph.predict_survival_function(X_test)\n",
    "])\n",
    "random_surv_prob = 0.5 * np.ones((y_test.shape[0], times.shape[0]))\n",
    "\n",
    "from sksurv.functions import StepFunction\n",
    "from sksurv.nonparametric import kaplan_meier_estimator\n",
    "\n",
    "km_func = StepFunction(*kaplan_meier_estimator(y_test[\"cens\"], y_test[\"time\"]))\n",
    "km_surv_prob = np.tile(km_func(times), (y_test.shape[0], 1))\n",
    "\n",
    "from sksurv.metrics import integrated_brier_score\n",
    "\n",
    "random_brier = integrated_brier_score(y, y_test, random_surv_prob, times)\n",
    "km_brier = integrated_brier_score(y, y_test, km_surv_prob, times)\n",
    "rsf_brier = integrated_brier_score(y, y_test, rsf_surv_prob, times)\n",
    "cph_brier = integrated_brier_score(y, y_test, cph_surv_prob, times)\n",
    "print(rsf_c, cph_c, 0.5)\n",
    "print(rsf_brier, cph_brier, random_brier, km_brier)"
   ]
  },
  {
   "cell_type": "markdown",
   "metadata": {},
   "source": [
    "# Random survival forest with network activity (only 0 or +1) of regulons having Cox HR P-val <= 0.05"
   ]
  },
  {
   "cell_type": "code",
   "execution_count": 170,
   "metadata": {},
   "outputs": [
    {
     "name": "stdout",
     "output_type": "stream",
     "text": [
      "0.58867341202923\n",
      "0      356.638303\n",
      "1      215.941870\n",
      "2      289.418832\n",
      "3      293.577523\n",
      "4      322.912657\n",
      "          ...    \n",
      "127    310.156572\n",
      "128    264.644138\n",
      "129    240.018839\n",
      "130    295.401915\n",
      "131    317.339286\n",
      "Length: 132, dtype: float64\n",
      "[0.63001486 0.54778029 0.49344978 0.55583333 0.61660777 0.55102041\n",
      " 0.71550256 0.59931896 0.51567944 0.56163265]\n"
     ]
    },
    {
     "name": "stderr",
     "output_type": "stream",
     "text": [
      "C:\\Users\\kkavy\\anaconda3\\lib\\site-packages\\sksurv\\linear_model\\coxph.py:80: RuntimeWarning: overflow encountered in exp\n",
      "  numpy.exp(- self.cum_baseline_hazard_.y))\n"
     ]
    },
    {
     "name": "stdout",
     "output_type": "stream",
     "text": [
      "0.58867341202923 0.6089094997189433 0.5\n",
      "0.18559300272026216 0.3039472226232357 0.24490162084232345 0.19518797277740302\n"
     ]
    },
    {
     "data": {
      "image/png": "[encoded data removed]",
      "text/plain": [
       "<Figure size 432x288 with 1 Axes>"
      ]
     },
     "metadata": {},
     "output_type": "display_data"
    }
   ],
   "source": [
    "random_state = 20\n",
    "\n",
    "Xt = Xt_pval0o05Ox\n",
    "y = y_pval0o05Ox\n",
    "X_train, X_test, y_train, y_test = train_test_split(\n",
    "    Xt, y, test_size=0.25, random_state=random_state)\n",
    "\n",
    "from sklearn.model_selection import cross_val_score\n",
    "rsf = RandomSurvivalForest(n_estimators=1000,\n",
    "                           min_samples_split=10,\n",
    "                           min_samples_leaf=15,\n",
    "                           max_features=\"sqrt\",\n",
    "                           n_jobs=-1,\n",
    "                           random_state=random_state)\n",
    "rsf.fit(X_train, y_train)\n",
    "print(rsf.score(X_test, y_test))\n",
    "print(pd.Series(rsf.predict(X_test)))\n",
    "\n",
    "#import eli5\n",
    "#from eli5.sklearn import PermutationImportance\n",
    "\n",
    "#perm = PermutationImportance(rsf, n_iter=15, random_state=random_state)\n",
    "#perm.fit(X_test, y_test)\n",
    "#eli5.show_weights(perm, feature_names=feature_names)\n",
    "\n",
    "rsf.fit(Xt, y)\n",
    "scores = cross_val_score(rsf, Xt, y, cv=10)\n",
    "print(scores)\n",
    "\n",
    "\n",
    "from sksurv.metrics import (concordance_index_censored,\n",
    "                            concordance_index_ipcw,\n",
    "                            cumulative_dynamic_auc)\n",
    "va_times = np.arange(3, 3881, 7)\n",
    "# estimate performance on training data, thus use `va_y` twice.\n",
    "va_auc, va_mean_auc = cumulative_dynamic_auc(y, y, rsf.predict(Xt), va_times)\n",
    "\n",
    "plt.plot(va_times, va_auc, marker=\"o\")\n",
    "plt.axhline(va_mean_auc, linestyle=\"--\")\n",
    "plt.xlabel(\"days from enrollment\")\n",
    "plt.ylabel(\"time-dependent AUC\")\n",
    "plt.grid(True)\n",
    "\n",
    "from sksurv.linear_model import CoxnetSurvivalAnalysis\n",
    "cph = CoxnetSurvivalAnalysis(l1_ratio=0.99, fit_baseline_model=True)\n",
    "cph.fit(X_train, y_train)\n",
    "rsf.fit(X_train, y_train)\n",
    "rsf_c = rsf.score(X_test, y_test)\n",
    "cph_c = cph.score(X_test, y_test)\n",
    "import numpy as np\n",
    "\n",
    "lower, upper = np.percentile(y[\"time\"], [10, 90])\n",
    "times = np.arange(lower, upper + 1)\n",
    "rsf_surv_prob = np.row_stack([\n",
    "    fn(times)\n",
    "    for fn in rsf.predict_survival_function(X_test, return_array=False)\n",
    "])\n",
    "cph_surv_prob = np.row_stack([\n",
    "    fn(times)\n",
    "    for fn in cph.predict_survival_function(X_test)\n",
    "])\n",
    "random_surv_prob = 0.5 * np.ones((y_test.shape[0], times.shape[0]))\n",
    "\n",
    "from sksurv.functions import StepFunction\n",
    "from sksurv.nonparametric import kaplan_meier_estimator\n",
    "\n",
    "km_func = StepFunction(*kaplan_meier_estimator(y_test[\"cens\"], y_test[\"time\"]))\n",
    "km_surv_prob = np.tile(km_func(times), (y_test.shape[0], 1))\n",
    "\n",
    "from sksurv.metrics import integrated_brier_score\n",
    "\n",
    "random_brier = integrated_brier_score(y, y_test, random_surv_prob, times)\n",
    "km_brier = integrated_brier_score(y, y_test, km_surv_prob, times)\n",
    "rsf_brier = integrated_brier_score(y, y_test, rsf_surv_prob, times)\n",
    "cph_brier = integrated_brier_score(y, y_test, cph_surv_prob, times)\n",
    "print(rsf_c, cph_c, 0.5)\n",
    "print(rsf_brier, cph_brier, random_brier, km_brier)"
   ]
  },
  {
   "cell_type": "markdown",
   "metadata": {},
   "source": [
    "# Random survival forest with network activity (only 0 or +1) of regulons having Cox HR P-val <= 0.005 Only Mesenchymal"
   ]
  },
  {
   "cell_type": "code",
   "execution_count": 178,
   "metadata": {},
   "outputs": [
    {
     "name": "stdout",
     "output_type": "stream",
     "text": [
      "0.484375\n",
      "0      90.066549\n",
      "1      76.054919\n",
      "2      74.197852\n",
      "3      98.951869\n",
      "4      99.015354\n",
      "5      86.967608\n",
      "6     111.705957\n",
      "7      70.504003\n",
      "8      87.365762\n",
      "9      72.561624\n",
      "10     84.655520\n",
      "11     65.957759\n",
      "12     98.784886\n",
      "13     73.744282\n",
      "14     78.166102\n",
      "15     80.751548\n",
      "16     97.930964\n",
      "17     84.045773\n",
      "18     71.634905\n",
      "19     90.423505\n",
      "20     73.701448\n",
      "21    106.747101\n",
      "22    106.435650\n",
      "23     74.011570\n",
      "24     89.825073\n",
      "25    108.044419\n",
      "26    104.390320\n",
      "27     78.278418\n",
      "28    121.371908\n",
      "29    105.451226\n",
      "30     83.745307\n",
      "31     80.025824\n",
      "32     75.076910\n",
      "33     78.535476\n",
      "34     96.940483\n",
      "35    116.101012\n",
      "36     75.178623\n",
      "37     76.852959\n",
      "38     99.219416\n",
      "39     82.464763\n",
      "dtype: float64\n",
      "[0.525      0.525      0.525      0.40909091 0.46391753 0.5210084\n",
      " 0.74166667 0.75       0.40909091 0.49514563]\n"
     ]
    },
    {
     "name": "stderr",
     "output_type": "stream",
     "text": [
      "C:\\Users\\kkavy\\anaconda3\\lib\\site-packages\\sksurv\\linear_model\\coxph.py:80: RuntimeWarning: overflow encountered in exp\n",
      "  numpy.exp(- self.cum_baseline_hazard_.y))\n",
      "C:\\Users\\kkavy\\anaconda3\\lib\\site-packages\\sksurv\\linear_model\\coxph.py:123: RuntimeWarning: overflow encountered in power\n",
      "  y=numpy.power(self.baseline_survival_.y, risk_score[i]))\n"
     ]
    },
    {
     "name": "stdout",
     "output_type": "stream",
     "text": [
      "0.484375 0.3693181818181818 0.5\n",
      "0.1844937591080927 0.25783135921296074 0.1768425442321444\n"
     ]
    },
    {
     "data": {
      "image/png": "[encoded data removed]",
      "text/plain": [
       "<Figure size 432x288 with 1 Axes>"
      ]
     },
     "metadata": {},
     "output_type": "display_data"
    }
   ],
   "source": [
    "random_state = 20\n",
    "\n",
    "Xt = Xt_pval0o005OxMesen\n",
    "y = y_pval0o005OxMesen\n",
    "X_train, X_test, y_train, y_test = train_test_split(\n",
    "    Xt, y, test_size=0.25, random_state=random_state)\n",
    "\n",
    "from sklearn.model_selection import cross_val_score\n",
    "rsf = RandomSurvivalForest(n_estimators=1000,\n",
    "                           min_samples_split=10,\n",
    "                           min_samples_leaf=15,\n",
    "                           max_features=\"sqrt\",\n",
    "                           n_jobs=-1,\n",
    "                           random_state=random_state)\n",
    "rsf.fit(X_train, y_train)\n",
    "print(rsf.score(X_test, y_test))\n",
    "print(pd.Series(rsf.predict(X_test)))\n",
    "\n",
    "#import eli5\n",
    "#from eli5.sklearn import PermutationImportance\n",
    "\n",
    "#perm = PermutationImportance(rsf, n_iter=15, random_state=random_state)\n",
    "#perm.fit(X_test, y_test)\n",
    "#eli5.show_weights(perm, feature_names=feature_names)\n",
    "\n",
    "rsf.fit(Xt, y)\n",
    "scores = cross_val_score(rsf, Xt, y, cv=10)\n",
    "print(scores)\n",
    "\n",
    "\n",
    "from sksurv.metrics import (concordance_index_censored,\n",
    "                            concordance_index_ipcw,\n",
    "                            cumulative_dynamic_auc)\n",
    "va_times = np.arange(6, 3881, 7)\n",
    "# estimate performance on training data, thus use `va_y` twice.\n",
    "va_auc, va_mean_auc = cumulative_dynamic_auc(y, y, rsf.predict(Xt), va_times)\n",
    "\n",
    "plt.plot(va_times, va_auc, marker=\"o\")\n",
    "plt.axhline(va_mean_auc, linestyle=\"--\")\n",
    "plt.xlabel(\"days from enrollment\")\n",
    "plt.ylabel(\"time-dependent AUC\")\n",
    "plt.grid(True)\n",
    "\n",
    "from sksurv.linear_model import CoxnetSurvivalAnalysis\n",
    "cph = CoxnetSurvivalAnalysis(l1_ratio=0.99, fit_baseline_model=True)\n",
    "cph.fit(X_train, y_train)\n",
    "rsf.fit(X_train, y_train)\n",
    "rsf_c = rsf.score(X_test, y_test)\n",
    "cph_c = cph.score(X_test, y_test)\n",
    "import numpy as np\n",
    "\n",
    "lower, upper = np.percentile(y[\"time\"], [10, 90])\n",
    "times = np.arange(lower, upper + 1)\n",
    "rsf_surv_prob = np.row_stack([\n",
    "    fn(times)\n",
    "    for fn in rsf.predict_survival_function(X_test, return_array=False)\n",
    "])\n",
    "cph_surv_prob = np.row_stack([\n",
    "    fn(times)\n",
    "    for fn in cph.predict_survival_function(X_test)\n",
    "])\n",
    "random_surv_prob = 0.5 * np.ones((y_test.shape[0], times.shape[0]))\n",
    "\n",
    "from sksurv.functions import StepFunction\n",
    "from sksurv.nonparametric import kaplan_meier_estimator\n",
    "\n",
    "km_func = StepFunction(*kaplan_meier_estimator(y_test[\"cens\"], y_test[\"time\"]))\n",
    "km_surv_prob = np.tile(km_func(times), (y_test.shape[0], 1))\n",
    "\n",
    "from sksurv.metrics import integrated_brier_score\n",
    "\n",
    "random_brier = integrated_brier_score(y, y_test, random_surv_prob, times)\n",
    "km_brier = integrated_brier_score(y, y_test, km_surv_prob, times)\n",
    "rsf_brier = integrated_brier_score(y, y_test, rsf_surv_prob, times)\n",
    "#cph_brier = integrated_brier_score(y, y_test, cph_surv_prob, times)\n",
    "print(rsf_c, cph_c, 0.5)\n",
    "print(rsf_brier, random_brier, km_brier)"
   ]
  },
  {
   "cell_type": "markdown",
   "metadata": {},
   "source": [
    "# Random survival forest with network activity (only 0 or +1) of regulons having Cox HR P-val <= 0.005 Only UnMethylated"
   ]
  },
  {
   "cell_type": "code",
   "execution_count": 185,
   "metadata": {},
   "outputs": [
    {
     "name": "stdout",
     "output_type": "stream",
     "text": [
      "0.467687074829932\n",
      "0      78.033900\n",
      "1      95.006835\n",
      "2      81.978523\n",
      "3      75.381123\n",
      "4      64.954213\n",
      "5     102.240826\n",
      "6      64.304138\n",
      "7      98.589409\n",
      "8      87.042266\n",
      "9     119.800303\n",
      "10     90.096534\n",
      "11    110.081455\n",
      "12     96.880570\n",
      "13     80.509199\n",
      "14     98.028470\n",
      "15    121.783193\n",
      "16     66.772304\n",
      "17     75.110215\n",
      "18    108.713479\n",
      "19     79.819775\n",
      "20    106.461599\n",
      "21     77.934774\n",
      "22     67.518438\n",
      "23    117.911735\n",
      "24    109.667877\n",
      "25     68.869502\n",
      "26    119.099833\n",
      "27    106.337135\n",
      "28     81.635732\n",
      "29     77.188378\n",
      "30    103.834649\n",
      "31    118.864778\n",
      "32    106.491304\n",
      "33     70.549738\n",
      "34     78.866641\n",
      "dtype: float64\n",
      "[0.69230769 0.61538462 0.61904762 0.45054945 0.62637363 0.26666667\n",
      " 0.51648352 0.61538462 0.56043956 0.3974359 ]\n"
     ]
    },
    {
     "name": "stderr",
     "output_type": "stream",
     "text": [
      "C:\\Users\\kkavy\\anaconda3\\lib\\site-packages\\sksurv\\linear_model\\coxph.py:80: RuntimeWarning: overflow encountered in exp\n",
      "  numpy.exp(- self.cum_baseline_hazard_.y))\n"
     ]
    },
    {
     "ename": "ValueError",
     "evalue": "x must be within [22.000000; 3524.000000]",
     "output_type": "error",
     "traceback": [
      "\u001b[1;31m---------------------------------------------------------------------------\u001b[0m",
      "\u001b[1;31mValueError\u001b[0m                                Traceback (most recent call last)",
      "\u001b[1;32m<ipython-input-185-f0dd106ae8b6>\u001b[0m in \u001b[0;36m<module>\u001b[1;34m\u001b[0m\n\u001b[0;32m     54\u001b[0m rsf_surv_prob = np.row_stack([\n\u001b[0;32m     55\u001b[0m     \u001b[0mfn\u001b[0m\u001b[1;33m(\u001b[0m\u001b[0mtimes\u001b[0m\u001b[1;33m)\u001b[0m\u001b[1;33m\u001b[0m\u001b[1;33m\u001b[0m\u001b[0m\n\u001b[1;32m---> 56\u001b[1;33m     \u001b[1;32mfor\u001b[0m \u001b[0mfn\u001b[0m \u001b[1;32min\u001b[0m \u001b[0mrsf\u001b[0m\u001b[1;33m.\u001b[0m\u001b[0mpredict_survival_function\u001b[0m\u001b[1;33m(\u001b[0m\u001b[0mX_test\u001b[0m\u001b[1;33m,\u001b[0m \u001b[0mreturn_array\u001b[0m\u001b[1;33m=\u001b[0m\u001b[1;32mFalse\u001b[0m\u001b[1;33m)\u001b[0m\u001b[1;33m\u001b[0m\u001b[1;33m\u001b[0m\u001b[0m\n\u001b[0m\u001b[0;32m     57\u001b[0m ])\n\u001b[0;32m     58\u001b[0m cph_surv_prob = np.row_stack([\n",
      "\u001b[1;32m<ipython-input-185-f0dd106ae8b6>\u001b[0m in \u001b[0;36m<listcomp>\u001b[1;34m(.0)\u001b[0m\n\u001b[0;32m     54\u001b[0m rsf_surv_prob = np.row_stack([\n\u001b[0;32m     55\u001b[0m     \u001b[0mfn\u001b[0m\u001b[1;33m(\u001b[0m\u001b[0mtimes\u001b[0m\u001b[1;33m)\u001b[0m\u001b[1;33m\u001b[0m\u001b[1;33m\u001b[0m\u001b[0m\n\u001b[1;32m---> 56\u001b[1;33m     \u001b[1;32mfor\u001b[0m \u001b[0mfn\u001b[0m \u001b[1;32min\u001b[0m \u001b[0mrsf\u001b[0m\u001b[1;33m.\u001b[0m\u001b[0mpredict_survival_function\u001b[0m\u001b[1;33m(\u001b[0m\u001b[0mX_test\u001b[0m\u001b[1;33m,\u001b[0m \u001b[0mreturn_array\u001b[0m\u001b[1;33m=\u001b[0m\u001b[1;32mFalse\u001b[0m\u001b[1;33m)\u001b[0m\u001b[1;33m\u001b[0m\u001b[1;33m\u001b[0m\u001b[0m\n\u001b[0m\u001b[0;32m     57\u001b[0m ])\n\u001b[0;32m     58\u001b[0m cph_surv_prob = np.row_stack([\n",
      "\u001b[1;32m~\\anaconda3\\lib\\site-packages\\sksurv\\functions.py\u001b[0m in \u001b[0;36m__call__\u001b[1;34m(self, x)\u001b[0m\n\u001b[0;32m     65\u001b[0m         \u001b[1;32mif\u001b[0m \u001b[0mnumpy\u001b[0m\u001b[1;33m.\u001b[0m\u001b[0mmin\u001b[0m\u001b[1;33m(\u001b[0m\u001b[0mx\u001b[0m\u001b[1;33m)\u001b[0m \u001b[1;33m<\u001b[0m \u001b[0mself\u001b[0m\u001b[1;33m.\u001b[0m\u001b[0mx\u001b[0m\u001b[1;33m[\u001b[0m\u001b[1;36m0\u001b[0m\u001b[1;33m]\u001b[0m \u001b[1;32mor\u001b[0m \u001b[0mnumpy\u001b[0m\u001b[1;33m.\u001b[0m\u001b[0mmax\u001b[0m\u001b[1;33m(\u001b[0m\u001b[0mx\u001b[0m\u001b[1;33m)\u001b[0m \u001b[1;33m>\u001b[0m \u001b[0mself\u001b[0m\u001b[1;33m.\u001b[0m\u001b[0mx\u001b[0m\u001b[1;33m[\u001b[0m\u001b[1;33m-\u001b[0m\u001b[1;36m1\u001b[0m\u001b[1;33m]\u001b[0m\u001b[1;33m:\u001b[0m\u001b[1;33m\u001b[0m\u001b[1;33m\u001b[0m\u001b[0m\n\u001b[0;32m     66\u001b[0m             raise ValueError(\n\u001b[1;32m---> 67\u001b[1;33m                 \"x must be within [%f; %f]\" % (self.x[0], self.x[-1]))\n\u001b[0m\u001b[0;32m     68\u001b[0m         \u001b[0mi\u001b[0m \u001b[1;33m=\u001b[0m \u001b[0mnumpy\u001b[0m\u001b[1;33m.\u001b[0m\u001b[0msearchsorted\u001b[0m\u001b[1;33m(\u001b[0m\u001b[0mself\u001b[0m\u001b[1;33m.\u001b[0m\u001b[0mx\u001b[0m\u001b[1;33m,\u001b[0m \u001b[0mx\u001b[0m\u001b[1;33m,\u001b[0m \u001b[0mside\u001b[0m\u001b[1;33m=\u001b[0m\u001b[1;34m'left'\u001b[0m\u001b[1;33m)\u001b[0m\u001b[1;33m\u001b[0m\u001b[1;33m\u001b[0m\u001b[0m\n\u001b[0;32m     69\u001b[0m         \u001b[0mnot_exact\u001b[0m \u001b[1;33m=\u001b[0m \u001b[0mself\u001b[0m\u001b[1;33m.\u001b[0m\u001b[0mx\u001b[0m\u001b[1;33m[\u001b[0m\u001b[0mi\u001b[0m\u001b[1;33m]\u001b[0m \u001b[1;33m!=\u001b[0m \u001b[0mx\u001b[0m\u001b[1;33m\u001b[0m\u001b[1;33m\u001b[0m\u001b[0m\n",
      "\u001b[1;31mValueError\u001b[0m: x must be within [22.000000; 3524.000000]"
     ]
    },
    {
     "data": {
      "image/png": "[encoded data removed]",
      "text/plain": [
       "<Figure size 432x288 with 1 Axes>"
      ]
     },
     "metadata": {},
     "output_type": "display_data"
    }
   ],
   "source": [
    "random_state = 20\n",
    "\n",
    "Xt = Xt_pval0o005OxUnMeth\n",
    "y = y_pval0o005OxUnMeth\n",
    "X_train, X_test, y_train, y_test = train_test_split(\n",
    "    Xt, y, test_size=0.25, random_state=random_state)\n",
    "\n",
    "from sklearn.model_selection import cross_val_score\n",
    "rsf = RandomSurvivalForest(n_estimators=1000,\n",
    "                           min_samples_split=10,\n",
    "                           min_samples_leaf=15,\n",
    "                           max_features=\"sqrt\",\n",
    "                           n_jobs=-1,\n",
    "                           random_state=random_state)\n",
    "rsf.fit(X_train, y_train)\n",
    "print(rsf.score(X_test, y_test))\n",
    "print(pd.Series(rsf.predict(X_test)))\n",
    "\n",
    "#import eli5\n",
    "#from eli5.sklearn import PermutationImportance\n",
    "\n",
    "#perm = PermutationImportance(rsf, n_iter=15, random_state=random_state)\n",
    "#perm.fit(X_test, y_test)\n",
    "#eli5.show_weights(perm, feature_names=feature_names)\n",
    "\n",
    "rsf.fit(Xt, y)\n",
    "scores = cross_val_score(rsf, Xt, y, cv=10)\n",
    "print(scores)\n",
    "\n",
    "\n",
    "from sksurv.metrics import (concordance_index_censored,\n",
    "                            concordance_index_ipcw,\n",
    "                            cumulative_dynamic_auc)\n",
    "va_times = np.arange(136, 2755, 7)\n",
    "# estimate performance on training data, thus use `va_y` twice.\n",
    "va_auc, va_mean_auc = cumulative_dynamic_auc(y, y, rsf.predict(Xt), va_times)\n",
    "\n",
    "plt.plot(va_times, va_auc, marker=\"o\")\n",
    "plt.axhline(va_mean_auc, linestyle=\"--\")\n",
    "plt.xlabel(\"days from enrollment\")\n",
    "plt.ylabel(\"time-dependent AUC\")\n",
    "plt.grid(True)\n",
    "\n",
    "from sksurv.linear_model import CoxnetSurvivalAnalysis\n",
    "cph = CoxnetSurvivalAnalysis(l1_ratio=0.99, fit_baseline_model=True)\n",
    "cph.fit(X_train, y_train)\n",
    "rsf.fit(X_train, y_train)\n",
    "rsf_c = rsf.score(X_test, y_test)\n",
    "cph_c = cph.score(X_test, y_test)\n",
    "import numpy as np\n",
    "\n",
    "lower, upper = np.percentile(y[\"time\"], [0, 100])\n",
    "times = np.arange(lower, upper)\n",
    "rsf_surv_prob = np.row_stack([\n",
    "    fn(times)\n",
    "    for fn in rsf.predict_survival_function(X_test, return_array=False)\n",
    "])\n",
    "cph_surv_prob = np.row_stack([\n",
    "    fn(times)\n",
    "    for fn in cph.predict_survival_function(X_test)\n",
    "])\n",
    "random_surv_prob = 0.5 * np.ones((y_test.shape[0], times.shape[0]))\n",
    "\n",
    "from sksurv.functions import StepFunction\n",
    "from sksurv.nonparametric import kaplan_meier_estimator\n",
    "\n",
    "km_func = StepFunction(*kaplan_meier_estimator(y_test[\"cens\"], y_test[\"time\"]))\n",
    "#km_surv_prob = np.tile(km_func(times), (y_test.shape[0], 1))\n",
    "\n",
    "from sksurv.metrics import integrated_brier_score\n",
    "\n",
    "random_brier = integrated_brier_score(y, y_test, random_surv_prob, times)\n",
    "#km_brier = integrated_brier_score(y, y_test, km_surv_prob, times)\n",
    "rsf_brier = integrated_brier_score(y, y_test, rsf_surv_prob, times)\n",
    "#cph_brier = integrated_brier_score(y, y_test, cph_surv_prob, times)\n",
    "print(rsf_c, cph_c, 0.5)\n",
    "print(rsf_brier, random_brier)"
   ]
  },
  {
   "cell_type": "markdown",
   "metadata": {},
   "source": [
    "# Feature specific time-dependent AUC"
   ]
  },
  {
   "cell_type": "code",
   "execution_count": null,
   "metadata": {},
   "outputs": [],
   "source": [
    "def plot_cumulative_dynamic_auc(risk_score, label, color=None):\n",
    "    auc, mean_auc = cumulative_dynamic_auc(y_train, y_test, risk_score, times)\n",
    "\n",
    "    plt.plot(times, auc, marker=\"o\", color=color, label=label)\n",
    "    plt.xlabel(\"days from enrollment\")\n",
    "    plt.ylabel(\"time-dependent AUC\")\n",
    "    plt.axhline(mean_auc, color=color, linestyle=\"--\")\n",
    "    plt.legend()\n",
    "\n",
    "num_columns = ['Age','estres','horTh','menostat','pnodes','tsize','tgrade']\n",
    "for i, col in enumerate(num_columns):\n",
    "    plot_cumulative_dynamic_auc(X_test[:, i], col, color=\"C{}\".format(i))\n",
    "    ret = concordance_index_ipcw(y_train, y_test, X_test[:, i], tau=times[-1])"
   ]
  },
  {
   "cell_type": "markdown",
   "metadata": {},
   "source": [
    "# Feature importance"
   ]
  },
  {
   "cell_type": "code",
   "execution_count": null,
   "metadata": {},
   "outputs": [],
   "source": [
    "import eli5\n",
    "from eli5.sklearn import PermutationImportance\n",
    "\n",
    "perm = PermutationImportance(rsf, n_iter=15, random_state=random_state)\n",
    "perm.fit(X_test, y_test)\n",
    "eli5.show_weights(perm, feature_names=feature_names)"
   ]
  },
  {
   "cell_type": "markdown",
   "metadata": {},
   "source": [
    "# Survival probability and cumulative hazard prediction"
   ]
  },
  {
   "cell_type": "code",
   "execution_count": null,
   "metadata": {},
   "outputs": [],
   "source": [
    "surv = rsf.predict_survival_function(X_test_sel)\n",
    "\n",
    "for i, s in enumerate(surv):\n",
    "    plt.step(rsf.event_times_, s, where=\"post\", label=str(i))\n",
    "plt.ylabel(\"Survival probability\")\n",
    "plt.xlabel(\"Time in days\")\n",
    "plt.grid(True)\n",
    "plt.legend()\n",
    "\n",
    "surv = rsf.predict_cumulative_hazard_function(X_test_sel)\n",
    "\n",
    "for i, s in enumerate(surv):\n",
    "    plt.step(rsf.event_times_, s, where=\"post\", label=str(i))\n",
    "plt.ylabel(\"Cumulative hazard\")\n",
    "plt.xlabel(\"Time in days\")\n",
    "plt.grid(True)\n",
    "plt.legend()"
   ]
  }
 ],
 "metadata": {
  "kernelspec": {
   "display_name": "Python 3",
   "language": "python",
   "name": "python3"
  },
  "language_info": {
   "codemirror_mode": {
    "name": "ipython",
    "version": 3
   },
   "file_extension": ".py",
   "mimetype": "text/x-python",
   "name": "python",
   "nbconvert_exporter": "python",
   "pygments_lexer": "ipython3",
   "version": "3.7.6"
  }
 },
 "nbformat": 4,
 "nbformat_minor": 4
}
