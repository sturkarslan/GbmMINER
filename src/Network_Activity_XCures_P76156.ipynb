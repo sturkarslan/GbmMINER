{
 "cells": [
  {
   "cell_type": "markdown",
   "metadata": {},
   "source": [
    "# Load libraries and Network results"
   ]
  },
  {
   "cell_type": "code",
   "execution_count": 1,
   "metadata": {
    "slideshow": {
     "slide_type": "slide"
    },
    "tags": []
   },
   "outputs": [
    {
     "name": "stdout",
     "output_type": "stream",
     "text": [
      "Done\n"
     ]
    }
   ],
   "source": [
    "#!/usr/bin/env python3\n",
    "# -*- coding: utf-8 -*-\n",
    "\"\"\"\n",
    "Created on Wed Dec 01 11:41:42 2020\n",
    "\n",
    "@author: sturkars\n",
    "\"\"\"\n",
    "import os\n",
    "import sys\n",
    "import glob\n",
    "import numpy as np\n",
    "import pandas as pd\n",
    "#import miner as miner\n",
    "from scipy.stats import zscore\n",
    "import miner_py3_kk as miner\n",
    "from tqdm.notebook import tqdm, trange\n",
    "import time\n",
    "\n",
    "# change the working directory\n",
    "#os.chdir('/Users/serdarturkaslan/Documents/GitHub/GbmMINER/data/MINER_MicroLowessRNATMM.08.24.2020/')\n",
    "# output directory\n",
    "output_dir = \"/Volumes/omics4tb2/SYGNAL/XCures\"\n",
    "\n",
    "# Path to the miner directory\n",
    "input_path = \"/Volumes/omics4tb2/SYGNAL/GBM-Serdar/MINER_MicroLowessRNATMM.08.24.2020\"\n",
    "print(\"Done\")"
   ]
  },
  {
   "cell_type": "markdown",
   "metadata": {},
   "source": [
    "# Function to load regulons"
   ]
  },
  {
   "cell_type": "code",
   "execution_count": 2,
   "metadata": {},
   "outputs": [],
   "source": [
    "def loadRegulons(disease_relevant=True,disease_relevant_regulons_file=\"regulonDfGbmMicroRNASigCoxAndStatSig.csv\"):\n",
    "    \n",
    "    # Load regulon Modules\n",
    "    regulonModules = miner.read_json(os.path.join(input_path,\"regulons.json\"))\n",
    "    print(\"Total number of regulons: \" + str(len(regulonModules)))\n",
    "\n",
    "    # load regulon data frame\n",
    "    # All Regulons\n",
    "    regulonDf = pd.read_csv(os.path.join(input_path, \"regulonDf.csv\"), header = 0)\n",
    "    regulonDf = list(regulonDf['Regulon_ID'].drop_duplicates())\n",
    "    regulonDf = [str(i) for i in regulonDf]\n",
    "    \n",
    "\n",
    "    # Disease relevant regulons\n",
    "    regulonDfMicroGbmLatest = pd.read_csv(os.path.join(input_path,disease_relevant_regulons_file), header = 0)\n",
    "    regulonDfMicroGbmLatest = list(regulonDfMicroGbmLatest['Regulon_ID'].drop_duplicates())\n",
    "    regulonDfMicroGbmLatest = [str(i) for i in regulonDfMicroGbmLatest]\n",
    "    regulonModulesFiltered = dict((k, regulonModules[k]) for k in regulonDfMicroGbmLatest if k in regulonModules)\n",
    "    print(\"Filtered number of regulons: \" + str(len(regulonModulesFiltered)))\n",
    "    \n",
    "    if disease_relevant == True:\n",
    "        #regulonModules = dict((k, regulonModules[k]) for k in regulonDfMicroGbmLatest if k in regulonModules)\n",
    "        regulonModules = regulonModulesFiltered \n",
    "        print(\"Returned %s filtered regulons\" %(str(len(regulonModules))))\n",
    "        return(regulonModules)\n",
    "    \n",
    "    else:\n",
    "        regulonModules = dict((k, regulonModules[k]) for k in regulonDf if k in regulonModules)\n",
    "        print(\"Returned %s Total regulons\" %(str(len(regulonModules))))\n",
    "        return(regulonModules)\n"
   ]
  },
  {
   "cell_type": "markdown",
   "metadata": {},
   "source": [
    "# Function to load Programs "
   ]
  },
  {
   "cell_type": "code",
   "execution_count": 3,
   "metadata": {},
   "outputs": [],
   "source": [
    "def loadPrograms(disease_relevant=True,disease_relevant_programs_file=\"transcriptional_programsmiRNAAndSig.json\"):\n",
    "    \n",
    "    # Load transcriptional programs\n",
    "    # All Programs\n",
    "    transcriptional_programs = miner.read_json(os.path.join(input_path,'transcriptional_programs.json'))\n",
    "    print(\"Total # of programs: \", str(len(transcriptional_programs)))\n",
    "    \n",
    "    transcriptional_programs_filtered = miner.read_json(os.path.join(input_path,disease_relevant_programs_file))\n",
    "    print(\"Filtered # of programs: \", str(len(transcriptional_programs_filtered)))\n",
    "    \n",
    "    if disease_relevant == True:\n",
    "            transcriptional_programs = transcriptional_programs_filtered\n",
    "            print(\"Returned %s filtered Programs\" %(str(len(transcriptional_programs_filtered))))\n",
    "    else:\n",
    "        transcriptional_programs = transcriptional_programs\n",
    "        print(\"Returned %s Total Programs\" %(str(len(transcriptional_programs))))\n",
    "\n",
    "    program_list = [transcriptional_programs[str(key)] for key in range(len(transcriptional_programs.keys()))]\n",
    "    \n",
    "    return(program_list)"
   ]
  },
  {
   "cell_type": "markdown",
   "metadata": {
    "tags": []
   },
   "source": [
    "# Function to calculate Program activity"
   ]
  },
  {
   "cell_type": "code",
   "execution_count": 4,
   "metadata": {},
   "outputs": [],
   "source": [
    "def calculateProgramActivity(program_list,regulons,expressionData,outputFile):\n",
    "    \n",
    "    # select reference dictionary for downstream analysis (pr_genes, revisedClusters, coexpressionModules, or regulonModules)\n",
    "    referenceDictionary = createPrGenesDictionary(program_list,regulons)\n",
    "\n",
    "    # create a background matrix used for statistical hypothesis testing\n",
    "    bkgd = miner.backgroundDf(expressionData)\n",
    "\n",
    "    # for each cluster, give samples that show high coherent cluster activity\n",
    "    overExpressedMembers = miner.biclusterMembershipDictionary(referenceDictionary,bkgd,label=2,p=0.05)\n",
    "\n",
    "    # for each clus|ter, give samples that show low coherent cluster activity\n",
    "    underExpressedMembers = miner.biclusterMembershipDictionary(referenceDictionary,bkgd,label=0,p=0.05)\n",
    "\n",
    "    # convert overExpressedMembers dictionary to binary matrix\n",
    "    overExpressedProgramsMatrix = miner.membershipToIncidence(overExpressedMembers,expressionData)\n",
    "\n",
    "    # convert underExpressedMembers dictionary to binary matrix\n",
    "    underExpressedProgramsMatrix = miner.membershipToIncidence(underExpressedMembers,expressionData)\n",
    "\n",
    "    # Create program matrix with values of {-1,0,1}\n",
    "    dfr_programs = overExpressedProgramsMatrix-underExpressedProgramsMatrix\n",
    "    \n",
    "    # Write program activity into a outFile\n",
    "    dfr_programs.to_csv(outputFile)\n",
    "    \n",
    "    return(dfr_programs)"
   ]
  },
  {
   "cell_type": "markdown",
   "metadata": {},
   "source": [
    "# Function to create dictionary of program genes"
   ]
  },
  {
   "cell_type": "code",
   "execution_count": 5,
   "metadata": {},
   "outputs": [],
   "source": [
    "# Create dictionary of program genes\n",
    "# make dictionary of program keys with gene lists as elements\n",
    "def createPrGenesDictionary(program_list, regulons):\n",
    "    pr_genes_expanded = {}\n",
    "    for i in range(len(program_list)):\n",
    "        rgns = program_list[i]\n",
    "        genes = []\n",
    "        for r in rgns:\n",
    "            if r in regulons:\n",
    "                genes.append(regulons[r])\n",
    "        if len(genes) != 0:\n",
    "            genes = list(set(np.hstack(genes)))\n",
    "            pr_genes_expanded[i] = genes\n",
    "\n",
    "    unique_genes = set(x for y in pr_genes_expanded.values() for x in y)\n",
    "        \n",
    "    print(\"Total number of genes: \" + str(len(unique_genes)))\n",
    "    return(pr_genes_expanded)\n"
   ]
  },
  {
   "cell_type": "markdown",
   "metadata": {},
   "source": [
    "# Load data folders"
   ]
  },
  {
   "cell_type": "code",
   "execution_count": 6,
   "metadata": {},
   "outputs": [
    {
     "name": "stdout",
     "output_type": "stream",
     "text": [
      "['/Volumes/omics4tb2/SYGNAL/XCures/P76156/P76156_3/RNA/results_RSEM/P76156_3.genes.results', '/Volumes/omics4tb2/SYGNAL/XCures/P76156/P76156_6/RNA/results_RSEM/P76156_6.genes.results']\n",
      "Total Patients to process: 2\n"
     ]
    }
   ],
   "source": [
    "# Folders for patient data\n",
    "patientDataFolders = glob.glob('/Volumes/omics4tb2/SYGNAL/XCures/P76156/*/RNA/results_RSEM/*.genes.results')\n",
    "patientDataFolders = list(filter(lambda x:'P' in x, patientDataFolders))\n",
    "print(patientDataFolders)\n",
    "print('Total Patients to process: %s' %(len(patientDataFolders)))\n",
    "\n",
    "# Folders for patient data for kallisto\n",
    "# patientDataFolders = glob.glob('/Volumes/omics4tb2/SYGNAL/XCures/P76156/*/RNA/results_kallisto/abundance.tsv')\n",
    "# patientDataFolders = list(filter(lambda x:'P' in x, patientDataFolders))\n",
    "# print(patientDataFolders)\n",
    "# print('Total Patients to process: %s' %(len(patientDataFolders)))"
   ]
  },
  {
   "cell_type": "markdown",
   "metadata": {},
   "source": [
    "# Load Regulons"
   ]
  },
  {
   "cell_type": "code",
   "execution_count": 7,
   "metadata": {},
   "outputs": [
    {
     "name": "stdout",
     "output_type": "stream",
     "text": [
      "Total number of regulons: 3764\n",
      "Filtered number of regulons: 505\n",
      "Returned 505 filtered regulons\n",
      "Total number of regulons: 3764\n",
      "Filtered number of regulons: 505\n",
      "Returned 3764 Total regulons\n"
     ]
    }
   ],
   "source": [
    "# load disease relevant regulons\n",
    "regulonModulesDisease = loadRegulons(disease_relevant=True)\n",
    "\n",
    "#load all regulons\n",
    "regulonModulesAll = loadRegulons(disease_relevant=False)"
   ]
  },
  {
   "cell_type": "markdown",
   "metadata": {
    "tags": []
   },
   "source": [
    "# Load ribosomal genes"
   ]
  },
  {
   "cell_type": "code",
   "execution_count": null,
   "metadata": {},
   "outputs": [],
   "source": [
    "# Load list of ribosomal proteisn to filter the expression data\n",
    "ribosomal = pd.read_csv(\"../data/ribosomal_proteins.txt\", header=0,index_col=0,sep=\"\\t\")\n",
    "ribosomal = list(ribosomal[\"Ensembl gene ID\"])\n",
    "\n",
    "# load biomart gene/transcript mappings if using kallisto results\n",
    "#biomart = pd.read_csv(\"../data/biomart_human_genes_mapping.txt\", header=0,index_col=None,sep=\"\\t\")\n",
    "#biomart = biomart[[\"Gene stable ID\",\"Transcript stable ID version\"]]\n",
    "#biomart = biomart.rename({'Gene stable ID':'GeneID'}, axis=1)"
   ]
  },
  {
   "cell_type": "markdown",
   "metadata": {},
   "source": [
    "# Load background genes"
   ]
  },
  {
   "cell_type": "code",
   "execution_count": 8,
   "metadata": {},
   "outputs": [],
   "source": [
    "# We either use the MINER input expressioin genes as background or all propgram genes\n",
    "def loadBackgroundGenes(backgd_type = \"input\"):\n",
    "    if backgd_type == \"input\":\n",
    "        # Use model input genes as background\n",
    "        # Filter gene expression data only for genes that were in the model building data\n",
    "        model_input_data = pd.read_csv(os.path.join(input_path,'GbmMicroRNAMergedWithIDsZScored.csv'),header=0,index_col=None,sep=\",\")\n",
    "        model_input_genes = list(model_input_data['Unnamed: 0'])\n",
    "        bkgd_genes = [item for sublist in model_input_genes for item in sublist]\n",
    "        \n",
    "        bkgd_genes = set(model_input_genes)\n",
    "        print(\"background Genes:\" + str(len(bkgd_genes)))\n",
    "        bkgd_genes = [x for x in bkgd_genes if x not in ribosomal]\n",
    "        print(\"background Genes after ribosomal remove:\" + str(len(bkgd_genes)))\n",
    "        return(bkgd_genes)\n",
    "        \n",
    "       \n",
    "    if backgd_type == \"program\":\n",
    "        # Use program genes as background\n",
    "        # Filter gene expression data only for program genes across all programs\n",
    "        program_list = loadPrograms(disease_relevant=False)\n",
    "        referenceDictionary = createPrGenesDictionary(program_list, regulonModulesAll)\n",
    "        my_genes =list(referenceDictionary.values())\n",
    "        bkgd_genes = [item for sublist in my_genes for item in sublist]\n",
    "        bkgd_genes = set(bkgd_genes)\n",
    "        print(\"background Genes:\" + str(len(bkgd_genes)))\n",
    "        bkgd_genes = [x for x in bkgd_genes if x not in ribosomal]\n",
    "        print(\"background Genes after ribosomal remove:\" + str(len(bkgd_genes)))\n",
    "        return(bkgd_genes)\n",
    "    "
   ]
  },
  {
   "cell_type": "markdown",
   "metadata": {},
   "source": [
    "# Load Programs"
   ]
  },
  {
   "cell_type": "code",
   "execution_count": 9,
   "metadata": {},
   "outputs": [
    {
     "name": "stdout",
     "output_type": "stream",
     "text": [
      "Total # of programs:  178\n",
      "Filtered # of programs:  33\n",
      "Returned 33 filtered Programs\n",
      "Total # of programs:  178\n",
      "Filtered # of programs:  33\n",
      "Returned 178 Total Programs\n"
     ]
    }
   ],
   "source": [
    "# load disease relevant programs\n",
    "program_list_disease = loadPrograms(disease_relevant=True)\n",
    "\n",
    "# load all programs\n",
    "program_list_all = loadPrograms(disease_relevant=False)"
   ]
  },
  {
   "cell_type": "markdown",
   "metadata": {},
   "source": [
    "# Function to calculate activity stats"
   ]
  },
  {
   "cell_type": "code",
   "execution_count": 10,
   "metadata": {},
   "outputs": [],
   "source": [
    "def activityStats(inputDf,label):\n",
    "    # calculate regulon or program activity stats\n",
    "    overActiveCount = len(inputDf[inputDf[newColName] == 1])\n",
    "    underActiveCount = len(inputDf[inputDf[newColName] == -1])\n",
    "    neutralCount = len(inputDf[inputDf[newColName] == 0])\n",
    "\n",
    "    resSummary = {\"Over\" : [overActiveCount],\n",
    "                          \"Under\" : [underActiveCount],\n",
    "                          \"Neutral\" : [neutralCount],\n",
    "                  \"Type\" : [label]\n",
    "                 }\n",
    "    resSummary = pd.DataFrame(resSummary)\n",
    "    resSummary = resSummary.rename(index={0: patientID})\n",
    "    return(resSummary)"
   ]
  },
  {
   "cell_type": "markdown",
   "metadata": {
    "tags": []
   },
   "source": [
    "# Loop through each patient to calculate Regulon & Program activity"
   ]
  },
  {
   "cell_type": "code",
   "execution_count": 16,
   "metadata": {},
   "outputs": [
    {
     "name": "stdout",
     "output_type": "stream",
     "text": [
      "background Genes:9728\n",
      "background Genes after ribosomal remove:9614\n"
     ]
    },
    {
     "data": {
      "application/vnd.jupyter.widget-view+json": {
       "model_id": "1bb8efb783ec4e71ac7de767e32874f8",
       "version_major": 2,
       "version_minor": 0
      },
      "text/plain": [
       "  0%|          | 0/2 [00:00<?, ?it/s]"
      ]
     },
     "metadata": {},
     "output_type": "display_data"
    },
    {
     "name": "stdout",
     "output_type": "stream",
     "text": [
      "P76156_3\n",
      "Processed: /Volumes/omics4tb2/SYGNAL/XCures/P76156/P76156_3/RNA/results_RSEM/P76156_3.genes.results\n",
      "biclusterMembershipDictionary is done!\n",
      "biclusterMembershipDictionary is done!\n",
      "biclusterMembershipDictionary is done!\n",
      "biclusterMembershipDictionary is done!\n",
      "Total number of genes: 1862\n",
      "biclusterMembershipDictionary is done!\n",
      "biclusterMembershipDictionary is done!\n",
      "Total number of genes: 6781\n",
      "biclusterMembershipDictionary is done!\n",
      "biclusterMembershipDictionary is done!\n",
      "P76156_6\n",
      "Processed: /Volumes/omics4tb2/SYGNAL/XCures/P76156/P76156_6/RNA/results_RSEM/P76156_6.genes.results\n",
      "biclusterMembershipDictionary is done!\n",
      "biclusterMembershipDictionary is done!\n",
      "biclusterMembershipDictionary is done!\n",
      "biclusterMembershipDictionary is done!\n",
      "Total number of genes: 1862\n",
      "biclusterMembershipDictionary is done!\n",
      "biclusterMembershipDictionary is done!\n",
      "Total number of genes: 6781\n",
      "biclusterMembershipDictionary is done!\n",
      "biclusterMembershipDictionary is done!\n",
      "          Over  Under  Neutral                       Type\n",
      "P76156_3   135     10      360  Disease Relevant Regulons\n",
      "P76156_3  1206    203     2355               All Regulons\n",
      "P76156_3    13      1       19  Disease Relevant Programs\n",
      "P76156_3    77     12       89               All Programs\n",
      "P76156_6    66     25      414  Disease Relevant Regulons\n",
      "P76156_6   808    265     2691               All Regulons\n",
      "P76156_6     7      4       22  Disease Relevant Programs\n",
      "P76156_6    55     16      107               All Programs\n"
     ]
    }
   ],
   "source": [
    "# Load background genes\n",
    "bkgd_genes = loadBackgroundGenes(backgd_type=\"input\")\n",
    "\n",
    "#import miner_py3_kk as miner\n",
    "# Patient analysis loop\n",
    "allSummary = pd.DataFrame()\n",
    "for folder in tqdm(patientDataFolders):\n",
    "    time.sleep(0.01)\n",
    "    patientID = folder.split('/')[-1].split('.')[0] #get patientID\n",
    "    print(patientID)\n",
    "    #patientDataFile = os.path.join(folder,\"RNA\",patientID + \".genes.results\") # get RNASeq results\n",
    "    patientDataFile = folder\n",
    "    \n",
    "    # create patent activity output folder if it doesnt exist already\n",
    "    activity_output_dir = os.path.join(output_dir,\"patients_network_activities\",patientID)\n",
    "    \n",
    "    if not os.path.isdir(activity_output_dir):\n",
    "        os.mkdir(activity_output_dir)\n",
    "    \n",
    "    # Check if patient data file exists\n",
    "    if os.path.exists('%s' %(patientDataFile)):\n",
    "        # create a new column with patient name\n",
    "        newColName = patientID + \"_zscore\"\n",
    "        \n",
    "        # Read expression data\n",
    "        rawExpressionData = pd.read_csv(patientDataFile, sep=\"\\t\", index_col=None, header = 0)\n",
    "        #print(rawExpressionData.head)\n",
    "        \n",
    "        # seperate ensembl gene ids and symbols\n",
    "        rawExpressionData[['GeneID','gene_symbol']] = pd.DataFrame(rawExpressionData).gene_id.str.split(\"_\",expand=True)\n",
    "        #print(rawExpressionData)\n",
    "        \n",
    "        ## Merge etranscript IDs with Gene IDs for kallisto\n",
    "        #rawExpressionData = rawExpressionData.merge(biomart, left_on='target_id', right_on='Transcript stable ID version', how='left')  \n",
    "        \n",
    "        # Filter ncRNAs or ribosomal RNAs\n",
    "        rawExpressionData = rawExpressionData[-rawExpressionData.GeneID.isin(ribosomal)].copy()\n",
    "        #print(rawExpressionData)\n",
    "        \n",
    "        # filter for genes in all programs\n",
    "        #rawExpressionDataFilt = rawExpressionData[rawExpressionData.GeneID.isin(uniqueProteins)].copy()\n",
    "        rawExpressionDataFilt = rawExpressionData[rawExpressionData.GeneID.isin(bkgd_genes)].copy()\n",
    "        #rawExpressionDataFilt = rawExpressionData.loc[rawExpressionData.GeneID in my_genes]\n",
    "        #rawExpressionDataFilt = rawExpressionData\n",
    "        rawExpressionDataFilt.head()\n",
    "        #print(\"Filtered raw expression\")\n",
    "        #print(rawExpressionDataFilt)\n",
    "        \n",
    "        # zscore patients expression data\n",
    "        # kallisto\n",
    "        #rawExpressionDataFilt[[newColName]] = rawExpressionDataFilt[['tpm']].apply(zscore)\n",
    "        \n",
    "        #START+RSEM\n",
    "        rawExpressionDataFilt[[newColName]] = rawExpressionDataFilt[['TPM']].apply(zscore)\n",
    "        rawExpressionDataFilt\n",
    "        #expressionData = pd.read_csv(\"abundanceXCuresRNATPMTL1961DB85ZScoredLatest.csv\", sep=\",\", index_col=0, header = 0)\n",
    "        expressionData = rawExpressionDataFilt[[patientID + \"_zscore\"]]\n",
    "        expressionData.index = rawExpressionDataFilt['GeneID']\n",
    "        #print(expressionData)\n",
    "        \n",
    "        print(\"Processed: \" + patientDataFile)\n",
    "        # \n",
    "        ############### Regulon Activity ###############\n",
    "        # calculate disease relevant regulon activity \n",
    "        rr = miner.generateRegulonActivity(regulonModulesDisease,expressionData, p=0.05)\n",
    "        #print(rr)\n",
    "        \n",
    "        # calculate all regulon activity \n",
    "        aa = miner.generateRegulonActivity(regulonModulesAll,expressionData, p=0.05)\n",
    "        #print(rr)\n",
    "        \n",
    "        #\n",
    "        ############### Program Activity ###############\n",
    "        # calculate disease relevant program activity\n",
    "        program_activity_disease = calculateProgramActivity(program_list_disease,regulonModulesDisease,expressionData,outputFile= os.path.join(activity_output_dir,patientID) + \"_disease_rel_program_activity.csv\")\n",
    "        #program_activity_disease = miner.generateProgramActivity(program_list_disease, regulonModulesDisease, expressionData, p=0.05, returnBkgd=\"no\")\n",
    "        \n",
    "        # calculate all program activity\n",
    "        program_activity_all = calculateProgramActivity(program_list_all,regulonModulesAll,expressionData,outputFile= os.path.join(activity_output_dir,patientID) + \"_all_program_activity.csv\")\n",
    "    \n",
    "        # write disease relevant regulon activity results to filr\n",
    "        rr.to_csv(os.path.join(activity_output_dir,patientID) + \"_disease_rel_regulon_activity.csv\")\n",
    "        \n",
    "        # write all regulon activity results to file\n",
    "        aa.to_csv(os.path.join(activity_output_dir,patientID) + \"_all_regulon_activity.csv\")\n",
    "        \n",
    "        # calculate regulon activity stats for disease relevant regulons\n",
    "        \n",
    "        sum1 = activityStats(rr,\"Disease Relevant Regulons\")\n",
    "        sum2 = activityStats(aa,\"All Regulons\")\n",
    "        sum3 = activityStats(program_activity_disease,\"Disease Relevant Programs\")\n",
    "        sum4 = activityStats(program_activity_all,\"All Programs\")\n",
    "        \n",
    "        allSummary = pd.concat([allSummary,sum1,sum2,sum3,sum4])\n",
    "    else:\n",
    "        print(\"Data file doesnt exist: \" + patientDataFile) \n",
    "print(allSummary)\n",
    "        "
   ]
  },
  {
   "cell_type": "markdown",
   "metadata": {},
   "source": [
    "## All Input genes"
   ]
  },
  {
   "cell_type": "code",
   "execution_count": null,
   "metadata": {},
   "outputs": [],
   "source": [
    "background Genes:9728\n",
    "background Genes after ribosomal remove:9614\n",
    "\n",
    "Neutral  Over                       Type  Under\n",
    "P76156_6      414    66  Disease Relevant Regulons     25\n",
    "P76156_6     2691   808               All Regulons    265\n",
    "P76156_6       22     7  Disease Relevant Programs      4\n",
    "P76156_6      107    55               All Programs     16"
   ]
  },
  {
   "cell_type": "markdown",
   "metadata": {},
   "source": [
    "# All program genes"
   ]
  },
  {
   "cell_type": "code",
   "execution_count": null,
   "metadata": {},
   "outputs": [],
   "source": [
    "background Genes:6781\n",
    "background Genes after ribosomal remove:6710\n",
    "\n",
    "          Neutral  Over                       Type  Under\n",
    "P76156_6      404    45  Disease Relevant Regulons     56\n",
    "P76156_6     2743   640               All Regulons    381\n",
    "P76156_6       19     4  Disease Relevant Programs     10\n",
    "P76156_6      107    49               All Programs     22"
   ]
  },
  {
   "cell_type": "code",
   "execution_count": 68,
   "metadata": {},
   "outputs": [
    {
     "data": {
      "text/html": [
       "<div>\n",
       "<style scoped>\n",
       "    .dataframe tbody tr th:only-of-type {\n",
       "        vertical-align: middle;\n",
       "    }\n",
       "\n",
       "    .dataframe tbody tr th {\n",
       "        vertical-align: top;\n",
       "    }\n",
       "\n",
       "    .dataframe thead th {\n",
       "        text-align: right;\n",
       "    }\n",
       "</style>\n",
       "<table border=\"1\" class=\"dataframe\">\n",
       "  <thead>\n",
       "    <tr style=\"text-align: right;\">\n",
       "      <th></th>\n",
       "      <th>abundance_zscore</th>\n",
       "    </tr>\n",
       "    <tr>\n",
       "      <th>GeneID</th>\n",
       "      <th></th>\n",
       "    </tr>\n",
       "  </thead>\n",
       "  <tbody>\n",
       "    <tr>\n",
       "      <th>ENSG00000133316</th>\n",
       "      <td>282.104016</td>\n",
       "    </tr>\n",
       "    <tr>\n",
       "      <th>ENSG00000197943</th>\n",
       "      <td>33.184662</td>\n",
       "    </tr>\n",
       "    <tr>\n",
       "      <th>ENSG00000120885</th>\n",
       "      <td>21.893781</td>\n",
       "    </tr>\n",
       "    <tr>\n",
       "      <th>ENSG00000161960</th>\n",
       "      <td>19.716571</td>\n",
       "    </tr>\n",
       "    <tr>\n",
       "      <th>ENSG00000135679</th>\n",
       "      <td>17.119100</td>\n",
       "    </tr>\n",
       "    <tr>\n",
       "      <th>...</th>\n",
       "      <td>...</td>\n",
       "    </tr>\n",
       "    <tr>\n",
       "      <th>ENSG00000282367</th>\n",
       "      <td>-0.043945</td>\n",
       "    </tr>\n",
       "    <tr>\n",
       "      <th>ENSG00000197858</th>\n",
       "      <td>-0.043945</td>\n",
       "    </tr>\n",
       "    <tr>\n",
       "      <th>ENSG00000282367</th>\n",
       "      <td>-0.043945</td>\n",
       "    </tr>\n",
       "    <tr>\n",
       "      <th>ENSG00000282367</th>\n",
       "      <td>-0.043945</td>\n",
       "    </tr>\n",
       "    <tr>\n",
       "      <th>ENSG00000115414</th>\n",
       "      <td>-0.043945</td>\n",
       "    </tr>\n",
       "  </tbody>\n",
       "</table>\n",
       "<p>86033 rows × 1 columns</p>\n",
       "</div>"
      ],
      "text/plain": [
       "                 abundance_zscore\n",
       "GeneID                           \n",
       "ENSG00000133316        282.104016\n",
       "ENSG00000197943         33.184662\n",
       "ENSG00000120885         21.893781\n",
       "ENSG00000161960         19.716571\n",
       "ENSG00000135679         17.119100\n",
       "...                           ...\n",
       "ENSG00000282367         -0.043945\n",
       "ENSG00000197858         -0.043945\n",
       "ENSG00000282367         -0.043945\n",
       "ENSG00000282367         -0.043945\n",
       "ENSG00000115414         -0.043945\n",
       "\n",
       "[86033 rows x 1 columns]"
      ]
     },
     "execution_count": 68,
     "metadata": {},
     "output_type": "execute_result"
    }
   ],
   "source": [
    "expressionData.sort_values(by=[\"abundance_zscore\"], ascending=False)"
   ]
  },
  {
   "cell_type": "code",
   "execution_count": 24,
   "metadata": {},
   "outputs": [
    {
     "name": "stdout",
     "output_type": "stream",
     "text": [
      "(60508, 9)\n",
      "(9228, 1)\n",
      "(60508, 9)\n"
     ]
    }
   ],
   "source": [
    "#rawExpressionData.sort_values(by=[\"P76156_6_zscore\"], ascending=False)\n",
    "zz1 = rawExpressionData.loc[-rawExpressionData['GeneID'].isin(ribosomal)].copy()\n",
    "print(rawExpressionData.shape)\n",
    "print(expressionData.shape)\n",
    "print(zz1.shape)\n",
    "\n",
    "\n"
   ]
  }
 ],
 "metadata": {
  "kernelspec": {
   "display_name": "Python 3 (ipykernel)",
   "language": "python",
   "name": "python3"
  },
  "language_info": {
   "codemirror_mode": {
    "name": "ipython",
    "version": 3
   },
   "file_extension": ".py",
   "mimetype": "text/x-python",
   "name": "python",
   "nbconvert_exporter": "python",
   "pygments_lexer": "ipython3",
   "version": "3.7.8"
  }
 },
 "nbformat": 4,
 "nbformat_minor": 4
}
