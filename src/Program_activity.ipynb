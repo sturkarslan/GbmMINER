{
 "cells": [
  {
   "cell_type": "code",
   "execution_count": 8,
   "metadata": {},
   "outputs": [
    {
     "name": "stdout",
     "output_type": "stream",
     "text": [
      "done!\n",
      "done!\n"
     ]
    }
   ],
   "source": [
    "#!/usr/bin/env python3\n",
    "# -*- coding: utf-8 -*-\n",
    "\"\"\"\n",
    "Created on Fri Sep 25 10:40:42 2020\n",
    "\n",
    "@author: mwall\n",
    "\"\"\"\n",
    "import os\n",
    "import numpy as np\n",
    "import pandas as pd\n",
    "os.chdir('E:\\ISB work stuff\\Post-Doc_BaligaLab_GBMSYGNALProject')\n",
    "import miner as miner\n",
    "\n",
    "# Path to the miner directory\n",
    "input_path = os.getcwd()\n",
    "\n",
    "#expressionFile1 = os.path.join(os.path.expanduser('~'),'mnt/omics/SYGNAL/MINER/data/expression/IA12Zscore.csv')\n",
    "#expressionData, conversionTable = miner.preprocess(expressionFile1)\n",
    "expressionData = pd.read_csv(\"Rembrandt_MinerInputFiltered.csv\", sep=\",\", index_col=0, header = 0)\n",
    "\n",
    "# Load resulonModules\n",
    "regulonModules = miner.read_json(os.path.join(input_path,\"GBM\\\\results\\\\MINER\\\\MINER_MicroLowessRNATMM.08.24.2020\\\\regulons.json\"))\n",
    "regulonDfMicroGbmLatest = pd.read_csv(\"regulonDfGbmMicroRNASigCoxAndStatSig.csv\", header = 0)\n",
    "regulonDfMicroGbmLatest = list(regulonDfMicroGbmLatest['Regulon_ID'].drop_duplicates())\n",
    "regulonDfMicroGbmLatest = [str(i) for i in regulonDfMicroGbmLatest]\n",
    "regulonModules = dict((k, regulonModules[k]) for k in regulonDfMicroGbmLatest if k in regulonModules)\n",
    "\n",
    "# Load transcriptional programs\n",
    "transcriptional_programs = miner.read_json(os.path.join(input_path,'GBM\\\\results\\\\MINER\\\\MINER_MicroLowessRNATMM.08.24.2020\\\\transcriptional_programsmiRNAAndSig.json'))\n",
    "\n",
    "program_list = [transcriptional_programs[str(key)] for key in range(len(transcriptional_programs.keys()))]\n",
    "\n",
    "# Create dictionary of program genes\n",
    "# make dictionary of program keys with gene lists as elements\n",
    "#pr_genes = {}\n",
    "#for i in range(len(program_list)):\n",
    "#    rgns = program_list[i]\n",
    "#    genes = []\n",
    "#    for r in rgns:\n",
    "#        if regulonModules.has_key(r):\n",
    "#            genes.append(regulonModules[r])\n",
    "#    genes = list(set(np.hstack(genes)))\n",
    "#    pr_genes[i] = genes\n",
    "    \n",
    "\n",
    "# select reference dictionary for downstream analysis (pr_genes, revisedClusters, coexpressionModules, or regulonModules)\n",
    "referenceDictionary = pr_genes\n",
    "# create a background matrix used for statistical hypothesis testing\n",
    "bkgd = miner.backgroundDf(expressionData)\n",
    "# for each cluster, give samples that show high coherent cluster activity\n",
    "overExpressedMembers = miner.biclusterMembershipDictionary(referenceDictionary,bkgd,label=2,p=0.05)\n",
    "# for each clus|ter, give samples that show low coherent cluster activity\n",
    "underExpressedMembers = miner.biclusterMembershipDictionary(referenceDictionary,bkgd,label=0,p=0.05)\n",
    "# convert overExpressedMembers dictionary to binary matrix\n",
    "overExpressedProgramsMatrix = miner.membershipToIncidence(overExpressedMembers,expressionData)\n",
    "# convert underExpressedMembers dictionary to binary matrix\n",
    "underExpressedProgramsMatrix = miner.membershipToIncidence(underExpressedMembers,expressionData)\n",
    "\n",
    "# Create program matrix with values of {-1,0,1}\n",
    "dfr_programs = overExpressedProgramsMatrix-underExpressedProgramsMatrix\n",
    "\n",
    "dfr_programs.to_csv(\"program_activity_forSigRegulonsMinerGBMRembrandt.csv\")"
   ]
  },
  {
   "cell_type": "code",
   "execution_count": 12,
   "metadata": {},
   "outputs": [
    {
     "name": "stdout",
     "output_type": "stream",
     "text": [
      "done!\n",
      "done!\n"
     ]
    }
   ],
   "source": [
    "#!/usr/bin/env python3\n",
    "# -*- coding: utf-8 -*-\n",
    "\"\"\"\n",
    "Created on Fri Sep 25 10:40:42 2020\n",
    "\n",
    "@author: mwall\n",
    "\"\"\"\n",
    "import os\n",
    "import numpy as np\n",
    "import pandas as pd\n",
    "os.chdir('E:\\ISB work stuff\\Post-Doc_BaligaLab_GBMSYGNALProject')\n",
    "import miner as miner\n",
    "\n",
    "# Path to the miner directory\n",
    "input_path = os.getcwd()\n",
    "expressionData = pd.read_csv(\"CCLE_RNAseq_genes_counts_20180929OnlyIDs_TMM.csv\", sep=\",\", index_col=0, header = 0)\n",
    "# Load resulonModules\n",
    "regulonModules = miner.read_json(os.path.join(input_path,\"GBM\\\\results\\\\MINER\\\\MINER_MicroLowessRNATMM.08.24.2020\\\\regulons.json\"))\n",
    "regulonDfMicroGbmLatest = pd.read_csv(\"regulonDfGbmMicroRNASigCoxAndStatSig.csv\", header = 0)\n",
    "regulonDfMicroGbmLatest = list(regulonDfMicroGbmLatest['Regulon_ID'].drop_duplicates())\n",
    "regulonDfMicroGbmLatest = [str(i) for i in regulonDfMicroGbmLatest]\n",
    "regulonModules = dict((k, regulonModules[k]) for k in regulonDfMicroGbmLatest if k in regulonModules)\n",
    "#overExpressedMembersMatrix = pd.read_csv(os.path.join(input_path,\"GBM\\\\results\\\\MINER\\\\MINER_MicroLowessRNATMM.08.24.2020\\\\overExpressedMembersmiRNAAndTFRegulonsSig.csv\"),index_col=0,header=0)\n",
    "#overExpressedMembersMatrix.index = np.array(overExpressedMembersMatrix.index).astype(str)\n",
    "#underExpressedMembersMatrix = pd.read_csv(os.path.join(input_path,\"GBM\\\\results\\\\MINER\\\\MINER_MicroLowessRNATMM.08.24.2020\\\\underExpressedMembersmiRNAAndTFRegulonsSig.csv\"),index_col=0,header=0)\n",
    "#underExpressedMembersMatrix.index = np.array(underExpressedMembersMatrix.index).astype(str)\n",
    "#regulonactivity = overExpressedMembersMatrix-underExpressedMembersMatrix\n",
    "# Load transcriptional programs\n",
    "transcriptional_programs = miner.read_json(os.path.join(input_path,'GBM\\\\results\\\\MINER\\\\MINER_MicroLowessRNATMM.08.24.2020\\\\transcriptional_programsmiRNAAndSig.json'))\n",
    "\n",
    "program_list = [transcriptional_programs[str(key)] for key in range(len(transcriptional_programs.keys()))]\n",
    "\n",
    "# Create dictionary of program genes\n",
    "# make dictionary of program keys with gene lists as elements\n",
    "pr_genes_expanded = {}\n",
    "for i in range(len(program_list)):\n",
    "    rgns = program_list[i]\n",
    "    genes = []\n",
    "    for r in rgns:\n",
    "        if r in regulonModules:\n",
    "            genes.append(r)\n",
    "    if len(genes) != 0:\n",
    "        genes = list(set(np.hstack(genes)))\n",
    "        pr_genes_expanded[i] = genes\n",
    "# select reference dictionary for downstream analysis (pr_genes, revisedClusters, coexpressionModules, or regulonModules)\n",
    "referenceDictionary = regulonModules\n",
    "# create a background matrix used for statistical hypothesis testing\n",
    "bkgd = miner.backgroundDf(expressionData)\n",
    "# for each cluster, give samples that show high coherent cluster activity\n",
    "overExpressedMembers = miner.biclusterMembershipDictionary(referenceDictionary,bkgd,label=2,p=0.05)\n",
    "# for each clus|ter, give samples that show low coherent cluster activity\n",
    "underExpressedMembers = miner.biclusterMembershipDictionary(referenceDictionary,bkgd,label=0,p=0.05)\n",
    "# convert overExpressedMembers dictionary to binary matrix\n",
    "overExpressedMembersMatrix = miner.membershipToIncidence(overExpressedMembers,expressionData)\n",
    "overExpressedMembersMatrix.index = np.array(overExpressedMembersMatrix.index).astype(str)\n",
    "# convert underExpressedMembers dictionary to binary matrix\n",
    "underExpressedMembersMatrix = miner.membershipToIncidence(underExpressedMembers,expressionData)\n",
    "underExpressedMembersMatrix.index = np.array(underExpressedMembersMatrix.index).astype(str)\n",
    "\n",
    "# Create program matrix with values of {-1,0,1}\n",
    "dfr_regulons = overExpressedMembersMatrix-underExpressedMembersMatrix\n",
    "\n",
    "overExpressedMembersMatrix.to_csv(\"CCLE_ActiveRegulons_forAllGbmTCGASigRegulons.csv\")"
   ]
  },
  {
   "cell_type": "code",
   "execution_count": 1,
   "metadata": {},
   "outputs": [],
   "source": [
    "#!/usr/bin/env python3\n",
    "# -*- coding: utf-8 -*-\n",
    "\"\"\"\n",
    "Created on Fri Sep 25 10:40:42 2020\n",
    "\n",
    "@author: mwall\n",
    "\"\"\"\n",
    "import os\n",
    "import numpy as np\n",
    "import pandas as pd\n",
    "os.chdir('E:\\ISB work stuff\\Post-Doc_BaligaLab_GBMSYGNALProject')\n",
    "import miner as miner\n",
    "\n",
    "# Path to the miner directory\n",
    "input_path = os.getcwd()\n",
    "expressionData = pd.read_csv(\"GbmMicroRNAMergedWithIDsZScored.csv\", sep=\",\", index_col=0, header = 0)\n",
    "# Load resulonModules\n",
    "regulonModules = miner.read_json(os.path.join(input_path,\"GBM\\\\results\\\\MINER\\\\MINER_MicroLowessRNATMM.08.24.2020\\\\regulons.json\"))\n",
    "regulonDfMicroGbmLatest = pd.read_csv(\"regulonDfGbmMicroRNASigCoxAndStatSig.csv\", header = 0)\n",
    "regulonDfMicroGbmLatest = list(regulonDfMicroGbmLatest['Regulon_ID'].drop_duplicates())\n",
    "regulonDfMicroGbmLatest = [str(i) for i in regulonDfMicroGbmLatest]\n",
    "regulonModules = dict((k, regulonModules[k]) for k in regulonDfMicroGbmLatest if k in regulonModules)\n",
    "\n",
    "# Load transcriptional programs\n",
    "transcriptional_programs = miner.read_json(os.path.join(input_path,'GBM\\\\results\\\\MINER\\\\MINER_MicroLowessRNATMM.08.24.2020\\\\transcriptional_programsmiRNAAndSig.json'))\n",
    "\n",
    "program_list = [transcriptional_programs[str(key)] for key in range(len(transcriptional_programs.keys()))]\n",
    "\n",
    "# Create dictionary of program genes\n",
    "# make dictionary of program keys with gene lists as elements\n",
    "pr_genes_expanded = {}\n",
    "for i in range(len(program_list)):\n",
    "    rgns = program_list[i]\n",
    "    genes = []\n",
    "    for r in rgns:\n",
    "        if r in regulonModules:\n",
    "            genes.append(r)\n",
    "    if len(genes) != 0:\n",
    "        genes = list(set(np.hstack(genes)))\n",
    "        pr_genes_expanded[i] = genes"
   ]
  },
  {
   "cell_type": "code",
   "execution_count": 4,
   "metadata": {},
   "outputs": [],
   "source": [
    "pr_genes_expanded = pd.DataFrame.from_dict(transcriptional_programs, orient='index')"
   ]
  },
  {
   "cell_type": "code",
   "execution_count": 8,
   "metadata": {},
   "outputs": [],
   "source": [
    "#pr_genes_expanded = pr_genes_expanded.stack()\n",
    "pr_genes_expanded = pr_genes_expanded.drop_duplicates()"
   ]
  },
  {
   "cell_type": "code",
   "execution_count": 10,
   "metadata": {},
   "outputs": [
    {
     "name": "stderr",
     "output_type": "stream",
     "text": [
      "C:\\Users\\kkavy\\anaconda3\\lib\\site-packages\\ipykernel_launcher.py:1: FutureWarning: The signature of `Series.to_csv` was aligned to that of `DataFrame.to_csv`, and argument 'header' will change its default value from False to True: please pass an explicit value to suppress this warning.\n",
      "  \"\"\"Entry point for launching an IPython kernel.\n"
     ]
    }
   ],
   "source": [
    "pr_genes_expanded.to_csv(\"SigRegulonsInPrograms_GBMTCGA.csv\")"
   ]
  },
  {
   "cell_type": "code",
   "execution_count": null,
   "metadata": {},
   "outputs": [],
   "source": []
  }
 ],
 "metadata": {
  "kernelspec": {
   "display_name": "Python 3",
   "language": "python",
   "name": "python3"
  },
  "language_info": {
   "codemirror_mode": {
    "name": "ipython",
    "version": 3
   },
   "file_extension": ".py",
   "mimetype": "text/x-python",
   "name": "python",
   "nbconvert_exporter": "python",
   "pygments_lexer": "ipython3",
   "version": "3.6.10"
  }
 },
 "nbformat": 4,
 "nbformat_minor": 4
}
