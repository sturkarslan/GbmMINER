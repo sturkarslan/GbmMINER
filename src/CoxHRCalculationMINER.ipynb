{
 "cells": [
  {
   "cell_type": "markdown",
   "metadata": {
    "tags": []
   },
   "source": [
    "# import libraries"
   ]
  },
  {
   "cell_type": "code",
   "execution_count": 10,
   "metadata": {},
   "outputs": [],
   "source": [
    "import sys\n",
    "import os\n",
    "os.chdir('/Users/serdarturkaslan/Documents/GitHub/GbmMINER/data/MINER_MicroLowessRNATMM.08.24.2020/')\n",
    "#import miner as miner\n",
    "import numpy as np\n",
    "import pandas as pd\n",
    "import matplotlib.pyplot as plt\n",
    "%matplotlib inline\n",
    "plt.style.use('ggplot')\n",
    "import seaborn as sns\n",
    "import time\n",
    "import imp\n",
    "imp.reload(miner)\n",
    "import miner_py3_kk as miner"
   ]
  },
  {
   "cell_type": "markdown",
   "metadata": {},
   "source": [
    "# Create directories to save output file"
   ]
  },
  {
   "cell_type": "code",
   "execution_count": 11,
   "metadata": {},
   "outputs": [
    {
     "name": "stdout",
     "output_type": "stream",
     "text": [
      "/Users/serdarturkaslan/Documents/GitHub/GbmMINER/data/MINER_MicroLowessRNATMM.08.24.2020\n"
     ]
    }
   ],
   "source": [
    "# Path to the miner directory\n",
    "input_path = os.getcwd()\n",
    "print(input_path)\n",
    "\n",
    "# create name for results folder where output files will be saved\n",
    "resultsFolder = \"results_miner3_gbm_MicroarrayRNA_survival_08112021\"\n",
    "\n",
    "# name of the folder containing the miner network\n",
    "#networkFolder = \"miner_network_results\"\n",
    "networkFolder = \"results_minCorrelation_0o2_50_allFiles_gbm_MicroarrayRNA_survival_08112021\"\n",
    "\n",
    "# create results directory\n",
    "resultsDirectory = os.path.join(os.getcwd(),resultsFolder)\n",
    "if not os.path.isdir(resultsDirectory):\n",
    "    os.mkdir(resultsDirectory)\n",
    "\n",
    "expressionData=pd.read_csv(\"GbmMicroRNAMergedWithIDsZScored.csv\",header=0,index_col=0,sep=\",\")\n"
   ]
  },
  {
   "cell_type": "markdown",
   "metadata": {},
   "source": [
    "# Load primary data"
   ]
  },
  {
   "cell_type": "code",
   "execution_count": 12,
   "metadata": {},
   "outputs": [],
   "source": [
    "regulonModules = miner.read_json(os.path.join(input_path,\"regulons.json\"))"
   ]
  },
  {
   "cell_type": "markdown",
   "metadata": {},
   "source": [
    "# Load primary survival data"
   ]
  },
  {
   "cell_type": "code",
   "execution_count": 13,
   "metadata": {},
   "outputs": [],
   "source": [
    "# load primary survival data (i.e., corresponding to expression data training set)\n",
    "survivalMMRF = pd.read_csv(os.path.join(input_path,\"TCGA_Survival_Gbm.csv\"),index_col=0,header=0)\n",
    "survivalDfMMRF = survivalMMRF.iloc[:,0:2]\n",
    "survivalDfMMRF.columns = [\"duration\",\"observed\"]\n",
    "kmDfMMRF = miner.kmAnalysis(survivalDf=survivalDfMMRF,durationCol=\"duration\",statusCol=\"observed\")\n",
    "guanSurvivalDfMMRF= miner.guanRank(kmSurvival=kmDfMMRF)"
   ]
  },
  {
   "cell_type": "markdown",
   "metadata": {},
   "source": [
    "# Survival analysis of regulons"
   ]
  },
  {
   "cell_type": "code",
   "execution_count": 14,
   "metadata": {},
   "outputs": [
    {
     "name": "stdout",
     "output_type": "stream",
     "text": [
      "Completed 0 of 752 iterations\n",
      "Completed 0 of 753 iterations\n",
      "Completed 0 of 753 iterations\n",
      "Completed 0 of 753 iterations\n",
      "Completed 0 of 753 iterations\n",
      "Completed 100 of 753 iterations\n",
      "Completed 100 of 752 iterations\n",
      "Completed 100 of 753 iterations\n",
      "Completed 100 of 753 iterations\n",
      "Completed 100 of 753 iterations\n",
      "Completed 200 of 752 iterations\n",
      "Completed 200 of 753 iterations\n",
      "Completed 200 of 753 iterations\n",
      "Completed 200 of 753 iterations\n",
      "Completed 200 of 753 iterations\n",
      "Completed 300 of 753 iterations\n",
      "Completed 300 of 753 iterations\n",
      "Completed 300 of 753 iterations\n",
      "Completed 300 of 753 iterations\n",
      "Completed 300 of 752 iterations\n",
      "Completed 400 of 753 iterations\n",
      "Completed 400 of 753 iterations\n",
      "Completed 400 of 753 iterationsCompleted 400 of 753 iterations\n",
      "\n",
      "Completed 400 of 752 iterations\n",
      "Completed 500 of 753 iterations\n",
      "Completed 500 of 753 iterations\n",
      "Completed 500 of 753 iterations\n",
      "Completed 500 of 753 iterations\n",
      "Completed 500 of 752 iterations\n",
      "Completed 600 of 753 iterations\n",
      "Completed 600 of 753 iterations\n",
      "Completed 600 of 753 iterations\n",
      "Completed 600 of 753 iterations\n",
      "Completed 600 of 752 iterations\n",
      "Completed 700 of 753 iterations\n",
      "Completed 700 of 753 iterations\n",
      "Completed 700 of 753 iterations\n",
      "Completed 700 of 753 iterations\n",
      "Completed 700 of 752 iterations\n",
      "\n",
      "High-risk regulons:\n",
      "            HR       p-value\n",
      "1518  5.014816  5.308428e-07\n",
      "3123  4.567604  4.933300e-06\n",
      "2604  4.452398  8.491646e-06\n",
      "2138  4.276169  1.901371e-05\n",
      "3744  4.243999  2.195716e-05\n",
      "\n",
      "Low-risk regulons\n",
      "            HR   p-value\n",
      "846  -4.223361  0.000024\n",
      "3666 -4.326100  0.000015\n",
      "3107 -4.330901  0.000015\n",
      "2340 -4.330901  0.000015\n",
      "2743 -4.494373  0.000007\n",
      "Completed regulon risk analysis in 1.86 minutes\n"
     ]
    }
   ],
   "source": [
    "t1 = time.time()\n",
    "\n",
    "cox_regulons_output = miner.parallelMedianSurvivalAnalysis(regulonModules,expressionData,guanSurvivalDfMMRF,numCores=5)\n",
    "cox_regulons_output = cox_regulons_output.iloc[np.argsort(np.array(cox_regulons_output.index).astype(int))]\n",
    "cox_regulons_output.to_csv(os.path.join(resultsDirectory,'CoxProportionalHazardsRegulons.csv'))\n",
    "cox_regulons_output.sort_values(by=\"HR\",ascending=False,inplace=True)\n",
    "\n",
    "print(\"\\nHigh-risk regulons:\")\n",
    "print(cox_regulons_output.iloc[0:5,:])\n",
    "print(\"\\nLow-risk regulons\")\n",
    "print(cox_regulons_output.iloc[-5:,:])\n",
    "\n",
    "t2 = time.time()\n",
    "print(\"Completed regulon risk analysis in {:.2f} minutes\".format((t2-t1)/60.))"
   ]
  },
  {
   "cell_type": "code",
   "execution_count": null,
   "metadata": {},
   "outputs": [],
   "source": []
  }
 ],
 "metadata": {
  "kernelspec": {
   "display_name": "Python 3",
   "language": "python",
   "name": "python3"
  },
  "language_info": {
   "codemirror_mode": {
    "name": "ipython",
    "version": 3
   },
   "file_extension": ".py",
   "mimetype": "text/x-python",
   "name": "python",
   "nbconvert_exporter": "python",
   "pygments_lexer": "ipython3",
   "version": "3.6.10"
  }
 },
 "nbformat": 4,
 "nbformat_minor": 4
}
