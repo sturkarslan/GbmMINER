{
 "cells": [
  {
   "cell_type": "markdown",
   "metadata": {},
   "source": [
    "# Load libraries and Network results"
   ]
  },
  {
   "cell_type": "code",
   "execution_count": 151,
   "metadata": {
    "slideshow": {
     "slide_type": "slide"
    },
    "tags": []
   },
   "outputs": [
    {
     "name": "stdout",
     "output_type": "stream",
     "text": [
      "Libraries loaded!\n"
     ]
    }
   ],
   "source": [
    "#!/usr/bin/env python3\n",
    "# -*- coding: utf-8 -*-\n",
    "\"\"\"\n",
    "Created on Fri Sep 25 10:40:42 2020\n",
    "\n",
    "@author: sturkars\n",
    "\"\"\"\n",
    "import os\n",
    "import sys\n",
    "import glob\n",
    "import numpy as np\n",
    "import pandas as pd\n",
    "#import miner as miner\n",
    "from scipy.stats import zscore\n",
    "import miner_py3_kk as miner\n",
    "from tqdm.notebook import tqdm, trange\n",
    "import time\n",
    "\n",
    "# change the working directory\n",
    "#os.chdir('/Users/serdarturkaslan/Documents/GitHub/GbmMINER/data/MINER_MicroLowessRNATMM.08.24.2020/')\n",
    "# output directory\n",
    "output_dir = \"/Volumes/omics4tb2/SYGNAL/XCures\"\n",
    "\n",
    "# Path to the miner directory\n",
    "input_path = \"/Volumes/omics4tb2/SYGNAL/GBM-Serdar/MINER_MicroLowessRNATMM.08.24.2020\"\n",
    "print(\"Libraries loaded!\")"
   ]
  },
  {
   "cell_type": "markdown",
   "metadata": {},
   "source": [
    "# Function to load regulons"
   ]
  },
  {
   "cell_type": "code",
   "execution_count": 152,
   "metadata": {},
   "outputs": [],
   "source": [
    "def loadRegulons(disease_relevant=True,disease_relevant_regulons_file=\"regulonDfGbmMicroRNASigCoxAndStatSig.csv\"):\n",
    "    \n",
    "    # Load regulon Modules\n",
    "    regulonModules = miner.read_json(os.path.join(input_path,\"regulons.json\"))\n",
    "    print(\"Total number of regulons: \" + str(len(regulonModules)))\n",
    "\n",
    "    # load regulon data frame\n",
    "    # All Regulons\n",
    "    regulonDf = pd.read_csv(os.path.join(input_path, \"regulonDf.csv\"), header = 0)\n",
    "    regulonDf = list(regulonDf['Regulon_ID'].drop_duplicates())\n",
    "    regulonDf = [str(i) for i in regulonDf]\n",
    "\n",
    "    # Disease relevant regulons\n",
    "    regulonDfMicroGbmLatest = pd.read_csv(os.path.join(input_path,disease_relevant_regulons_file), header = 0)\n",
    "    regulonDfMicroGbmLatest = list(regulonDfMicroGbmLatest['Regulon_ID'].drop_duplicates())\n",
    "    regulonDfMicroGbmLatest = [str(i) for i in regulonDfMicroGbmLatest]\n",
    "    regulonModulesFiltered = dict((k, regulonModules[k]) for k in regulonDfMicroGbmLatest if k in regulonModules)\n",
    "    print(\"Filtered number of regulons: \" + str(len(regulonModulesFiltered)))\n",
    "    \n",
    "    if disease_relevant == True:\n",
    "        #regulonModules = dict((k, regulonModules[k]) for k in regulonDfMicroGbmLatest if k in regulonModules)\n",
    "        regulonModules = regulonModulesFiltered \n",
    "        print(\"Returned %s filtered regulons\" %(str(len(regulonModules))))\n",
    "        return(regulonModules)\n",
    "    \n",
    "    else:\n",
    "        regulonModules = dict((k, regulonModules[k]) for k in regulonDf if k in regulonModules)\n",
    "        print(\"Returned %s Total regulons\" %(str(len(regulonModules))))\n",
    "        return(regulonModules)"
   ]
  },
  {
   "cell_type": "markdown",
   "metadata": {},
   "source": [
    "# Function to load Programs "
   ]
  },
  {
   "cell_type": "code",
   "execution_count": 153,
   "metadata": {},
   "outputs": [],
   "source": [
    "def loadPrograms(disease_relevant=True,disease_relevant_programs_file=\"transcriptional_programsmiRNAAndSig.json\"):\n",
    "    \n",
    "    # Load transcriptional programs\n",
    "    # All Programs\n",
    "    transcriptional_programs = miner.read_json(os.path.join(input_path,'transcriptional_programs.json'))\n",
    "    print(\"Total # of programs: \", str(len(transcriptional_programs)))\n",
    "    \n",
    "    transcriptional_programs_filtered = miner.read_json(os.path.join(input_path,disease_relevant_programs_file))\n",
    "    print(\"Filtered # of programs: \", str(len(transcriptional_programs_filtered)))\n",
    "    \n",
    "    if disease_relevant == True:\n",
    "            transcriptional_programs = transcriptional_programs_filtered\n",
    "            print(\"Returned %s filtered Programs\" %(str(len(transcriptional_programs_filtered))))\n",
    "    else:\n",
    "        transcriptional_programs = transcriptional_programs\n",
    "        print(\"Returned %s Total Programs\" %(str(len(transcriptional_programs))))\n",
    "\n",
    "    program_list = [transcriptional_programs[str(key)] for key in range(len(transcriptional_programs.keys()))]\n",
    "    \n",
    "    return(program_list)"
   ]
  },
  {
   "cell_type": "markdown",
   "metadata": {
    "tags": []
   },
   "source": [
    "# Function to create dictionary of program genes"
   ]
  },
  {
   "cell_type": "code",
   "execution_count": 154,
   "metadata": {},
   "outputs": [],
   "source": [
    "# Create dictionary of program genes\n",
    "# make dictionary of program keys with gene lists as elements\n",
    "def createPrGenesDictionary(program_list, regulons):\n",
    "    pr_genes_expanded = {}\n",
    "    for i in range(len(program_list)):\n",
    "        rgns = program_list[i]\n",
    "        genes = []\n",
    "        for r in rgns:\n",
    "            if r in regulons:\n",
    "                genes.append(regulons[r])\n",
    "        if len(genes) != 0:\n",
    "            genes = list(set(np.hstack(genes)))\n",
    "            pr_genes_expanded[i] = genes\n",
    "\n",
    "    unique_genes = set(x for y in pr_genes_expanded.values() for x in y)\n",
    "        \n",
    "    print(\"Total number of genes: \" + str(len(unique_genes)))\n",
    "    return(pr_genes_expanded)\n"
   ]
  },
  {
   "cell_type": "markdown",
   "metadata": {
    "tags": []
   },
   "source": [
    "# Function to calculate Program activity"
   ]
  },
  {
   "cell_type": "code",
   "execution_count": 155,
   "metadata": {},
   "outputs": [],
   "source": [
    "def calculateProgramActivity(program_list,regulons,expressionData,referenceDictionary,outputFile):\n",
    "    \n",
    "    # create a background matrix used for statistical hypothesis testing\n",
    "    bkgd = miner.backgroundDf(expressionData)\n",
    "\n",
    "    # for each cluster, give samples that show high coherent cluster activity\n",
    "    overExpressedMembers = miner.biclusterMembershipDictionary(referenceDictionary,bkgd,label=2,p=0.05)\n",
    "\n",
    "    # for each clus|ter, give samples that show low coherent cluster activity\n",
    "    underExpressedMembers = miner.biclusterMembershipDictionary(referenceDictionary,bkgd,label=0,p=0.05)\n",
    "\n",
    "    # convert overExpressedMembers dictionary to binary matrix\n",
    "    overExpressedProgramsMatrix = miner.membershipToIncidence(overExpressedMembers,expressionData)\n",
    "\n",
    "    # convert underExpressedMembers dictionary to binary matrix\n",
    "    underExpressedProgramsMatrix = miner.membershipToIncidence(underExpressedMembers,expressionData)\n",
    "\n",
    "    # Create program matrix with values of {-1,0,1}\n",
    "    dfr_programs = overExpressedProgramsMatrix-underExpressedProgramsMatrix\n",
    "    \n",
    "    # Write program activity into a outFile\n",
    "    dfr_programs.to_csv(outputFile)\n",
    "    \n",
    "    return(dfr_programs)"
   ]
  },
  {
   "cell_type": "markdown",
   "metadata": {},
   "source": [
    "# Load Regulons"
   ]
  },
  {
   "cell_type": "code",
   "execution_count": 156,
   "metadata": {},
   "outputs": [
    {
     "name": "stdout",
     "output_type": "stream",
     "text": [
      "Total number of regulons: 3764\n",
      "Filtered number of regulons: 505\n",
      "Returned 505 filtered regulons\n",
      "Total number of regulons: 3764\n",
      "Filtered number of regulons: 505\n",
      "Returned 3764 Total regulons\n"
     ]
    }
   ],
   "source": [
    "# load disease relevant regulons\n",
    "regulonModulesDisease = loadRegulons(disease_relevant=True)\n",
    "\n",
    "#load all regulons\n",
    "regulonModulesAll = loadRegulons(disease_relevant=False)"
   ]
  },
  {
   "cell_type": "markdown",
   "metadata": {},
   "source": [
    "# Load ribosomal gene list"
   ]
  },
  {
   "cell_type": "code",
   "execution_count": 157,
   "metadata": {},
   "outputs": [],
   "source": [
    "# Load list of ribosomal proteisn to filter the expression data\n",
    "ribosomal = pd.read_csv(\"../data/ribosomal_proteins.txt\", header=0,index_col=0,sep=\"\\t\")\n",
    "ribosomal = list(ribosomal[\"Ensembl gene ID\"])"
   ]
  },
  {
   "cell_type": "markdown",
   "metadata": {},
   "source": [
    "# Load background genes"
   ]
  },
  {
   "cell_type": "code",
   "execution_count": 158,
   "metadata": {},
   "outputs": [],
   "source": [
    "# We either use the MINER input expressioin genes as background or all propgram genes\n",
    "def loadBackgroundGenes(backgd_type = \"input\"):\n",
    "    if backgd_type == \"input\":\n",
    "        # Use model input genes as background\n",
    "        # Filter gene expression data only for genes that were in the model building data\n",
    "        model_input_data = pd.read_csv(os.path.join(input_path,'GbmMicroRNAMergedWithIDsZScored.csv'),header=0,index_col=None,sep=\",\")\n",
    "        model_input_genes = list(model_input_data['Unnamed: 0'])\n",
    "        bkgd_genes = [item for sublist in model_input_genes for item in sublist]\n",
    "        \n",
    "        bkgd_genes = set(model_input_genes)\n",
    "        print(\"background Genes:\" + str(len(bkgd_genes)))\n",
    "        bkgd_genes = [x for x in bkgd_genes if x not in ribosomal]\n",
    "        print(\"background Genes after ribosomal remove:\" + str(len(bkgd_genes)))\n",
    "        return(bkgd_genes)\n",
    "        \n",
    "       \n",
    "    if backgd_type == \"program\":\n",
    "        # Use program genes as background\n",
    "        # Filter gene expression data only for program genes across all programs\n",
    "        program_list = loadPrograms(disease_relevant=False)\n",
    "        referenceDictionary = createPrGenesDictionary(program_list, regulonModulesAll)\n",
    "        my_genes =list(referenceDictionary.values())\n",
    "        bkgd_genes = [item for sublist in my_genes for item in sublist]\n",
    "        bkgd_genes = set(bkgd_genes)\n",
    "        print(\"background Genes:\" + str(len(bkgd_genes)))\n",
    "        bkgd_genes = [x for x in bkgd_genes if x not in ribosomal]\n",
    "        print(\"background Genes after ribosomal remove:\" + str(len(bkgd_genes)))\n",
    "        return(bkgd_genes)"
   ]
  },
  {
   "cell_type": "markdown",
   "metadata": {},
   "source": [
    "# Load Programs"
   ]
  },
  {
   "cell_type": "code",
   "execution_count": 159,
   "metadata": {},
   "outputs": [
    {
     "name": "stdout",
     "output_type": "stream",
     "text": [
      "Total # of programs:  178\n",
      "Filtered # of programs:  33\n",
      "Returned 33 filtered Programs\n",
      "Total # of programs:  178\n",
      "Filtered # of programs:  33\n",
      "Returned 178 Total Programs\n"
     ]
    }
   ],
   "source": [
    "# load disease relevant programs\n",
    "program_list_disease = loadPrograms(disease_relevant=True)\n",
    "\n",
    "# load all programs\n",
    "program_list_all = loadPrograms(disease_relevant=False)"
   ]
  },
  {
   "cell_type": "markdown",
   "metadata": {
    "tags": []
   },
   "source": [
    "# Load data folders"
   ]
  },
  {
   "cell_type": "code",
   "execution_count": 160,
   "metadata": {},
   "outputs": [
    {
     "name": "stdout",
     "output_type": "stream",
     "text": [
      "Total Patients to process: 13\n"
     ]
    }
   ],
   "source": [
    "# Folders for patient data\n",
    "patientDataFolders = glob.glob('/Volumes/omics4tb2/SYGNAL/XCures/patients_processed_data/*')\n",
    "patientDataFolders = list(filter(lambda x:('TL-' in x or 'P76156' in x) , patientDataFolders))\n",
    "patientDataFolders = list(filter(lambda x:('TL-20-F66315' not in x) , patientDataFolders))\n",
    "\n",
    "print('Total Patients to process: %s' %(len(patientDataFolders)))"
   ]
  },
  {
   "cell_type": "markdown",
   "metadata": {},
   "source": [
    "# Function to calculate activity stats"
   ]
  },
  {
   "cell_type": "code",
   "execution_count": 161,
   "metadata": {},
   "outputs": [],
   "source": [
    "def activityStats(inputDf,label,patientID):\n",
    "    \n",
    "# calculate regulon or program activity stats\n",
    "    overActiveCount = len(inputDf[inputDf[patientID] == 1])\n",
    "    underActiveCount = len(inputDf[inputDf[patientID] == -1])\n",
    "    neutralCount = len(inputDf[inputDf[patientID] == 0])\n",
    "\n",
    "    resSummary = {\"Over\" : [overActiveCount],\n",
    "                          \"Under\" : [underActiveCount],\n",
    "                          \"Neutral\" : [neutralCount],\n",
    "                  \"Type\" : label\n",
    "                 }\n",
    "    resSummary = pd.DataFrame(resSummary)\n",
    "    resSummary = resSummary.rename(index={0: patientID})\n",
    "    return(resSummary)"
   ]
  },
  {
   "cell_type": "markdown",
   "metadata": {},
   "source": [
    "# Function to plot processed & Raw data"
   ]
  },
  {
   "cell_type": "code",
   "execution_count": 162,
   "metadata": {},
   "outputs": [],
   "source": [
    "import matplotlib.pyplot as plt\n",
    "\n",
    "def processingPlots(gene, patient, expressionData):\n",
    "    # gene to plot\n",
    "    if gene is None:\n",
    "        gene_data = expressionData.iloc[0,:]\n",
    "    else:\n",
    "        gene_data = expressionData.loc[gene,:]\n",
    "              \n",
    "    # patient to plot\n",
    "    if patient is None:\n",
    "        patient_data = expressionData.iloc[:,0]\n",
    "    else:\n",
    "        patient_data = expressionData.loc[:,patient] \n",
    "    \n",
    "    # get first 100 patient to plot\n",
    "    individual_expression_data = [expressionData.iloc[:,i] for i in range(100)]\n",
    "    \n",
    "    _ = plt.boxplot(individual_expression_data)\n",
    "    plt.title(\"Patient expression profiles\",fontsize=14)\n",
    "    plt.ylabel(\"Relative expression\",fontsize=14)\n",
    "    plt.xlabel(\"Sample ID\",fontsize=14)\n",
    "    plt.figure()\n",
    "\n",
    "    _ = plt.hist(gene_data,bins=100,alpha=0.75)\n",
    "    plt.title(\"Expression of %s\" %(gene),fontsize=14)\n",
    "    plt.ylabel(\"Frequency\",fontsize=14)\n",
    "    plt.xlabel(\"Relative expression\",fontsize=14)\n",
    "    plt.figure()\n",
    "    \n",
    "    _ = plt.hist(patient_data,bins=200,color=[0,0.4,0.8],alpha=0.75)\n",
    "    plt.ylim(0,200)\n",
    "    plt.title(\"Expression of patient: %s\" %(patient),fontsize=14)\n",
    "    plt.ylabel(\"Frequency\",fontsize=14)\n",
    "    plt.xlabel(\"Relative expression\",fontsize=14)"
   ]
  },
  {
   "cell_type": "markdown",
   "metadata": {},
   "source": [
    "# Preprocess patient + cohort data"
   ]
  },
  {
   "cell_type": "code",
   "execution_count": 163,
   "metadata": {},
   "outputs": [
    {
     "name": "stdout",
     "output_type": "stream",
     "text": [
      "completed z-transformation.\n"
     ]
    }
   ],
   "source": [
    "#output_dir = \"/Volumes/omics4tb2/SYGNAL/XCures\"\n",
    "\n",
    "# Load patients data combined with cohort rnaseq tpms\n",
    "combined_patient_cohort_filename = os.path.join(\"/Volumes/omics4tb2/SYGNAL/XCures/patients_processed_data/allpatients_withcohort_tpm.csv\")\n",
    "# read cohort + patient data\n",
    "rawExpression = miner.readFileToDf(combined_patient_cohort_filename)\n",
    "\n",
    "# remove Null rows\n",
    "rawExpressionZeroFiltered = miner.removeNullRows(rawExpression)\n",
    "\n",
    "# correct batch effects\n",
    "zscoredExpression = miner.correctBatchEffects(rawExpressionZeroFiltered)"
   ]
  },
  {
   "cell_type": "code",
   "execution_count": 164,
   "metadata": {},
   "outputs": [],
   "source": [
    "zscoredExpression.to_csv(os.path.join(\"/Volumes/omics4tb2/SYGNAL/XCures/patients_processed_data/allpatients_withcohort_zscores.csv\"))"
   ]
  },
  {
   "cell_type": "markdown",
   "metadata": {},
   "source": [
    "# Raw data inspection"
   ]
  },
  {
   "cell_type": "code",
   "execution_count": 165,
   "metadata": {},
   "outputs": [
    {
     "data": {
      "image/png": "[encoded data removed]",
      "text/plain": [
       "<Figure size 432x288 with 1 Axes>"
      ]
     },
     "metadata": {
      "needs_background": "light"
     },
     "output_type": "display_data"
    },
    {
     "data": {
      "image/png": "[encoded data removed]",
      "text/plain": [
       "<Figure size 432x288 with 1 Axes>"
      ]
     },
     "metadata": {
      "needs_background": "light"
     },
     "output_type": "display_data"
    },
    {
     "data": {
      "image/png": "[encoded data removed]",
      "text/plain": [
       "<Figure size 432x288 with 1 Axes>"
      ]
     },
     "metadata": {
      "needs_background": "light"
     },
     "output_type": "display_data"
    }
   ],
   "source": [
    "processingPlots(\"ENSG00000137818\",\"TCGA.41.5651.01A.01R.1850.01.1\",rawExpression )"
   ]
  },
  {
   "cell_type": "markdown",
   "metadata": {},
   "source": [
    "# Processed data inspection"
   ]
  },
  {
   "cell_type": "code",
   "execution_count": 166,
   "metadata": {},
   "outputs": [
    {
     "data": {
      "image/png": "[encoded data removed]",
      "text/plain": [
       "<Figure size 432x288 with 1 Axes>"
      ]
     },
     "metadata": {
      "needs_background": "light"
     },
     "output_type": "display_data"
    },
    {
     "data": {
      "image/png": "[encoded data removed]",
      "text/plain": [
       "<Figure size 432x288 with 1 Axes>"
      ]
     },
     "metadata": {
      "needs_background": "light"
     },
     "output_type": "display_data"
    },
    {
     "data": {
      "image/png": "[encoded data removed]",
      "text/plain": [
       "<Figure size 432x288 with 1 Axes>"
      ]
     },
     "metadata": {
      "needs_background": "light"
     },
     "output_type": "display_data"
    }
   ],
   "source": [
    "processingPlots(\"ENSG00000137818\",\"TCGA.41.5651.01A.01R.1850.01.1\",zscoredExpression )"
   ]
  },
  {
   "cell_type": "markdown",
   "metadata": {},
   "source": [
    "# Analyze patient data"
   ]
  },
  {
   "cell_type": "code",
   "execution_count": 167,
   "metadata": {},
   "outputs": [
    {
     "name": "stdout",
     "output_type": "stream",
     "text": [
      "background Genes:9728\n",
      "background Genes after ribosomal remove:9614\n",
      "Total number of genes: 6781\n",
      "Total number of genes: 1862\n"
     ]
    },
    {
     "data": {
      "application/vnd.jupyter.widget-view+json": {
       "model_id": "00e02d59d09e4b0da138f73eac970c8b",
       "version_major": 2,
       "version_minor": 0
      },
      "text/plain": [
       "  0%|          | 0/13 [00:00<?, ?it/s]"
      ]
     },
     "metadata": {},
     "output_type": "display_data"
    },
    {
     "name": "stdout",
     "output_type": "stream",
     "text": [
      "TL-19-61DB85\n",
      "biclusterMembershipDictionary is done!\n",
      "biclusterMembershipDictionary is done!\n",
      "biclusterMembershipDictionary is done!\n",
      "biclusterMembershipDictionary is done!\n",
      "biclusterMembershipDictionary is done!\n",
      "biclusterMembershipDictionary is done!\n",
      "biclusterMembershipDictionary is done!\n",
      "biclusterMembershipDictionary is done!\n",
      "TL-19-87E3E1\n",
      "biclusterMembershipDictionary is done!\n",
      "biclusterMembershipDictionary is done!\n",
      "biclusterMembershipDictionary is done!\n",
      "biclusterMembershipDictionary is done!\n",
      "biclusterMembershipDictionary is done!\n",
      "biclusterMembershipDictionary is done!\n",
      "biclusterMembershipDictionary is done!\n",
      "biclusterMembershipDictionary is done!\n",
      "TL-20-0B6792\n",
      "biclusterMembershipDictionary is done!\n",
      "biclusterMembershipDictionary is done!\n",
      "biclusterMembershipDictionary is done!\n",
      "biclusterMembershipDictionary is done!\n",
      "biclusterMembershipDictionary is done!\n",
      "biclusterMembershipDictionary is done!\n",
      "biclusterMembershipDictionary is done!\n",
      "biclusterMembershipDictionary is done!\n",
      "TL-20-24CC77\n",
      "biclusterMembershipDictionary is done!\n",
      "biclusterMembershipDictionary is done!\n",
      "biclusterMembershipDictionary is done!\n",
      "biclusterMembershipDictionary is done!\n",
      "biclusterMembershipDictionary is done!\n",
      "biclusterMembershipDictionary is done!\n",
      "biclusterMembershipDictionary is done!\n",
      "biclusterMembershipDictionary is done!\n",
      "TL-20-495B84\n",
      "biclusterMembershipDictionary is done!\n",
      "biclusterMembershipDictionary is done!\n",
      "biclusterMembershipDictionary is done!\n",
      "biclusterMembershipDictionary is done!\n",
      "biclusterMembershipDictionary is done!\n",
      "biclusterMembershipDictionary is done!\n",
      "biclusterMembershipDictionary is done!\n",
      "biclusterMembershipDictionary is done!\n",
      "TL-20-920D6D\n",
      "biclusterMembershipDictionary is done!\n",
      "biclusterMembershipDictionary is done!\n",
      "biclusterMembershipDictionary is done!\n",
      "biclusterMembershipDictionary is done!\n",
      "biclusterMembershipDictionary is done!\n",
      "biclusterMembershipDictionary is done!\n",
      "biclusterMembershipDictionary is done!\n",
      "biclusterMembershipDictionary is done!\n",
      "TL-20-C7EDD0\n",
      "biclusterMembershipDictionary is done!\n",
      "biclusterMembershipDictionary is done!\n",
      "biclusterMembershipDictionary is done!\n",
      "biclusterMembershipDictionary is done!\n",
      "biclusterMembershipDictionary is done!\n",
      "biclusterMembershipDictionary is done!\n",
      "biclusterMembershipDictionary is done!\n",
      "biclusterMembershipDictionary is done!\n",
      "TL-20-E2D448\n",
      "biclusterMembershipDictionary is done!\n",
      "biclusterMembershipDictionary is done!\n",
      "biclusterMembershipDictionary is done!\n",
      "biclusterMembershipDictionary is done!\n",
      "biclusterMembershipDictionary is done!\n",
      "biclusterMembershipDictionary is done!\n",
      "biclusterMembershipDictionary is done!\n",
      "biclusterMembershipDictionary is done!\n",
      "TL-21-3FD45C\n",
      "biclusterMembershipDictionary is done!\n",
      "biclusterMembershipDictionary is done!\n",
      "biclusterMembershipDictionary is done!\n",
      "biclusterMembershipDictionary is done!\n",
      "biclusterMembershipDictionary is done!\n",
      "biclusterMembershipDictionary is done!\n",
      "biclusterMembershipDictionary is done!\n",
      "biclusterMembershipDictionary is done!\n",
      "TL-19-0B9A1B\n",
      "biclusterMembershipDictionary is done!\n",
      "biclusterMembershipDictionary is done!\n",
      "biclusterMembershipDictionary is done!\n",
      "biclusterMembershipDictionary is done!\n",
      "biclusterMembershipDictionary is done!\n",
      "biclusterMembershipDictionary is done!\n",
      "biclusterMembershipDictionary is done!\n",
      "biclusterMembershipDictionary is done!\n",
      "TL-18-31DCF0\n",
      "biclusterMembershipDictionary is done!\n",
      "biclusterMembershipDictionary is done!\n",
      "biclusterMembershipDictionary is done!\n",
      "biclusterMembershipDictionary is done!\n",
      "biclusterMembershipDictionary is done!\n",
      "biclusterMembershipDictionary is done!\n",
      "biclusterMembershipDictionary is done!\n",
      "biclusterMembershipDictionary is done!\n",
      "P76156_3\n",
      "biclusterMembershipDictionary is done!\n",
      "biclusterMembershipDictionary is done!\n",
      "biclusterMembershipDictionary is done!\n",
      "biclusterMembershipDictionary is done!\n",
      "biclusterMembershipDictionary is done!\n",
      "biclusterMembershipDictionary is done!\n",
      "biclusterMembershipDictionary is done!\n",
      "biclusterMembershipDictionary is done!\n",
      "P76156_6\n",
      "biclusterMembershipDictionary is done!\n",
      "biclusterMembershipDictionary is done!\n",
      "biclusterMembershipDictionary is done!\n",
      "biclusterMembershipDictionary is done!\n",
      "biclusterMembershipDictionary is done!\n",
      "biclusterMembershipDictionary is done!\n",
      "biclusterMembershipDictionary is done!\n",
      "biclusterMembershipDictionary is done!\n",
      "              Over  Under  Neutral                       Type\n",
      "TL-19-61DB85    60     41      404  Disease Relevant Regulons\n",
      "TL-19-61DB85   690    299     2775               All Regulons\n",
      "TL-19-61DB85     6      2       25  Disease Relevant Programs\n",
      "TL-19-61DB85    53     18      107               All Programs\n",
      "TL-19-87E3E1    94     35      376  Disease Relevant Regulons\n",
      "TL-19-87E3E1   793    266     2705               All Regulons\n",
      "TL-19-87E3E1     6      2       25  Disease Relevant Programs\n",
      "TL-19-87E3E1    51     19      108               All Programs\n",
      "TL-20-0B6792   101     23      381  Disease Relevant Regulons\n",
      "TL-20-0B6792   914    259     2591               All Regulons\n",
      "TL-20-0B6792     8      4       21  Disease Relevant Programs\n",
      "TL-20-0B6792    57     21      100               All Programs\n",
      "TL-20-24CC77    56     82      367  Disease Relevant Regulons\n",
      "TL-20-24CC77   623    352     2789               All Regulons\n",
      "TL-20-24CC77     4      6       23  Disease Relevant Programs\n",
      "TL-20-24CC77    43     24      111               All Programs\n",
      "TL-20-495B84    46     35      424  Disease Relevant Regulons\n",
      "TL-20-495B84   631    271     2862               All Regulons\n",
      "TL-20-495B84     2      2       29  Disease Relevant Programs\n",
      "TL-20-495B84    46     18      114               All Programs\n",
      "TL-20-920D6D    33    123      349  Disease Relevant Regulons\n",
      "TL-20-920D6D   591    464     2709               All Regulons\n",
      "TL-20-920D6D     1     11       21  Disease Relevant Programs\n",
      "TL-20-920D6D    42     34      102               All Programs\n",
      "TL-20-C7EDD0    87     17      401  Disease Relevant Regulons\n",
      "TL-20-C7EDD0   827    207     2730               All Regulons\n",
      "TL-20-C7EDD0     8      2       23  Disease Relevant Programs\n",
      "TL-20-C7EDD0    56     13      109               All Programs\n",
      "TL-20-E2D448    62     93      350  Disease Relevant Regulons\n",
      "TL-20-E2D448   716    363     2685               All Regulons\n",
      "TL-20-E2D448     4      8       21  Disease Relevant Programs\n",
      "TL-20-E2D448    44     31      103               All Programs\n",
      "TL-21-3FD45C    47     62      396  Disease Relevant Regulons\n",
      "TL-21-3FD45C   664    322     2778               All Regulons\n",
      "TL-21-3FD45C     3      3       27  Disease Relevant Programs\n",
      "TL-21-3FD45C    49     21      108               All Programs\n",
      "TL-19-0B9A1B    69     48      388  Disease Relevant Regulons\n",
      "TL-19-0B9A1B   764    350     2650               All Regulons\n",
      "TL-19-0B9A1B     6      6       21  Disease Relevant Programs\n",
      "TL-19-0B9A1B    50     21      107               All Programs\n",
      "TL-18-31DCF0    94     30      381  Disease Relevant Regulons\n",
      "TL-18-31DCF0   724    265     2775               All Regulons\n",
      "TL-18-31DCF0     8      4       21  Disease Relevant Programs\n",
      "TL-18-31DCF0    47     19      112               All Programs\n",
      "P76156_3        78     23      404  Disease Relevant Regulons\n",
      "P76156_3       877    212     2675               All Regulons\n",
      "P76156_3         6      2       25  Disease Relevant Programs\n",
      "P76156_3        60     11      107               All Programs\n",
      "P76156_6        46     61      398  Disease Relevant Regulons\n",
      "P76156_6       662    273     2829               All Regulons\n",
      "P76156_6         4      5       24  Disease Relevant Programs\n",
      "P76156_6        44     26      108               All Programs\n"
     ]
    }
   ],
   "source": [
    "# laod Background genes\n",
    "bkgd_genes = loadBackgroundGenes(backgd_type=\"input\")\n",
    "\n",
    "# For all programs, select reference dictionary for downstream analysis (pr_genes, revisedClusters, coexpressionModules, or regulonModules)\n",
    "referenceDictionaryAll = createPrGenesDictionary(program_list_all,regulonModulesAll)\n",
    "\n",
    "# For disease relevant programs, select reference dictionary for downstream analysis (pr_genes, revisedClusters, coexpressionModules, or regulonModules)\n",
    "referenceDictionaryDisease = createPrGenesDictionary(program_list_disease,regulonModulesDisease)\n",
    "\n",
    "\n",
    "# Patient analysis loop\n",
    "allSummary = pd.DataFrame()\n",
    "for folder in tqdm(patientDataFolders):\n",
    "    time.sleep(0.01)\n",
    "    patientID = folder.split('/')[-1] #get patientID\n",
    "    print(patientID)\n",
    "    patientDataFile = pd.DataFrame(zscoredExpression[patientID]) # get RNASeq results\n",
    "    \n",
    "    expressionData = patientDataFile\n",
    "    # create patent activity output folder if it doesnt exist already\n",
    "    activity_output_dir = os.path.join(output_dir,\"patients_network_activities\",patientID)\n",
    "    \n",
    "    if not os.path.exists('%s' %(activity_output_dir)):\n",
    "        os.makedirs(activity_output_dir)\n",
    "   \n",
    "    ############### Regulon Activity ###############\n",
    "    # calculate disease relevant regulon activity \n",
    "    rr = miner.generateRegulonActivity(regulonModulesDisease,expressionData, p=0.05)\n",
    "    \n",
    "    # calculate all regulon activity \n",
    "    aa = miner.generateRegulonActivity(regulonModulesAll,expressionData, p=0.05)\n",
    "\n",
    "    ############### Program Activity ###############\n",
    "    # calculate disease relevant program activity\n",
    "    program_activity_disease = calculateProgramActivity(program_list_disease,regulonModulesDisease,expressionData,referenceDictionaryDisease,outputFile= os.path.join(activity_output_dir,patientID) + \"_disease_rel_program_activity.csv\")\n",
    "\n",
    "    # calculate all program activity\n",
    "    program_activity_all = calculateProgramActivity(program_list_all,regulonModulesAll,expressionData,referenceDictionaryAll,outputFile= os.path.join(activity_output_dir,patientID) + \"_all_program_activity.csv\")\n",
    "\n",
    "    # write disease relevant regulon activity results to filr\n",
    "    rr.to_csv(os.path.join(activity_output_dir,patientID) + \"_disease_rel_regulon_activity.csv\")\n",
    "\n",
    "    # write all regulon activity results to file\n",
    "    aa.to_csv(os.path.join(activity_output_dir,patientID) + \"_all_regulon_activity.csv\")\n",
    "\n",
    "    # calculate regulon activity stats for disease relevant regulons\n",
    "\n",
    "    sum1 = activityStats(rr,\"Disease Relevant Regulons\",patientID)\n",
    "    sum2 = activityStats(aa,\"All Regulons\",patientID)\n",
    "    sum3 = activityStats(program_activity_disease,\"Disease Relevant Programs\",patientID)\n",
    "    sum4 = activityStats(program_activity_all,\"All Programs\",patientID)\n",
    "\n",
    "    allSummary = pd.concat([allSummary,sum1,sum2,sum3,sum4])\n",
    "\n",
    "print(allSummary)\n"
   ]
  },
  {
   "cell_type": "code",
   "execution_count": null,
   "metadata": {},
   "outputs": [],
   "source": [
    "             Over  Under  Neutral                       Type\n",
    "TL-19-61DB85    64     41      400  Disease Relevant Regulons\n",
    "TL-19-61DB85   580    360     2824               All Regulons\n",
    "TL-19-61DB85     5      4       24  Disease Relevant Programs\n",
    "TL-19-61DB85    39     19      120               All Programs\n",
    "TL-19-87E3E1    73     35      397  Disease Relevant Regulons\n",
    "TL-19-87E3E1   612    319     2833               All Regulons\n",
    "TL-19-87E3E1     5      4       24  Disease Relevant Programs\n",
    "TL-19-87E3E1    42     22      114               All Programs\n",
    "TL-20-0B6792    90     35      380  Disease Relevant Regulons\n",
    "TL-20-0B6792   767    347     2650               All Regulons\n",
    "TL-20-0B6792     8      5       20  Disease Relevant Programs\n",
    "TL-20-0B6792    49     22      107               All Programs\n",
    "TL-20-24CC77    41     83      381  Disease Relevant Regulons\n",
    "TL-20-24CC77   498    400     2866               All Regulons\n",
    "TL-20-24CC77     4      6       23  Disease Relevant Programs\n",
    "TL-20-24CC77    35     23      120               All Programs\n",
    "TL-20-495B84    36     43      426  Disease Relevant Regulons\n",
    "TL-20-495B84   496    326     2942               All Regulons\n",
    "TL-20-495B84     2      3       28  Disease Relevant Programs\n",
    "TL-20-495B84    38     20      120               All Programs\n",
    "TL-20-920D6D    30    121      354  Disease Relevant Regulons\n",
    "TL-20-920D6D   496    522     2746               All Regulons\n",
    "TL-20-920D6D     1     11       21  Disease Relevant Programs\n",
    "TL-20-920D6D    36     37      105               All Programs\n",
    "TL-20-C7EDD0    75     18      412  Disease Relevant Regulons\n",
    "TL-20-C7EDD0   655    271     2838               All Regulons\n",
    "TL-20-C7EDD0     8      2       23  Disease Relevant Programs\n",
    "TL-20-C7EDD0    45     18      115               All Programs\n",
    "TL-20-E2D448    56     98      351  Disease Relevant Regulons\n",
    "TL-20-E2D448   554    489     2721               All Regulons\n",
    "TL-20-E2D448     4      8       21  Disease Relevant Programs\n",
    "TL-20-E2D448    38     37      103               All Programs\n",
    "TL-21-3FD45C    46     52      407  Disease Relevant Regulons\n",
    "TL-21-3FD45C   561    365     2838               All Regulons\n",
    "TL-21-3FD45C     3      4       26  Disease Relevant Programs\n",
    "TL-21-3FD45C    36     21      121               All Programs\n",
    "TL-19-0B9A1B    64     48      393  Disease Relevant Regulons\n",
    "TL-19-0B9A1B   647    382     2735               All Regulons\n",
    "TL-19-0B9A1B     5      6       22  Disease Relevant Programs\n",
    "TL-19-0B9A1B    44     25      109               All Programs\n",
    "TL-18-31DCF0    62     23      420  Disease Relevant Regulons\n",
    "TL-18-31DCF0   515    311     2938               All Regulons\n",
    "TL-18-31DCF0     7      4       22  Disease Relevant Programs\n",
    "TL-18-31DCF0    40     22      116               All Programs\n",
    "P76156_3        65     25      415  Disease Relevant Regulons\n",
    "P76156_3       704    251     2809               All Regulons\n",
    "P76156_3         6      3       24  Disease Relevant Programs\n",
    "P76156_3        45     15      118               All Programs\n",
    "P76156_6        38     64      403  Disease Relevant Regulons\n",
    "P76156_6       508    344     2912               All Regulons\n",
    "P76156_6         3      8       22  Disease Relevant Programs\n",
    "P76156_6        39     32      107               All Programs"
   ]
  },
  {
   "cell_type": "markdown",
   "metadata": {},
   "source": [
    "# Previous versions"
   ]
  },
  {
   "cell_type": "markdown",
   "metadata": {
    "tags": []
   },
   "source": [
    "# Loop through each patient to calculate Regulon & Program activity"
   ]
  },
  {
   "cell_type": "code",
   "execution_count": 56,
   "metadata": {},
   "outputs": [
    {
     "name": "stdout",
     "output_type": "stream",
     "text": [
      "background Genes:9728\n",
      "background Genes after ribosomal remove:9614\n"
     ]
    },
    {
     "data": {
      "application/vnd.jupyter.widget-view+json": {
       "model_id": "31cc1caf48af480d8534772c3e7727fb",
       "version_major": 2,
       "version_minor": 0
      },
      "text/plain": [
       "  0%|          | 0/1 [00:00<?, ?it/s]"
      ]
     },
     "metadata": {},
     "output_type": "display_data"
    },
    {
     "name": "stdout",
     "output_type": "stream",
     "text": [
      "TL-19-87E3E1\n",
      "            GeneID    TPM\n",
      "0  ENSG00000000003  21.84\n",
      "1  ENSG00000000005   0.20\n",
      "2  ENSG00000000419  46.71\n",
      "3  ENSG00000000457   8.98\n",
      "4  ENSG00000000460  21.94\n",
      "completed z-transformation.\n",
      "completed identifier conversion.\n",
      "9148 genes were converted.\n",
      "                 TPM\n",
      "ENSG00000138696  NaN\n",
      "ENSG00000104332  NaN\n",
      "ENSG00000153002  NaN\n",
      "ENSG00000003989  NaN\n",
      "ENSG00000169442  NaN\n",
      "Processed: /Volumes/omics4tb2/SYGNAL/XCures/patients_processed_data/TL-19-87E3E1/RNA/TL-19-87E3E1.genes.results\n",
      "biclusterMembershipDictionary is done!\n",
      "biclusterMembershipDictionary is done!\n",
      "biclusterMembershipDictionary is done!\n",
      "biclusterMembershipDictionary is done!\n",
      "Total number of genes: 1862\n",
      "biclusterMembershipDictionary is done!\n",
      "biclusterMembershipDictionary is done!\n",
      "Total number of genes: 6781\n",
      "biclusterMembershipDictionary is done!\n",
      "biclusterMembershipDictionary is done!\n",
      "<bound method NDFrame.head of       TPM\n",
      "0     0.0\n",
      "4     0.0\n",
      "6     0.0\n",
      "14    0.0\n",
      "23    0.0\n",
      "...   ...\n",
      "3675  0.0\n",
      "3703  0.0\n",
      "3707  0.0\n",
      "3727  0.0\n",
      "3732  0.0\n",
      "\n",
      "[505 rows x 1 columns]>\n",
      "              Over  Under  Neutral                       Type\n",
      "TL-19-87E3E1     0      0      505  Disease Relevant Regulons\n",
      "TL-19-87E3E1     0      0     3764               All Regulons\n",
      "TL-19-87E3E1     0      0       33  Disease Relevant Programs\n",
      "TL-19-87E3E1     0      0      178               All Programs\n"
     ]
    }
   ],
   "source": [
    "# laod Background genes\n",
    "bkgd_genes = loadBackgroundGenes(backgd_type=\"input\")\n",
    "\n",
    "# Patient analysis loop\n",
    "allSummary = pd.DataFrame()\n",
    "for folder in tqdm(patientDataFolders[1:2]):\n",
    "    time.sleep(0.01)\n",
    "    patientID = folder.split('/')[-1] #get patientID\n",
    "    print(patientID)\n",
    "    patientDataFile = os.path.join(folder,\"RNA\",patientID + \".genes.results\") # get RNASeq results\n",
    "    \n",
    "    # create patent activity output folder if it doesnt exist already\n",
    "    activity_output_dir = os.path.join(output_dir,\"patients_network_activities\",patientID)\n",
    "    \n",
    "    # Check if patient data file exists\n",
    "    if os.path.exists('%s' %(patientDataFile)):\n",
    "        # create a new column with patient name\n",
    "        newColName = patientID + \"_zscore\"\n",
    "        \n",
    "        # Read expression data\n",
    "        rawExpressionData = pd.read_csv(patientDataFile, sep=\"\\t\", index_col=None, header = 0)\n",
    "        #print(rawExpressionData.head)\n",
    "        \n",
    "        # seperate ensembl gene ids and symbols\n",
    "        rawExpressionData[['GeneID','gene_symbol']] = pd.DataFrame(rawExpressionData).gene_id.str.split(\"_\",expand=True)\n",
    "        #print(rawExpressionData)\n",
    "        \n",
    "        # Filter ncRNAs or ribosomal RNAs\n",
    "        rawExpressionData = rawExpressionData[-rawExpressionData.GeneID.isin(ribosomal)].copy()\n",
    "        #print(rawExpressionData)\n",
    "        \n",
    "        # filter for genes in all programs\n",
    "        #rawExpressionDataFilt = rawExpressionData[rawExpressionData.GeneID.isin(uniqueProteins)].copy()\n",
    "        rawExpressionDataFilt = rawExpressionData[rawExpressionData.GeneID.isin(bkgd_genes)].copy()\n",
    "        #rawExpressionDataFilt = rawExpressionData.loc[rawExpressionData.GeneID in my_genes]\n",
    "        #rawExpressionDataFilt = rawExpressionData\n",
    "        #rawExpressionDataFilt.head()\n",
    "        #print(\"Filtered raw expression\")\n",
    "        #print(rawExpressionDataFilt)\n",
    "        \n",
    "        # zscore patients expression data (if not z-scored)\n",
    "        #rawExpressionDataFilt[[newColName]] = rawExpressionDataFilt[['TPM']].apply(zscore)\n",
    "        #rawExpressionDataFilt\n",
    "        #expressionData = pd.read_csv(\"abundanceXCuresRNATPMTL1961DB85ZScoredLatest.csv\", sep=\",\", index_col=0, header = 0)\n",
    "        #expressionData = rawExpressionDataFilt[[patientID + \"_zscore\"]]\n",
    "        #expressionData.index = rawExpressionDataFilt['GeneID']\n",
    "        #print(expressionData)\n",
    "        \n",
    "        \n",
    "         # seperate ensembl gene ids and symbols\n",
    "        rawExpressionDataFilt[['GeneID','gene_symbol']] = pd.DataFrame(rawExpressionDataFilt).gene_id.str.split(\"_\",expand=True)\n",
    "        #print(rawExpressionData)\n",
    "        rawExpressionData = rawExpressionDataFilt[['GeneID','TPM']]\n",
    "        \n",
    "        rawExpressionData.to_csv(os.path.join(folder,\"RNA\",str(patientID) + \"_tpm.csv\"), index=False)\n",
    "        #sys.exit\n",
    "        print(rawExpressionData.head())\n",
    "        expressionData, conversionTable = miner.preprocess(os.path.join(folder,\"RNA\",patientID + \"_tpm.csv\"))\n",
    "        expressionData.to_csv(os.path.join(folder,\"RNA\",patientID + \"_tpm_exp.csv\"), index=False)\n",
    "\n",
    "        print(expressionData.head())\n",
    "        print(\"Processed: \" + patientDataFile)\n",
    "        #referenceDictionary = regulonModulesDisease\n",
    "        # create a background matrix used for statistical hypothesis testing\n",
    "        #bkgd = miner.backgroundDf(expressionData)\n",
    "        \n",
    "        # for each cluster, give samples that show high coherent cluster activity\n",
    "        #overExpressedMembers = miner.biclusterMembershipDictionary(referenceDictionary,bkgd,label=2,p=0.05)\n",
    "        \n",
    "        # for each clus|ter, give samples that show low coherent cluster activity\n",
    "        #underExpressedMembers = miner.biclusterMembershipDictionary(referenceDictionary,bkgd,label=0,p=0.05)\n",
    "        \n",
    "        # convert overExpressedMembers dictionary to binary matrix\n",
    "        #overExpressedMembersMatrix = miner.membershipToIncidence(overExpressedMembers,expressionData)\n",
    "        #overExpressedMembersMatrix.index = np.array(overExpressedMembersMatrix.index).astype(str)\n",
    "        \n",
    "        # convert underExpressedMembers dictionary to binary matrix\n",
    "        #underExpressedMembersMatrix = miner.membershipToIncidence(underExpressedMembers,expressionData)\n",
    "        #underExpressedMembersMatrix.index = np.array(underExpressedMembersMatrix.index).astype(str)\n",
    "\n",
    "        # Create program matrix with values of {-1,0,1}\n",
    "        #rr = overExpressedMembersMatrix-underExpressedMembersMatrix\n",
    "        #rr = miner.generateRegulonActivity(regulonModulesDisease,expressionData, p=0.05)\n",
    "        #print(dfr_regulons)\n",
    "        # \n",
    "        ############### Regulon Activity ###############\n",
    "        # calculate disease relevant regulon activity \n",
    "        rr = miner.generateRegulonActivity(regulonModulesDisease,expressionData, p=0.05)\n",
    "        #print(rr)\n",
    "        \n",
    "        # calculate all regulon activity \n",
    "        aa = miner.generateRegulonActivity(regulonModulesAll,expressionData, p=0.05)\n",
    "        #print(rr)\n",
    "        \n",
    "        ############### Program Activity ###############\n",
    "        # calculate disease relevant program activity\n",
    "        program_activity_disease = calculateProgramActivity(program_list_disease,regulonModulesDisease,expressionData,outputFile= os.path.join(activity_output_dir,patientID) + \"_disease_rel_program_activity.csv\")\n",
    "        #program_activity_disease = miner.generateProgramActivity(program_list_disease, regulonModulesDisease, expressionData, p=0.05, returnBkgd=\"no\")\n",
    "        \n",
    "        # calculate all program activity\n",
    "        program_activity_all = calculateProgramActivity(program_list_all,regulonModulesAll,expressionData,outputFile= os.path.join(activity_output_dir,patientID) + \"_all_program_activity.csv\")\n",
    "    \n",
    "        # write disease relevant regulon activity results to filr\n",
    "        rr.to_csv(os.path.join(activity_output_dir,patientID) + \"_disease_rel_regulon_activity.csv\")\n",
    "        print(rr.head)\n",
    "        \n",
    "        # write all regulon activity results to file\n",
    "        aa.to_csv(os.path.join(activity_output_dir,patientID) + \"_all_regulon_activity.csv\")\n",
    "        \n",
    "        # calculate regulon activity stats for disease relevant regulons\n",
    "        \n",
    "        sum1 = activityStats(rr,\"Disease Relevant Regulons\")\n",
    "        sum2 = activityStats(aa,\"All Regulons\")\n",
    "        sum3 = activityStats(program_activity_disease,\"Disease Relevant Programs\")\n",
    "        sum4 = activityStats(program_activity_all,\"All Programs\")\n",
    "        \n",
    "        allSummary = pd.concat([allSummary,sum1,sum2,sum3,sum4])\n",
    "        \n",
    "    else:\n",
    "        print(\"Data file doesnt exist: \" + patientDataFile) \n",
    "print(allSummary)\n",
    "        "
   ]
  },
  {
   "cell_type": "code",
   "execution_count": 12,
   "metadata": {},
   "outputs": [
    {
     "ename": "SyntaxError",
     "evalue": "invalid syntax (<ipython-input-12-c2822a3c538f>, line 1)",
     "output_type": "error",
     "traceback": [
      "\u001b[0;36m  File \u001b[0;32m\"<ipython-input-12-c2822a3c538f>\"\u001b[0;36m, line \u001b[0;32m1\u001b[0m\n\u001b[0;31m    Neutral  Over                       Type  Under\u001b[0m\n\u001b[0m                ^\u001b[0m\n\u001b[0;31mSyntaxError\u001b[0m\u001b[0;31m:\u001b[0m invalid syntax\n"
     ]
    }
   ],
   "source": [
    "            Neutral  Over                       Type  Under\n",
    "TL-19-61DB85      365   108  Disease Relevant Regulons     32\n",
    "TL-19-61DB85     2651   787               All Regulons    326\n",
    "TL-19-61DB85       22     9  Disease Relevant Programs      2\n",
    "TL-19-61DB85      108    48               All Programs     22\n",
    "TL-19-87E3E1      349   118  Disease Relevant Regulons     38\n",
    "TL-19-87E3E1     2597   845               All Regulons    322\n",
    "TL-19-87E3E1       19     9  Disease Relevant Programs      5\n",
    "TL-19-87E3E1      106    49               All Programs     23\n",
    "TL-20-0B6792      338   149  Disease Relevant Regulons     18\n",
    "TL-20-0B6792     2649   865               All Regulons    250\n",
    "TL-20-0B6792       20    11  Disease Relevant Programs      2\n",
    "TL-20-0B6792      111    47               All Programs     20\n",
    "TL-20-24CC77      359    96  Disease Relevant Regulons     50\n",
    "TL-20-24CC77     2683   720               All Regulons    361\n",
    "TL-20-24CC77       19     9  Disease Relevant Programs      5\n",
    "TL-20-24CC77      105    48               All Programs     25\n",
    "TL-20-495B84      406    76  Disease Relevant Regulons     23\n",
    "TL-20-495B84     2814   675               All Regulons    275\n",
    "TL-20-495B84       23     8  Disease Relevant Programs      2\n",
    "TL-20-495B84      115    42               All Programs     21\n",
    "TL-20-920D6D      377    58  Disease Relevant Regulons     70\n",
    "TL-20-920D6D     2682   670               All Regulons    412\n",
    "TL-20-920D6D       21     6  Disease Relevant Programs      6\n",
    "TL-20-920D6D      110    45               All Programs     23\n",
    "TL-20-C7EDD0      363   120  Disease Relevant Regulons     22\n",
    "TL-20-C7EDD0     2680   786               All Regulons    298\n",
    "TL-20-C7EDD0       20    10  Disease Relevant Programs      3\n",
    "TL-20-C7EDD0      108    47               All Programs     23\n",
    "TL-20-E2D448      364    86  Disease Relevant Regulons     55\n",
    "TL-20-E2D448     2610   742               All Regulons    412\n",
    "TL-20-E2D448       20     8  Disease Relevant Programs      5\n",
    "TL-20-E2D448      103    48               All Programs     27\n",
    "TL-21-3FD45C      391    80  Disease Relevant Regulons     34\n",
    "TL-21-3FD45C     2701   719               All Regulons    344\n",
    "TL-21-3FD45C       23     7  Disease Relevant Programs      3\n",
    "TL-21-3FD45C      104    50               All Programs     24\n",
    "TL-19-0B9A1B      363   114  Disease Relevant Regulons     28\n",
    "TL-19-0B9A1B     2648   827               All Regulons    289\n",
    "TL-19-0B9A1B       18     9  Disease Relevant Programs      6\n",
    "TL-19-0B9A1B      111    44               All Programs     23\n",
    "TL-18-31DCF0      364   124  Disease Relevant Regulons     17\n",
    "TL-18-31DCF0     2750   742               All Regulons    272\n",
    "TL-18-31DCF0       19    11  Disease Relevant Programs      3\n",
    "TL-18-31DCF0      113    43               All Programs     22"
   ]
  },
  {
   "cell_type": "code",
   "execution_count": null,
   "metadata": {},
   "outputs": [],
   "source": [
    "              Over  Under  Neutral                      Type\n",
    "TL-19-61DB85    48     22      108  Disease Relevant Regulon\n",
    "TL-19-61DB85   787    326     2651               All Regulon\n",
    "TL-19-87E3E1    49     23      106  Disease Relevant Regulon\n",
    "TL-19-87E3E1   845    322     2597               All Regulon\n",
    "TL-20-0B6792    47     20      111  Disease Relevant Regulon\n",
    "TL-20-0B6792   865    250     2649               All Regulon\n",
    "TL-20-24CC77    48     25      105  Disease Relevant Regulon\n",
    "TL-20-24CC77   720    361     2683               All Regulon\n",
    "TL-20-495B84    42     21      115  Disease Relevant Regulon\n",
    "TL-20-495B84   675    275     2814               All Regulon\n",
    "TL-20-920D6D    45     23      110  Disease Relevant Regulon\n",
    "TL-20-920D6D   670    412     2682               All Regulon\n",
    "TL-20-C7EDD0    47     23      108  Disease Relevant Regulon\n",
    "TL-20-C7EDD0   786    298     2680               All Regulon\n",
    "TL-20-E2D448    48     27      103  Disease Relevant Regulon\n",
    "TL-20-E2D448   742    412     2610               All Regulon\n",
    "TL-21-3FD45C    50     24      104  Disease Relevant Regulon\n",
    "TL-21-3FD45C   719    344     2701               All Regulon\n",
    "TL-19-0B9A1B    44     23      111  Disease Relevant Regulon\n",
    "TL-19-0B9A1B   827    289     2648               All Regulon\n",
    "TL-18-31DCF0    43     22      113  Disease Relevant Regulon\n",
    "TL-18-31DCF0   742    272     2750               All Regulon"
   ]
  }
 ],
 "metadata": {
  "kernelspec": {
   "display_name": "Python 3 (ipykernel)",
   "language": "python",
   "name": "python3"
  },
  "language_info": {
   "codemirror_mode": {
    "name": "ipython",
    "version": 3
   },
   "file_extension": ".py",
   "mimetype": "text/x-python",
   "name": "python",
   "nbconvert_exporter": "python",
   "pygments_lexer": "ipython3",
   "version": "3.7.8"
  }
 },
 "nbformat": 4,
 "nbformat_minor": 4
}
