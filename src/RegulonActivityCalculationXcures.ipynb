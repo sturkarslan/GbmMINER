{
 "cells": [
  {
   "cell_type": "markdown",
   "metadata": {},
   "source": [
    "# Load libraries and Network results"
   ]
  },
  {
   "cell_type": "code",
   "execution_count": 52,
   "metadata": {
    "slideshow": {
     "slide_type": "slide"
    },
    "tags": []
   },
   "outputs": [],
   "source": [
    "#!/usr/bin/env python3\n",
    "# -*- coding: utf-8 -*-\n",
    "\"\"\"\n",
    "Created on Fri Sep 25 10:40:42 2020\n",
    "\n",
    "@author: mwall\n",
    "\"\"\"\n",
    "import os\n",
    "import sys\n",
    "import glob\n",
    "import numpy as np\n",
    "import pandas as pd\n",
    "import miner as miner\n",
    "from scipy.stats import zscore\n",
    "import miner_py3_kk as miner\n",
    "from tqdm.notebook import tqdm, trange\n",
    "import time\n",
    "\n",
    "# change the working directory\n",
    "#os.chdir('/Users/serdarturkaslan/Documents/GitHub/GbmMINER/data/MINER_MicroLowessRNATMM.08.24.2020/')\n",
    "# output directory\n",
    "output_dir = \"/Volumes/omics4tb2/SYGNAL/GBM-Serdar/XCures\"\n",
    "# Path to the miner directory\n",
    "input_path = \"/Volumes/omics4tb2/SYGNAL/GBM-Serdar/MINER_MicroLowessRNATMM.08.24.2020\""
   ]
  },
  {
   "cell_type": "markdown",
   "metadata": {},
   "source": [
    "# Function to load regulons"
   ]
  },
  {
   "cell_type": "code",
   "execution_count": 35,
   "metadata": {},
   "outputs": [],
   "source": [
    "def loadRegulons(disease_relevant=True,disease_relevant_regulons_file=\"regulonDfGbmMicroRNASigCoxAndStatSig.csv\"):\n",
    "    \n",
    "    # Load regulon Modules\n",
    "    regulonModules = miner.read_json(os.path.join(input_path,\"regulons.json\"))\n",
    "    print(\"Total number of regulons: \" + str(len(regulonModules)))\n",
    "\n",
    "    # load regulon data frame\n",
    "    # All Regulons\n",
    "    regulonDf = pd.read_csv(os.path.join(input_path, \"regulonDf.csv\"), header = 0)\n",
    "    regulonDf = list(regulonDf['Regulon_ID'].drop_duplicates())\n",
    "    regulonDf = [str(i) for i in regulonDf]\n",
    "    \n",
    "\n",
    "    # Disease relevant regulons\n",
    "    regulonDfMicroGbmLatest = pd.read_csv(os.path.join(input_path,disease_relevant_regulons_file), header = 0)\n",
    "    regulonDfMicroGbmLatest = list(regulonDfMicroGbmLatest['Regulon_ID'].drop_duplicates())\n",
    "    regulonDfMicroGbmLatest = [str(i) for i in regulonDfMicroGbmLatest]\n",
    "    regulonModulesFiltered = dict((k, regulonModules[k]) for k in regulonDfMicroGbmLatest if k in regulonModules)\n",
    "    print(\"Filtered number of regulons: \" + str(len(regulonModulesFiltered)))\n",
    "    \n",
    "    if disease_relevant == True:\n",
    "        #regulonModules = dict((k, regulonModules[k]) for k in regulonDfMicroGbmLatest if k in regulonModules)\n",
    "        regulonModules = regulonModulesFiltered \n",
    "        print(\"Returned %s filtered regulons\" %(str(len(regulonModules))))\n",
    "        return(regulonModules)\n",
    "    \n",
    "    else:\n",
    "        regulonModules = dict((k, regulonModules[k]) for k in regulonDf if k in regulonModules)\n",
    "        print(\"Returned %s Total regulons\" %(str(len(regulonModules))))\n",
    "        return(regulonModules)\n"
   ]
  },
  {
   "cell_type": "markdown",
   "metadata": {},
   "source": [
    "# Function to load Programs "
   ]
  },
  {
   "cell_type": "code",
   "execution_count": 36,
   "metadata": {},
   "outputs": [],
   "source": [
    "def loadPrograms(disease_relevant=True,disease_relevant_programs_file=\"transcriptional_programsmiRNAAndSig.json\"):\n",
    "    \n",
    "    # Load transcriptional programs\n",
    "    # All Programs\n",
    "    transcriptional_programs = miner.read_json(os.path.join(input_path,'transcriptional_programs.json'))\n",
    "    print(\"Total # of programs: \", str(len(transcriptional_programs)))\n",
    "    \n",
    "    transcriptional_programs_filtered = miner.read_json(os.path.join(input_path,disease_relevant_programs_file))\n",
    "    print(\"Filtered # of programs: \", str(len(transcriptional_programs_filtered)))\n",
    "    \n",
    "    if disease_relevant == True:\n",
    "            transcriptional_programs = transcriptional_programs_filtered\n",
    "            print(\"Returned %s filtered Programs\" %(str(len(transcriptional_programs_filtered))))\n",
    "    else:\n",
    "        transcriptional_programs = transcriptional_programs\n",
    "        print(\"Returned %s Total Programs\" %(str(len(transcriptional_programs))))\n",
    "\n",
    "    program_list = [transcriptional_programs[str(key)] for key in range(len(transcriptional_programs.keys()))]\n",
    "    \n",
    "    return(program_list)"
   ]
  },
  {
   "cell_type": "markdown",
   "metadata": {
    "tags": []
   },
   "source": [
    "# Function to calculate Program activity"
   ]
  },
  {
   "cell_type": "code",
   "execution_count": 37,
   "metadata": {},
   "outputs": [],
   "source": [
    "def calculateProgramActivity(program_list,regulons,expressionData,outputFile):\n",
    "    \n",
    "    # select reference dictionary for downstream analysis (pr_genes, revisedClusters, coexpressionModules, or regulonModules)\n",
    "    referenceDictionary = createPrGenesDictionary(program_list,regulons)\n",
    "\n",
    "    # create a background matrix used for statistical hypothesis testing\n",
    "    bkgd = miner.backgroundDf(expressionData)\n",
    "\n",
    "    # for each cluster, give samples that show high coherent cluster activity\n",
    "    overExpressedMembers = miner.biclusterMembershipDictionary(referenceDictionary,bkgd,label=2,p=0.05)\n",
    "\n",
    "    # for each clus|ter, give samples that show low coherent cluster activity\n",
    "    underExpressedMembers = miner.biclusterMembershipDictionary(referenceDictionary,bkgd,label=0,p=0.05)\n",
    "\n",
    "    # convert overExpressedMembers dictionary to binary matrix\n",
    "    overExpressedProgramsMatrix = miner.membershipToIncidence(overExpressedMembers,expressionData)\n",
    "\n",
    "    # convert underExpressedMembers dictionary to binary matrix\n",
    "    underExpressedProgramsMatrix = miner.membershipToIncidence(underExpressedMembers,expressionData)\n",
    "\n",
    "    # Create program matrix with values of {-1,0,1}\n",
    "    dfr_programs = overExpressedProgramsMatrix-underExpressedProgramsMatrix\n",
    "    \n",
    "    # Write program activity into a outFile\n",
    "    dfr_programs.to_csv(outputFile)\n",
    "    \n",
    "    return(dfr_programs)"
   ]
  },
  {
   "cell_type": "markdown",
   "metadata": {},
   "source": [
    "# Function to create dictionary of propgram genes"
   ]
  },
  {
   "cell_type": "code",
   "execution_count": 38,
   "metadata": {},
   "outputs": [],
   "source": [
    "# Create dictionary of program genes\n",
    "# make dictionary of program keys with gene lists as elements\n",
    "def createPrGenesDictionary(program_list, regulons):\n",
    "    pr_genes_expanded = {}\n",
    "    for i in range(len(program_list)):\n",
    "        rgns = program_list[i]\n",
    "        genes = []\n",
    "        for r in rgns:\n",
    "            if r in regulons:\n",
    "                genes.append(regulons[r])\n",
    "        if len(genes) != 0:\n",
    "            genes = list(set(np.hstack(genes)))\n",
    "            pr_genes_expanded[i] = genes\n",
    "\n",
    "    unique_genes = set(x for y in pr_genes_expanded.values() for x in y)\n",
    "        \n",
    "    print(\"Total number of genes: \" + str(len(unique_genes)))\n",
    "    return(pr_genes_expanded)\n"
   ]
  },
  {
   "cell_type": "markdown",
   "metadata": {},
   "source": [
    "# Load data folders"
   ]
  },
  {
   "cell_type": "code",
   "execution_count": 39,
   "metadata": {},
   "outputs": [
    {
     "name": "stdout",
     "output_type": "stream",
     "text": [
      "Total Patients to process: 12\n"
     ]
    }
   ],
   "source": [
    "# Folders for patient data\n",
    "patientDataFolders = glob.glob('/Volumes/omics4tb2/SYGNAL/XCures/processed_results/*')\n",
    "patientDataFolders = list(filter(lambda x:'TL-' in x, patientDataFolders))\n",
    "print('Total Patients to process: %s' %(len(patientDataFolders)))"
   ]
  },
  {
   "cell_type": "markdown",
   "metadata": {},
   "source": [
    "# Load Protein coding genes for filtering"
   ]
  },
  {
   "cell_type": "code",
   "execution_count": 40,
   "metadata": {},
   "outputs": [
    {
     "name": "stdout",
     "output_type": "stream",
     "text": [
      "Protein Coding Genes\n",
      "Loaded 22492 protein-coding genes\n",
      "\n"
     ]
    }
   ],
   "source": [
    "# load protein coding genes list from ensembl for filtering\n",
    "ensemblProteinCodingGenes = pd.read_csv(os.path.join(input_path,\"homo_sapiens_protein_coding_export.txt\"), sep=\"\\t\", index_col=None, header = 0)\n",
    "print(\"Protein Coding Genes\")\n",
    "#print(ensemblProteinCodingGenes)\n",
    "\n",
    "uniqueProteins = list(ensemblProteinCodingGenes['Gene stable ID'].drop_duplicates())\n",
    "print(\"Loaded \" + str(len(uniqueProteins)) + \" protein-coding genes\\n\")"
   ]
  },
  {
   "cell_type": "markdown",
   "metadata": {},
   "source": [
    "# Load Regulons"
   ]
  },
  {
   "cell_type": "code",
   "execution_count": 41,
   "metadata": {},
   "outputs": [
    {
     "name": "stdout",
     "output_type": "stream",
     "text": [
      "Total number of regulons: 3764\n",
      "Filtered number of regulons: 505\n",
      "Returned 505 filtered regulons\n",
      "Total number of regulons: 3764\n",
      "Filtered number of regulons: 505\n",
      "Returned 3764 Total regulons\n"
     ]
    }
   ],
   "source": [
    "# load disease relevant regulons\n",
    "regulonModulesDisease = loadRegulons(disease_relevant=True)\n",
    "\n",
    "#load all regulons\n",
    "regulonModulesAll = loadRegulons(disease_relevant=False)"
   ]
  },
  {
   "cell_type": "markdown",
   "metadata": {},
   "source": [
    "# Load Programs"
   ]
  },
  {
   "cell_type": "code",
   "execution_count": 42,
   "metadata": {},
   "outputs": [
    {
     "name": "stdout",
     "output_type": "stream",
     "text": [
      "Total # of programs:  178\n",
      "Filtered # of programs:  33\n",
      "Returned 33 filtered Programs\n",
      "Total # of programs:  178\n",
      "Filtered # of programs:  33\n",
      "Returned 178 Total Programs\n"
     ]
    }
   ],
   "source": [
    "# load disease relevant programs\n",
    "program_list_disease = loadPrograms(disease_relevant=True)\n",
    "\n",
    "# load all programs\n",
    "program_list_all = loadPrograms(disease_relevant=False)"
   ]
  },
  {
   "cell_type": "markdown",
   "metadata": {
    "tags": []
   },
   "source": [
    "# Loop through each patient to calculate Regulon & Program activity"
   ]
  },
  {
   "cell_type": "code",
   "execution_count": 54,
   "metadata": {},
   "outputs": [
    {
     "data": {
      "application/vnd.jupyter.widget-view+json": {
       "model_id": "276d32adca5d447aa767e299ac2d0d2c",
       "version_major": 2,
       "version_minor": 0
      },
      "text/plain": [
       "  0%|          | 0/1 [00:00<?, ?it/s]"
      ]
     },
     "metadata": {},
     "output_type": "display_data"
    },
    {
     "name": "stdout",
     "output_type": "stream",
     "text": [
      "TL-19-87E3E1\n",
      "<bound method NDFrame.head of                           gene_id  \\\n",
      "0          ENSG00000000003_TSPAN6   \n",
      "1            ENSG00000000005_TNMD   \n",
      "2            ENSG00000000419_DPM1   \n",
      "3           ENSG00000000457_SCYL3   \n",
      "4        ENSG00000000460_C1orf112   \n",
      "...                           ...   \n",
      "60671    ENSG00000288584_Z97205.3   \n",
      "60672  ENSG00000288585_AC010184.1   \n",
      "60673  ENSG00000288586_AL357874.3   \n",
      "60674  ENSG00000288587_AL645933.5   \n",
      "60675  ENSG00000288588_AC116317.2   \n",
      "\n",
      "                                        transcript_id(s)   length  \\\n",
      "0      ENST00000373020_TSPAN6-201,ENST00000494424_TSP...  2547.10   \n",
      "1      ENST00000373031_TNMD-201,ENST00000485971_TNMD-202  1205.00   \n",
      "2      ENST00000371582_DPM1-201,ENST00000371584_DPM1-...  1075.97   \n",
      "3      ENST00000367770_SCYL3-201,ENST00000367771_SCYL...  4091.68   \n",
      "4      ENST00000286031_C1orf112-201,ENST00000359326_C...  2103.71   \n",
      "...                                                  ...      ...   \n",
      "60671                       ENST00000655888_Z97205.3-201  2595.00   \n",
      "60672                     ENST00000673707_AC010184.1-201  5800.00   \n",
      "60673                     ENST00000673624_AL357874.3-201  1703.00   \n",
      "60674                     ENST00000673857_AL645933.5-201   554.00   \n",
      "60675                     ENST00000673884_AC116317.2-201  1086.00   \n",
      "\n",
      "       effective_length  expected_count    TPM   FPKM  \n",
      "0               2302.51         1062.00  21.84  15.51  \n",
      "1                960.41            4.00   0.20   0.14  \n",
      "2                831.39          820.00  46.71  33.16  \n",
      "3               3847.10          729.71   8.98   6.38  \n",
      "4               1859.15          861.29  21.94  15.58  \n",
      "...                 ...             ...    ...    ...  \n",
      "60671           2350.41            0.00   0.00   0.00  \n",
      "60672           5555.41            0.00   0.00   0.00  \n",
      "60673           1458.41            0.00   0.00   0.00  \n",
      "60674            310.03            0.00   0.00   0.00  \n",
      "60675            841.41            0.00   0.00   0.00  \n",
      "\n",
      "[60676 rows x 7 columns]>\n",
      "Filtered raw expression\n",
      "                            gene_id  \\\n",
      "0            ENSG00000000003_TSPAN6   \n",
      "1              ENSG00000000005_TNMD   \n",
      "2              ENSG00000000419_DPM1   \n",
      "3             ENSG00000000457_SCYL3   \n",
      "4          ENSG00000000460_C1orf112   \n",
      "...                             ...   \n",
      "60606    ENSG00000288460_AL138899.3   \n",
      "60609    ENSG00000288520_AL357075.4   \n",
      "60616    ENSG00000288529_AL035699.1   \n",
      "60645  ENSG00000288558_DUS4L-BCAP29   \n",
      "60657    ENSG00000288570_AL359092.3   \n",
      "\n",
      "                                        transcript_id(s)   length  \\\n",
      "0      ENST00000373020_TSPAN6-201,ENST00000494424_TSP...  2547.10   \n",
      "1      ENST00000373031_TNMD-201,ENST00000485971_TNMD-202  1205.00   \n",
      "2      ENST00000371582_DPM1-201,ENST00000371584_DPM1-...  1075.97   \n",
      "3      ENST00000367770_SCYL3-201,ENST00000367771_SCYL...  4091.68   \n",
      "4      ENST00000286031_C1orf112-201,ENST00000359326_C...  2103.71   \n",
      "...                                                  ...      ...   \n",
      "60606                     ENST00000672824_AL138899.3-201  1015.00   \n",
      "60609                     ENST00000673182_AL357075.4-201  2700.00   \n",
      "60616                     ENST00000674115_AL035699.1-201   129.00   \n",
      "60645  ENST00000673665_DUS4L-BCAP29-201,ENST000006736...  3877.05   \n",
      "60657                     ENST00000674075_AL359092.3-201    99.00   \n",
      "\n",
      "       effective_length  expected_count    TPM   FPKM           GeneID  \\\n",
      "0               2302.51         1062.00  21.84  15.51  ENSG00000000003   \n",
      "1                960.41            4.00   0.20   0.14  ENSG00000000005   \n",
      "2                831.39          820.00  46.71  33.16  ENSG00000000419   \n",
      "3               3847.10          729.71   8.98   6.38  ENSG00000000457   \n",
      "4               1859.15          861.29  21.94  15.58  ENSG00000000460   \n",
      "...                 ...             ...    ...    ...              ...   \n",
      "60606            770.41            0.00   0.00   0.00  ENSG00000288460   \n",
      "60609           2455.41          264.29   5.10   3.62  ENSG00000288520   \n",
      "60616              1.72            0.00   0.00   0.00  ENSG00000288529   \n",
      "60645           3632.46          154.57   2.02   1.43  ENSG00000288558   \n",
      "60657              0.00            0.00   0.00   0.00  ENSG00000288570   \n",
      "\n",
      "        gene_symbol  \n",
      "0            TSPAN6  \n",
      "1              TNMD  \n",
      "2              DPM1  \n",
      "3             SCYL3  \n",
      "4          C1orf112  \n",
      "...             ...  \n",
      "60606    AL138899.3  \n",
      "60609    AL357075.4  \n",
      "60616    AL035699.1  \n",
      "60645  DUS4L-BCAP29  \n",
      "60657    AL359092.3  \n",
      "\n",
      "[19638 rows x 9 columns]\n",
      "Processed: /Volumes/omics4tb2/SYGNAL/XCures/processed_results/TL-19-87E3E1/RNA/TL-19-87E3E1.genes.results\n",
      "biclusterMembershipDictionary is done!\n",
      "biclusterMembershipDictionary is done!\n",
      "biclusterMembershipDictionary is done!\n",
      "biclusterMembershipDictionary is done!\n",
      "Total number of genes: 1862\n",
      "biclusterMembershipDictionary is done!\n",
      "biclusterMembershipDictionary is done!\n",
      "Total number of genes: 6781\n",
      "biclusterMembershipDictionary is done!\n",
      "biclusterMembershipDictionary is done!\n",
      "              Over  Under  Neutral                      Type\n",
      "TL-19-87E3E1   252      0      253  Disease Relevant Regulon\n",
      "TL-19-87E3E1  1872     58     1834               All Regulon\n"
     ]
    }
   ],
   "source": [
    "# Patient analysis loop\n",
    "allSummary = pd.DataFrame()\n",
    "for folder in tqdm(patientDataFolders[1:2]):\n",
    "    time.sleep(0.01)\n",
    "    patientID = folder.split('/')[-1] #get patientID\n",
    "    print(patientID)\n",
    "    patientDataFile = os.path.join(folder,\"RNA\",patientID + \".genes.results\") # get RNASeq results\n",
    "    \n",
    "    # Check if patient data file exists\n",
    "    if os.path.exists('%s' %(patientDataFile)):\n",
    "        # create a new column with patient name\n",
    "        newColName = patientID + \"_zscore\"\n",
    "        \n",
    "        # Read expression data\n",
    "        rawExpressionData = pd.read_csv(patientDataFile, sep=\"\\t\", index_col=None, header = 0)\n",
    "        print(rawExpressionData.head)\n",
    "        \n",
    "        # seperate ensembl gene ids and symbols\n",
    "        rawExpressionData[['GeneID','gene_symbol']] = pd.DataFrame(rawExpressionData).gene_id.str.split(\"_\",expand=True)\n",
    "        #print(rawExpressionData)\n",
    "        \n",
    "        # filter for protein coding genes\n",
    "        rawExpressionDataFilt = rawExpressionData[rawExpressionData.GeneID.isin(uniqueProteins)].copy()\n",
    "        #rawExpressionDataFilt = rawExpressionData.loc[rawExpressionData.GeneID in uniqueProteins]\n",
    "        rawExpressionDataFilt.head()\n",
    "        print(\"Filtered raw expression\")\n",
    "        print(rawExpressionDataFilt)\n",
    "        \n",
    "        # zscore patients expression data\n",
    "        rawExpressionDataFilt[[newColName]] = rawExpressionDataFilt[['TPM']].apply(zscore)\n",
    "        rawExpressionDataFilt\n",
    "        #expressionData = pd.read_csv(\"abundanceXCuresRNATPMTL1961DB85ZScoredLatest.csv\", sep=\",\", index_col=0, header = 0)\n",
    "        expressionData = rawExpressionDataFilt[[patientID + \"_zscore\"]]\n",
    "        expressionData.index = rawExpressionDataFilt['GeneID']\n",
    "        #print(expressionData)\n",
    "        \n",
    "        print(\"Processed: \" + patientDataFile)\n",
    "        referenceDictionary = regulonModulesDisease\n",
    "        # create a background matrix used for statistical hypothesis testing\n",
    "        bkgd = miner.backgroundDf(expressionData)\n",
    "        \n",
    "        # for each cluster, give samples that show high coherent cluster activity\n",
    "        overExpressedMembers = miner.biclusterMembershipDictionary(referenceDictionary,bkgd,label=2,p=0.05)\n",
    "        \n",
    "        # for each clus|ter, give samples that show low coherent cluster activity\n",
    "        underExpressedMembers = miner.biclusterMembershipDictionary(referenceDictionary,bkgd,label=0,p=0.05)\n",
    "        \n",
    "        # convert overExpressedMembers dictionary to binary matrix\n",
    "        overExpressedMembersMatrix = miner.membershipToIncidence(overExpressedMembers,expressionData)\n",
    "        overExpressedMembersMatrix.index = np.array(overExpressedMembersMatrix.index).astype(str)\n",
    "        \n",
    "        # convert underExpressedMembers dictionary to binary matrix\n",
    "        underExpressedMembersMatrix = miner.membershipToIncidence(underExpressedMembers,expressionData)\n",
    "        underExpressedMembersMatrix.index = np.array(underExpressedMembersMatrix.index).astype(str)\n",
    "\n",
    "        # Create program matrix with values of {-1,0,1}\n",
    "        rr = overExpressedMembersMatrix-underExpressedMembersMatrix\n",
    "        #print(dfr_regulons)\n",
    "        # \n",
    "  \n",
    "        # calculate disease relevant regulon activity \n",
    "        #rr = miner.generateRegulonActivity(regulonModulesDisease,expressionData, p=0.05)\n",
    "        #print(rr)\n",
    "        \n",
    "        # calculate all regulon activity \n",
    "        aa = miner.generateRegulonActivity(regulonModulesAll,expressionData, p=0.05)\n",
    "        #print(rr)\n",
    "        \n",
    "        # calculate disease relevant program activity\n",
    "        program_activity_disease = calculateProgramActivity(program_list_disease,regulonModulesDisease,expressionData,outputFile= os.path.join(output_dir,\"network_activities\", patientID) + \"_disease_rel_program_activity.csv\")\n",
    "    \n",
    "        # calculate all program activity\n",
    "        program_activity_all = calculateProgramActivity(program_list_all,regulonModulesAll,expressionData,outputFile= os.path.join(output_dir,\"network_activities\", patientID) + \"_all_program_activity.csv\")\n",
    "    \n",
    "        # write disease relevant regulon activity results to filr\n",
    "        rr.to_csv(os.path.join(output_dir,\"network_activities\", patientID) + \"_disease_rel_regulon_activity.csv\")\n",
    "        \n",
    "        # write all regulon activity results to file\n",
    "        aa.to_csv(os.path.join(output_dir,\"network_activities\", patientID) + \"_all_regulon_activity.csv\")\n",
    "        \n",
    "        # calculate regulon activity stats for disease relevant regulons\n",
    "        overActiveRegulonCount = len(rr[rr[newColName] == 1])\n",
    "        underActiveRegulonCount = len(rr[rr[newColName] == \"-1\"])\n",
    "        neutralRegulonCount = len(rr[rr[newColName] == 0])\n",
    "        \n",
    "        resSummary = {\"Over\" : [overActiveRegulonCount],\n",
    "                              \"Under\" : [underActiveRegulonCount],\n",
    "                              \"Neutral\" : [neutralRegulonCount],\n",
    "                      \"Type\" : \"Disease Relevant Regulon\"\n",
    "                     }\n",
    "        resSummary = pd.DataFrame(resSummary)\n",
    "        resSummary = resSummary.rename(index={0: patientID})\n",
    "        \n",
    "        # calculate regulon activity stats for all regulons\n",
    "        overActiveRegulonCount2 = len(aa[aa[newColName] == 1])\n",
    "        underActiveRegulonCount2 = len(aa[aa[newColName] == -1])\n",
    "        neutralRegulonCount2 = len(aa[aa[newColName] == 0])\n",
    "        \n",
    "        resSummary2 = {\"Over\" : [overActiveRegulonCount2],\n",
    "                              \"Under\" : [underActiveRegulonCount2],\n",
    "                              \"Neutral\" : [neutralRegulonCount2],\n",
    "                      \"Type\" : \"All Regulon\"\n",
    "                     }\n",
    "        resSummary2 = pd.DataFrame(resSummary2)\n",
    "        resSummary2 = resSummary2.rename(index={0: patientID})\n",
    "        \n",
    "        \n",
    "        allSummary = allSummary.append(resSummary)\n",
    "        allSummary = allSummary.append(resSummary2)\n",
    "        \n",
    "        #print(resSummary)\n",
    "        \n",
    "        #dfr_regulons = miner.generateRegulonActivity(referenceDictionary,expressionData, p=0.05, returnBkgd=\"no\")\n",
    "        \n",
    "#         overActiveRegulonCount = len(dfr_regulons[dfr_regulons[patientID+\"_zscore\"] == 1])\n",
    "#         underActiveRegulonCount = len(dfr_regulons[dfr_regulons[patientID+\"_zscore\"] == -1])\n",
    "#         neutralRegulonCount = len(dfr_regulons[dfr_regulons[patientID+\"_zscore\"] == 0])\n",
    "        \n",
    "#         resSummary = {\"Over\" : [overActiveRegulonCount],\n",
    "#                       \"Under\" : [underActiveRegulonCount],\n",
    "#                       \"Neutral\" : [neutralRegulonCount]}\n",
    "#         resSummary = pd.DataFrame(resSummary)\n",
    "#         resSummary = resSummary.rename(index={0: str(patientID)})\n",
    "#         allSummary = allSummary.append(resSummary)\n",
    "        #print(resSummary)\n",
    "\n",
    "        #print(\"ActiveactiveRegulonCount:\", activeRegulonCount)\n",
    "        #sys.exit()\n",
    "\n",
    "        #dfr_regulons.to_csv(\"Regulon_Activity_\" + patientID + \".csv\")\n",
    "        \n",
    "    else:\n",
    "        print(\"Data file doesnt exist: \" + patientDataFile) \n",
    "print(allSummary)\n",
    "        "
   ]
  },
  {
   "cell_type": "code",
   "execution_count": null,
   "metadata": {},
   "outputs": [],
   "source": []
  }
 ],
 "metadata": {
  "kernelspec": {
   "display_name": "Python 3 (ipykernel)",
   "language": "python",
   "name": "python3"
  },
  "language_info": {
   "codemirror_mode": {
    "name": "ipython",
    "version": 3
   },
   "file_extension": ".py",
   "mimetype": "text/x-python",
   "name": "python",
   "nbconvert_exporter": "python",
   "pygments_lexer": "ipython3",
   "version": "3.7.8"
  }
 },
 "nbformat": 4,
 "nbformat_minor": 4
}
