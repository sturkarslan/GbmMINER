{
 "cells": [
  {
   "cell_type": "code",
   "execution_count": 4,
   "metadata": {},
   "outputs": [
    {
     "name": "stdout",
     "output_type": "stream",
     "text": [
      "Done\n"
     ]
    }
   ],
   "source": [
    "import miner_py3_kk as miner\n",
    "import numpy as np\n",
    "import pandas as pd\n",
    "import os\n",
    "# Path to the miner directory\n",
    "input_path = os.chdir('/Users/serdarturkaslan/Documents/GitHub/GbmMINER/data/MINER_MicroLowessRNATMM.08.24.2020/')\n",
    "\n",
    "# create name for results folder where output files will be saved\n",
    "resultsFolder = \"results_miner3_gbm_MicroarrayRNA_survival_08112021\"\n",
    "\n",
    "# name of the folder containing the miner network\n",
    "#networkFolder = \"miner_network_results\"\n",
    "networkFolder = \"results_minCorrelation_0o2_50_allFiles_gbm_MicroarrayRNA_survival_08112021\"\n",
    "\n",
    "# create results directory\n",
    "resultsDirectory = os.path.join(os.getcwd(),resultsFolder)\n",
    "if not os.path.isdir(resultsDirectory):\n",
    "    os.mkdir(resultsDirectory)\n",
    "\n",
    "expressionData=pd.read_csv(\"GbmMicroRNAMergedWithIDsZScored.csv\",header=0,index_col=0,sep=\",\")\n",
    "regulonModules = miner.read_json(\"regulons.json\")\n",
    "overExpressedMembersMatrix = pd.read_csv(\"overExpressedMembers.csv\",index_col=0,header=0)\n",
    "overExpressedMembersMatrix.index = np.array(overExpressedMembersMatrix.index).astype(str)\n",
    "underExpressedMembersMatrix = pd.read_csv(\"underExpressedMembers.csv\",index_col=0,header=0)\n",
    "underExpressedMembersMatrix.index = np.array(underExpressedMembersMatrix.index).astype(str)\n",
    "eigengenes = pd.read_csv(\"eigengenes.csv\",index_col=0,header=0)\n",
    "eigengenes.index = np.array(underExpressedMembersMatrix.index).astype(str)\n",
    "diff_matrix_MMRF = overExpressedMembersMatrix-underExpressedMembersMatrix\n",
    "# load primary survival data (i.e., corresponding to expression data training set)\n",
    "survival = pd.read_csv(\"TCGA_Survival_Gbm.csv\",index_col=0,header=0)\n",
    "survivalDf = survival.iloc[:,0:2]\n",
    "survivalDf.columns = [\"duration\",\"observed\"]\n",
    "kmDf = miner.kmAnalysis(survivalDf=survivalDf,durationCol=\"duration\",statusCol=\"observed\")\n",
    "guanSurvivalDf= miner.guanRank(kmSurvival=kmDf)\n",
    "regulonDfMicroGbmLatest = pd.read_csv(\"regulonDfGbmMicroRNA.csv\", header = 0)\n",
    "regulonDfMicroGbmLatest = list(regulonDfMicroGbmLatest['Regulon_ID'].drop_duplicates())\n",
    "\n",
    "mgmtpatients = survival[survival['MGMT_Status'] == 'Methylated'].index\n",
    "nonmgmtpatients = survival[survival['MGMT_Status'] == 'Unmethylated'].index\n",
    "\n",
    "mesenchymalpatients = survival[survival['Subtype'] == 'mesenchymal'].index\n",
    "proneuralpatients = survival[survival['Subtype'] == 'proneural'].index\n",
    "gcimppatients = survival[survival['Subtype'] == 'g-cimp'].index\n",
    "print(\"Done\")\n"
   ]
  },
  {
   "cell_type": "code",
   "execution_count": 7,
   "metadata": {},
   "outputs": [
    {
     "data": {
      "application/vnd.jupyter.widget-view+json": {
       "model_id": "954e544b16fc474e9c0a8e14a1d6d391",
       "version_major": 2,
       "version_minor": 0
      },
      "text/plain": [
       "  0%|          | 0/3764 [00:00<?, ?it/s]"
      ]
     },
     "metadata": {},
     "output_type": "display_data"
    }
   ],
   "source": [
    "from lifelines import *\n",
    "from lifelines.utils import median_survival_times\n",
    "import matplotlib.pyplot as plt\n",
    "from lifelines.utils import restricted_mean_survival_time\n",
    "from lifelines.plotting import rmst_plot\n",
    "from tqdm.notebook import tqdm, trange\n",
    "import time    # to be used in loop iterations\n",
    "\n",
    "\n",
    "time_limit = 2500\n",
    "rmst_list = list()\n",
    "for i in tqdm(regulonDfMicroGbmLatest):\n",
    "    time.sleep(0.01)\n",
    "    regulon_num = i\n",
    "    RegulonActivity = pd.DataFrame(diff_matrix_MMRF.loc[str(regulon_num),:])\n",
    "    ActiveRegulons = RegulonActivity.index[RegulonActivity[str(regulon_num)]==1]\n",
    "    InActiveRegulons = RegulonActivity.index[RegulonActivity[str(regulon_num)]==0]\n",
    "    DownRegRegulons = RegulonActivity.index[RegulonActivity[str(regulon_num)]==-1]\n",
    "    DownInActiveRegulons = RegulonActivity.index[RegulonActivity[str(regulon_num)]!=1]\n",
    "\n",
    "    kmf1 = KaplanMeierFitter() \n",
    "    srv = guanSurvivalDf.copy()\n",
    "    patients = list(set(nonmgmtpatients)&set(ActiveRegulons))\n",
    "\n",
    "    if patients:\n",
    "        srv1 = srv.loc[patients,[\"duration\"]]\n",
    "        srv2 = srv.loc[patients,[\"observed\"]]\n",
    "        ## Fit the data into the model\n",
    "        kmf_exp = KaplanMeierFitter().fit(list(srv1['duration']), list(srv2['observed']), label='MGMT methylated patients with active (+1) regulon')\n",
    "        #plt.figure(figsize=(12,12))\n",
    "\n",
    "        ## Create an estimate\n",
    "        #ax = plt.subplot(311)\n",
    "\n",
    "        patients = list(set(nonmgmtpatients)&set(DownRegRegulons))\n",
    "        if patients:\n",
    "            srv1 = srv.loc[patients,[\"duration\"]]\n",
    "            srv2 = srv.loc[patients,[\"observed\"]]\n",
    "\n",
    "            kmf_con = KaplanMeierFitter().fit(list(srv1['duration']), list(srv2['observed']), label='MGMT methylated patients with down-regulated (-1) regulon')\n",
    "\n",
    "\n",
    "            #rmst_plot(kmf_exp, model2=kmf_con, t=time_limit, ax=ax)\n",
    "            #plt.title('Patient survival associated with Regulon-1889')\n",
    "            #plt.ylabel('Survival probability')\n",
    "            #plt.xlabel('')  \n",
    "            #plt.show()\n",
    "            #print(restricted_mean_survival_time(kmf_con, t=time_limit))\n",
    "            #print(restricted_mean_survival_time(kmf_exp, t=time_limit))\n",
    "            rmst_list.append([regulon_num, restricted_mean_survival_time(kmf_con, t=time_limit) - restricted_mean_survival_time(kmf_exp, t=time_limit)])\n",
    "            #patients = list(set(nonmgmtpatients)&set(DownRegRegulons))\n",
    "            #srv1 = srv.loc[patients,[\"duration\"]]\n",
    "            #srv2 = srv.loc[patients,[\"observed\"]]\n",
    "\n",
    "            #kmf_con1 = KaplanMeierFitter().fit(list(srv1['duration']), list(srv2['observed']), label='Non-MGMT methylated patients with under-active (-1) regulon')\n",
    "\n",
    "            #ax = plt.subplot(312)\n",
    "            #plt.title('Patient survival associated with Regulon-1485')\n",
    "            #rmst_plot(kmf_exp, model2=kmf_con1, t=time_limit, ax=ax)\n",
    "\n",
    "\n",
    "            #plt.ylabel('Survival probability')\n",
    "            #plt.xlabel('Overall survival (Days)')  \n",
    "\n",
    "rmstdf = pd.DataFrame(rmst_list)\n",
    "rmstdf.columns = ['Regulon_ID', 'RMST_diff_UnderActiveMinusOverActiveMGMTUnMeth']\n",
    "rmstdf.to_csv(\"AllRegulonsGBMRMSTValsUnMeth.csv\")"
   ]
  },
  {
   "cell_type": "code",
   "execution_count": null,
   "metadata": {},
   "outputs": [],
   "source": []
  }
 ],
 "metadata": {
  "kernelspec": {
   "display_name": "Python 3 (ipykernel)",
   "language": "python",
   "name": "python3"
  },
  "language_info": {
   "codemirror_mode": {
    "name": "ipython",
    "version": 3
   },
   "file_extension": ".py",
   "mimetype": "text/x-python",
   "name": "python",
   "nbconvert_exporter": "python",
   "pygments_lexer": "ipython3",
   "version": "3.7.8"
  }
 },
 "nbformat": 4,
 "nbformat_minor": 4
}
