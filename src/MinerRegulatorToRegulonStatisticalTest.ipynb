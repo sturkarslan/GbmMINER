{
 "cells": [
  {
   "cell_type": "code",
   "execution_count": 5,
   "metadata": {},
   "outputs": [
    {
     "data": {
      "application/vnd.jupyter.widget-view+json": {
       "model_id": "c491cc9c494a4a359b3989b10027b95a",
       "version_major": 2,
       "version_minor": 0
      },
      "text/plain": [
       "  0%|          | 0/3764 [00:00<?, ?it/s]"
      ]
     },
     "metadata": {},
     "output_type": "display_data"
    }
   ],
   "source": [
    "from __future__ import division\n",
    "import imp\n",
    "from astropy.stats import biweight_midcorrelation\n",
    "import pandas as pd\n",
    "import numpy as np\n",
    "from scipy import stats\n",
    "import sys\n",
    "import os\n",
    "os.chdir('/Users/serdarturkaslan/Documents/GitHub/GbmMINER/data/MINER_MicroLowessRNATMM.08.24.2020/')\n",
    "import miner_py3_kk as miner\n",
    "imp.reload(miner)\n",
    "import warnings\n",
    "from tqdm.notebook import tqdm, trange\n",
    "import time    # to be used in loop iterations\n",
    "\n",
    "\n",
    "\n",
    "warnings.filterwarnings(\"ignore\")\n",
    "appended_data = []\n",
    "regulondf = pd.read_csv(\"regulonDf-noindex.csv\", header = 0)\n",
    "expressionData = pd.read_csv(\"GbmMicroRNAMergedWithIDsZScored.csv\", header=0, index_col = 0)\n",
    "coherentMemberDf = pd.read_csv(\"coherentMembers.csv\",header=0,index_col = 0, sep=\",\")\n",
    "coherentMemberDf.astype('str') \n",
    "coherentMemberDf.index = [str(i) for i in coherentMemberDf.index]\n",
    "corrvals = []\n",
    "corrstats = []\n",
    "input_path = os.getcwd()\n",
    "regulonDfMicroGbmlist = list(regulondf['Regulon_ID'].drop_duplicates())\n",
    "regulonDfMicroGbmlist = [str(i) for i in regulonDfMicroGbmlist]\n",
    "regulondf[\"Regulon_ID\"] = regulondf[\"Regulon_ID\"].astype(str)\n",
    "regulonModules = {}\n",
    "for i in regulonDfMicroGbmlist:\n",
    "    regulonModules[i]= list(regulondf[regulondf['Regulon_ID']==i]['Gene'])\n",
    "eigengenes = miner.getEigengenes(regulonModules,expressionData,regulon_dict=None,saveFolder=None)\n",
    "eigenScale = np.percentile(expressionData,95)/np.percentile(eigengenes,95)\n",
    "eigengenes = eigenScale*eigengenes\n",
    "regulon_list = list(set(eigengenes.index))\n",
    "regulon_list = [str(i) for i in regulon_list]\n",
    "eigengenes.index = np.array(eigengenes.index).astype(str)\n",
    "#write eigengenes to .csv\n",
    "#eigengenes.to_csv(os.path.join(resultsDirectory,\"eigengenesmiRNAAndTFRegulon.csv\"))\n",
    "for j in tqdm(regulon_list):\n",
    "    time.sleep(0.01)\n",
    "    regulon_df = regulondf[regulondf['Regulon_ID'] == j]\n",
    "    coherentmembers = [k for k in coherentMemberDf.columns if coherentMemberDf.loc[j,k] == 1]\n",
    "    if(len(coherentmembers) != 0):\n",
    "        if regulon_df.iloc[0,1] in expressionData.index:\n",
    "            geneexp_reg = expressionData.loc[regulon_df.iloc[0,1],coherentmembers]\n",
    "            geneexp_reg.replace(\"\", np.nan, inplace=True)\n",
    "            geneexp_reg = geneexp_reg.dropna()\n",
    "            geneexp_reg = np.array(geneexp_reg)\n",
    "            temp_listcorr = []\n",
    "            if str(j) in eigengenes.index:\n",
    "                geneexp_reguloneiggene = eigengenes.loc[str(j),coherentmembers]\n",
    "                geneexp_reguloneiggene.replace(\"\", np.nan, inplace=True)\n",
    "                geneexp_reguloneiggene = geneexp_reguloneiggene.dropna()\n",
    "                geneexp_reguloneiggene = np.array(geneexp_reguloneiggene)\n",
    "                for i in range(len(regulon_df)):\n",
    "                    if regulon_df.iloc[i,2] in expressionData.index:\n",
    "                        geneexp_regulongene = expressionData.loc[regulon_df.iloc[i,2],coherentmembers]\n",
    "                        geneexp_regulongene.replace(\"\", np.nan, inplace=True)\n",
    "                        geneexp_regulongene = geneexp_regulongene.dropna()\n",
    "                        geneexp_regulongene = np.array(geneexp_regulongene)\n",
    "                        temp_listcorr.append(stats.spearmanr(geneexp_reg, geneexp_regulongene)[0])\n",
    "                        corrvals.append([j, regulon_df.iloc[0,1], regulon_df.iloc[i,2],stats.spearmanr(geneexp_reg, geneexp_regulongene)[0],stats.spearmanr(geneexp_reg, geneexp_regulongene)[1],stats.spearmanr(geneexp_reg, geneexp_reguloneiggene)[0],stats.spearmanr(geneexp_reg, geneexp_reguloneiggene)[1]])\n",
    "                pos_count, neg_count = 0, 0\n",
    "                # enhanced for loop  \n",
    "                for num in temp_listcorr:\n",
    "                   # check for being positive\n",
    "                   if num >= 0:\n",
    "                      pos_count += 1\n",
    "                   else:\n",
    "                      neg_count += 1\n",
    "                corrstats.append([j, regulon_df.iloc[0,1], pos_count, neg_count])\n",
    "                #print(j)\n",
    "        \n",
    "df1 = pd.DataFrame(corrvals) \n",
    "df1.columns = ['Regulon_ID', 'Regulator', 'RegulonGene', 'SpearmanCorrelationExp', 'SpearmanCorrelationPValExp', 'SpearmanCorrelationEigenGene', 'SpearmanCorrelationPValEigenGene']\n",
    "df1.to_csv(\"GbmMicroRNAmiRNATFRegulatorRegulonSpearmanCorrelations.csv\")         "
   ]
  },
  {
   "cell_type": "markdown",
   "metadata": {},
   "source": [
    "# Easy method to get inflection point"
   ]
  },
  {
   "cell_type": "code",
   "execution_count": 18,
   "metadata": {},
   "outputs": [
    {
     "name": "stdout",
     "output_type": "stream",
     "text": [
      "[ 0.          2.28571429  4.57142857  6.85714286  9.14285714 11.42857143\n",
      " 13.71428571 16.        ]\n",
      "[1 1 1 1 1 3 1]\n",
      "5\n"
     ]
    },
    {
     "data": {
      "image/png": "[encoded data removed]",
      "text/plain": [
       "<Figure size 432x288 with 1 Axes>"
      ]
     },
     "metadata": {
      "needs_background": "light"
     },
     "output_type": "display_data"
    }
   ],
   "source": [
    "import matplotlib.pyplot as plt\n",
    "import numpy as np\n",
    "from  scipy.stats import norm\n",
    "\n",
    "x_min = 0.0\n",
    "x_max = 16.0\n",
    "\n",
    "mean = 8\n",
    "std = 2\n",
    "\n",
    "x = np.linspace(x_min, x_max, 8)\n",
    "y = np.array([1,2,3,4,5,6,9,10])\n",
    "\n",
    "print(x)\n",
    "\n",
    "# 1st inflection point estimation\n",
    "dy = np.diff(y)\n",
    "print(dy)\n",
    "# first derivative\n",
    "idx_max_dy = np.argmax(dy)\n",
    "print(idx_max_dy)\n",
    "\n",
    "# Graph\n",
    "plt.plot(y, x)\n",
    "plt.plot(y[idx_max_dy], x[idx_max_dy], 'or', label='estimated inflection point')\n",
    "plt.xlabel('x'); plt.ylabel('y'); plt.legend(); "
   ]
  },
  {
   "cell_type": "code",
   "execution_count": null,
   "metadata": {},
   "outputs": [],
   "source": []
  }
 ],
 "metadata": {
  "kernelspec": {
   "display_name": "Python 3 (ipykernel)",
   "language": "python",
   "name": "python3"
  },
  "language_info": {
   "codemirror_mode": {
    "name": "ipython",
    "version": 3
   },
   "file_extension": ".py",
   "mimetype": "text/x-python",
   "name": "python",
   "nbconvert_exporter": "python",
   "pygments_lexer": "ipython3",
   "version": "3.7.8"
  }
 },
 "nbformat": 4,
 "nbformat_minor": 4
}
