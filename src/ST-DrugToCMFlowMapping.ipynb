{
 "cells": [
  {
   "cell_type": "code",
   "execution_count": 1,
   "metadata": {},
   "outputs": [
    {
     "name": "stdout",
     "output_type": "stream",
     "text": [
      "Done!\n"
     ]
    }
   ],
   "source": [
    "## Import the library\n",
    "from __future__ import division\n",
    "import sys\n",
    "import os\n",
    "#os.chdir('../data/MINER_MicroLowessRNATMM.08.24.2020/')\n",
    "import miner as miner\n",
    "import numpy as np\n",
    "import pandas as pd\n",
    "import matplotlib.pyplot as plt\n",
    "%matplotlib inline\n",
    "plt.style.use('ggplot')\n",
    "import seaborn as sns\n",
    "import time\n",
    "import imp\n",
    "imp.reload(miner)\n",
    "import miner_py3_kk as miner3\n",
    "from lifelines import KaplanMeierFitter# Path to the miner directory\n",
    "from tqdm.notebook import tqdm, trange\n",
    "\n",
    "# Miner Output folder\n",
    "input_path = \"/Volumes/omics4tb2/SYGNAL/GBM-Serdar/MINER_MicroLowessRNATMM.08.24.2020\"\n",
    "print(\"Done!\")"
   ]
  },
  {
   "cell_type": "markdown",
   "metadata": {},
   "source": [
    "# Load data files"
   ]
  },
  {
   "cell_type": "code",
   "execution_count": 2,
   "metadata": {},
   "outputs": [
    {
     "name": "stdout",
     "output_type": "stream",
     "text": [
      "Loaded 3218  drugs.\n",
      "Loaded 45908  regulons.\n",
      "Loaded 39236  CM Flows.\n"
     ]
    }
   ],
   "source": [
    "# load Gene ID mapping file and filter for Gene Name\n",
    "identifiers = pd.read_csv(\"../data/identifier_mappings.txt\", header=0, index_col=None, sep=\"\\t\")\n",
    "identifiers = identifiers[identifiers['Source'] == 'Gene Name']\n",
    "identifiers = identifiers[['Preferred_Name','Name','Source']]\n",
    "\n",
    "# load master OT drug table\n",
    "drugTargetCombo = pd.read_csv(\"../data/opentargets_gbm_longer.csv\", header=0, index_col=None,encoding= 'unicode_escape')\n",
    "drugTargetCombo = drugTargetCombo.rename({'molecule_name':'Drug'}, axis=1)\n",
    "drugTargetCombo = drugTargetCombo.rename({'approved_name':'TargetSymbol'}, axis=1)\n",
    "print(\"Loaded \" + str(len(drugTargetCombo['Drug'].drop_duplicates())), \" drugs.\")\n",
    "\n",
    "# # load MINER Regulons and add Regulator and Gene Symbols\n",
    "regulonDf1 = pd.read_csv(os.path.join(input_path, \"regulonDf.csv\"), header = 0,index_col=0)\n",
    "regulonDf2 = pd.merge(regulonDf1, identifiers, left_on = ['Gene'], right_on = ['Preferred_Name'], how=\"left\")\n",
    "regulonDf2.columns = ['Regulon_ID','Regulator','Gene','Gene_ID','GeneSymbol','Source']\n",
    "regulonDf = pd.merge(regulonDf2, identifiers, left_on = ['Regulator'], right_on = ['Preferred_Name'], how=\"left\")\n",
    "regulonDf.columns = ['Regulon_ID','Regulator','Gene','Gene_ID','GeneSymbol','Source_x','Regulator_ID','RegulatorSymbol','Source_y']\n",
    "print(\"Loaded \" + str(len(regulonDf.drop_duplicates())), \" regulons.\")\n",
    "\n",
    "# Load CM Flows\n",
    "cmFlows = pd.read_csv(os.path.join(input_path, \"filteredCausalResults_miRNAAndTFMinerGbmMicroarrayRNASeq.csv\"), header = 0)\n",
    "print(\"Loaded \" + str(len(cmFlows['Regulon_ID'])), \" CM Flows.\")"
   ]
  },
  {
   "cell_type": "markdown",
   "metadata": {},
   "source": [
    "# Drug to CM flow mapping"
   ]
  },
  {
   "cell_type": "code",
   "execution_count": 4,
   "metadata": {},
   "outputs": [
    {
     "data": {
      "application/vnd.jupyter.widget-view+json": {
       "model_id": "aef5b4b632e442ff9d8d60f11354c885",
       "version_major": 2,
       "version_minor": 0
      },
      "text/plain": [
       "  0%|          | 0/3218 [00:00<?, ?it/s]"
      ]
     },
     "metadata": {},
     "output_type": "display_data"
    },
    {
     "name": "stdout",
     "output_type": "stream",
     "text": [
      "1:  (77139, 4)\n"
     ]
    },
    {
     "ename": "KeyError",
     "evalue": "'GeneSymbol'",
     "output_type": "error",
     "traceback": [
      "\u001b[0;31m---------------------------------------------------------------------------\u001b[0m",
      "\u001b[0;31mKeyError\u001b[0m                                  Traceback (most recent call last)",
      "\u001b[0;32m/var/folders/dy/kk9lybnx3m56nwpxv_wjhjrw0000gq/T/ipykernel_72745/2074701712.py\u001b[0m in \u001b[0;36m<module>\u001b[0;34m\u001b[0m\n\u001b[1;32m     48\u001b[0m \u001b[0;34m\u001b[0m\u001b[0m\n\u001b[1;32m     49\u001b[0m \u001b[0;31m# merge with other drug info\u001b[0m\u001b[0;34m\u001b[0m\u001b[0;34m\u001b[0m\u001b[0;34m\u001b[0m\u001b[0m\n\u001b[0;32m---> 50\u001b[0;31m \u001b[0mResultsListDf\u001b[0m \u001b[0;34m=\u001b[0m \u001b[0mpd\u001b[0m\u001b[0;34m.\u001b[0m\u001b[0mmerge\u001b[0m\u001b[0;34m(\u001b[0m\u001b[0mResultsListDf\u001b[0m\u001b[0;34m,\u001b[0m \u001b[0mdrugTargetCombo\u001b[0m\u001b[0;34m,\u001b[0m \u001b[0mleft_on\u001b[0m \u001b[0;34m=\u001b[0m \u001b[0;34m[\u001b[0m\u001b[0;34m'Drug'\u001b[0m\u001b[0;34m,\u001b[0m\u001b[0;34m'TargetSymbol'\u001b[0m\u001b[0;34m]\u001b[0m\u001b[0;34m,\u001b[0m \u001b[0mright_on\u001b[0m \u001b[0;34m=\u001b[0m \u001b[0;34m[\u001b[0m\u001b[0;34m'Drug'\u001b[0m\u001b[0;34m,\u001b[0m\u001b[0;34m'GeneSymbol'\u001b[0m\u001b[0;34m]\u001b[0m\u001b[0;34m,\u001b[0m \u001b[0mhow\u001b[0m\u001b[0;34m=\u001b[0m\u001b[0;34m\"left\"\u001b[0m\u001b[0;34m)\u001b[0m\u001b[0;34m\u001b[0m\u001b[0;34m\u001b[0m\u001b[0m\n\u001b[0m\u001b[1;32m     51\u001b[0m \u001b[0mprint\u001b[0m\u001b[0;34m(\u001b[0m\u001b[0;34m\"2: \"\u001b[0m\u001b[0;34m,\u001b[0m\u001b[0mResultsListDf\u001b[0m\u001b[0;34m.\u001b[0m\u001b[0mshape\u001b[0m\u001b[0;34m)\u001b[0m\u001b[0;34m\u001b[0m\u001b[0;34m\u001b[0m\u001b[0m\n\u001b[1;32m     52\u001b[0m \u001b[0;34m\u001b[0m\u001b[0m\n",
      "\u001b[0;32m~/miniconda3/lib/python3.7/site-packages/pandas/core/reshape/merge.py\u001b[0m in \u001b[0;36mmerge\u001b[0;34m(left, right, how, on, left_on, right_on, left_index, right_index, sort, suffixes, copy, indicator, validate)\u001b[0m\n\u001b[1;32m    118\u001b[0m         \u001b[0mcopy\u001b[0m\u001b[0;34m=\u001b[0m\u001b[0mcopy\u001b[0m\u001b[0;34m,\u001b[0m\u001b[0;34m\u001b[0m\u001b[0;34m\u001b[0m\u001b[0m\n\u001b[1;32m    119\u001b[0m         \u001b[0mindicator\u001b[0m\u001b[0;34m=\u001b[0m\u001b[0mindicator\u001b[0m\u001b[0;34m,\u001b[0m\u001b[0;34m\u001b[0m\u001b[0;34m\u001b[0m\u001b[0m\n\u001b[0;32m--> 120\u001b[0;31m         \u001b[0mvalidate\u001b[0m\u001b[0;34m=\u001b[0m\u001b[0mvalidate\u001b[0m\u001b[0;34m,\u001b[0m\u001b[0;34m\u001b[0m\u001b[0;34m\u001b[0m\u001b[0m\n\u001b[0m\u001b[1;32m    121\u001b[0m     )\n\u001b[1;32m    122\u001b[0m     \u001b[0;32mreturn\u001b[0m \u001b[0mop\u001b[0m\u001b[0;34m.\u001b[0m\u001b[0mget_result\u001b[0m\u001b[0;34m(\u001b[0m\u001b[0;34m)\u001b[0m\u001b[0;34m\u001b[0m\u001b[0;34m\u001b[0m\u001b[0m\n",
      "\u001b[0;32m~/miniconda3/lib/python3.7/site-packages/pandas/core/reshape/merge.py\u001b[0m in \u001b[0;36m__init__\u001b[0;34m(self, left, right, how, on, left_on, right_on, axis, left_index, right_index, sort, suffixes, copy, indicator, validate)\u001b[0m\n\u001b[1;32m    698\u001b[0m             \u001b[0mself\u001b[0m\u001b[0;34m.\u001b[0m\u001b[0mright_join_keys\u001b[0m\u001b[0;34m,\u001b[0m\u001b[0;34m\u001b[0m\u001b[0;34m\u001b[0m\u001b[0m\n\u001b[1;32m    699\u001b[0m             \u001b[0mself\u001b[0m\u001b[0;34m.\u001b[0m\u001b[0mjoin_names\u001b[0m\u001b[0;34m,\u001b[0m\u001b[0;34m\u001b[0m\u001b[0;34m\u001b[0m\u001b[0m\n\u001b[0;32m--> 700\u001b[0;31m         ) = self._get_merge_keys()\n\u001b[0m\u001b[1;32m    701\u001b[0m \u001b[0;34m\u001b[0m\u001b[0m\n\u001b[1;32m    702\u001b[0m         \u001b[0;31m# validate the merge keys dtypes. We may need to coerce\u001b[0m\u001b[0;34m\u001b[0m\u001b[0;34m\u001b[0m\u001b[0;34m\u001b[0m\u001b[0m\n",
      "\u001b[0;32m~/miniconda3/lib/python3.7/site-packages/pandas/core/reshape/merge.py\u001b[0m in \u001b[0;36m_get_merge_keys\u001b[0;34m(self)\u001b[0m\n\u001b[1;32m   1090\u001b[0m                     \u001b[0;32mif\u001b[0m \u001b[0;32mnot\u001b[0m \u001b[0mis_rkey\u001b[0m\u001b[0;34m(\u001b[0m\u001b[0mrk\u001b[0m\u001b[0;34m)\u001b[0m\u001b[0;34m:\u001b[0m\u001b[0;34m\u001b[0m\u001b[0;34m\u001b[0m\u001b[0m\n\u001b[1;32m   1091\u001b[0m                         \u001b[0;32mif\u001b[0m \u001b[0mrk\u001b[0m \u001b[0;32mis\u001b[0m \u001b[0;32mnot\u001b[0m \u001b[0;32mNone\u001b[0m\u001b[0;34m:\u001b[0m\u001b[0;34m\u001b[0m\u001b[0;34m\u001b[0m\u001b[0m\n\u001b[0;32m-> 1092\u001b[0;31m                             \u001b[0mright_keys\u001b[0m\u001b[0;34m.\u001b[0m\u001b[0mappend\u001b[0m\u001b[0;34m(\u001b[0m\u001b[0mright\u001b[0m\u001b[0;34m.\u001b[0m\u001b[0m_get_label_or_level_values\u001b[0m\u001b[0;34m(\u001b[0m\u001b[0mrk\u001b[0m\u001b[0;34m)\u001b[0m\u001b[0;34m)\u001b[0m\u001b[0;34m\u001b[0m\u001b[0;34m\u001b[0m\u001b[0m\n\u001b[0m\u001b[1;32m   1093\u001b[0m                         \u001b[0;32melse\u001b[0m\u001b[0;34m:\u001b[0m\u001b[0;34m\u001b[0m\u001b[0;34m\u001b[0m\u001b[0m\n\u001b[1;32m   1094\u001b[0m                             \u001b[0;31m# work-around for merge_asof(right_index=True)\u001b[0m\u001b[0;34m\u001b[0m\u001b[0;34m\u001b[0m\u001b[0;34m\u001b[0m\u001b[0m\n",
      "\u001b[0;32m~/miniconda3/lib/python3.7/site-packages/pandas/core/generic.py\u001b[0m in \u001b[0;36m_get_label_or_level_values\u001b[0;34m(self, key, axis)\u001b[0m\n\u001b[1;32m   1774\u001b[0m             \u001b[0mvalues\u001b[0m \u001b[0;34m=\u001b[0m \u001b[0mself\u001b[0m\u001b[0;34m.\u001b[0m\u001b[0maxes\u001b[0m\u001b[0;34m[\u001b[0m\u001b[0maxis\u001b[0m\u001b[0;34m]\u001b[0m\u001b[0;34m.\u001b[0m\u001b[0mget_level_values\u001b[0m\u001b[0;34m(\u001b[0m\u001b[0mkey\u001b[0m\u001b[0;34m)\u001b[0m\u001b[0;34m.\u001b[0m\u001b[0m_values\u001b[0m\u001b[0;34m\u001b[0m\u001b[0;34m\u001b[0m\u001b[0m\n\u001b[1;32m   1775\u001b[0m         \u001b[0;32melse\u001b[0m\u001b[0;34m:\u001b[0m\u001b[0;34m\u001b[0m\u001b[0;34m\u001b[0m\u001b[0m\n\u001b[0;32m-> 1776\u001b[0;31m             \u001b[0;32mraise\u001b[0m \u001b[0mKeyError\u001b[0m\u001b[0;34m(\u001b[0m\u001b[0mkey\u001b[0m\u001b[0;34m)\u001b[0m\u001b[0;34m\u001b[0m\u001b[0;34m\u001b[0m\u001b[0m\n\u001b[0m\u001b[1;32m   1777\u001b[0m \u001b[0;34m\u001b[0m\u001b[0m\n\u001b[1;32m   1778\u001b[0m         \u001b[0;31m# Check for duplicates\u001b[0m\u001b[0;34m\u001b[0m\u001b[0;34m\u001b[0m\u001b[0;34m\u001b[0m\u001b[0m\n",
      "\u001b[0;31mKeyError\u001b[0m: 'GeneSymbol'"
     ]
    }
   ],
   "source": [
    "ResultsList = []\n",
    "\n",
    "drugs = list(drugTargetCombo['Drug'].drop_duplicates())\n",
    "#drugs = ['AZD-4547']\n",
    "for i in tqdm(drugs):\n",
    "    time.sleep(0.01)\n",
    "    #print(i)\n",
    "\n",
    "    targetslist = list(drugTargetCombo[drugTargetCombo['Drug']==i]['TargetSymbol'].drop_duplicates())\n",
    "    #targetslist = targetslist[0].split(':')\n",
    "    #print(targetslist)\n",
    "    #regulonDf = pd.read_csv(os.path.join(input_path, \"regulonDf.csv\"), header = 0)\n",
    "\n",
    "    #loop  through every target symbol for every drug\n",
    "    for j in targetslist:\n",
    "        #print(j)\n",
    "        if j in regulonDf.GeneSymbol.values:\n",
    "            #print(j + ' is in Regulon Genes')\n",
    "            regulonids = regulonDf[regulonDf['GeneSymbol']==j]['Regulon_ID']\n",
    "            regulonids = list(regulonids.drop_duplicates())\n",
    "            for k in regulonids:\n",
    "                ResultsList.append([i, j, k, 'Regulon_Gene'])\n",
    "\n",
    "        if j in cmFlows.MutationGene.values:\n",
    "            #print(j + ' is in Mutations')\n",
    "            mutations = cmFlows[cmFlows['MutationGene']==j]['Regulon_ID']\n",
    "            mutations = list(mutations.drop_duplicates())\n",
    "            for l in mutations:\n",
    "                ResultsList.append([i, j, l, 'Mutation_Gene'])\n",
    "\n",
    "        if j in cmFlows.RegulatorSymbol.values:\n",
    "            #print(j + ' is in Regulators')\n",
    "            regulators = cmFlows[cmFlows['RegulatorSymbol']==j]['Regulon_ID']\n",
    "            regulators = list(regulators.drop_duplicates())\n",
    "            for m in regulators:\n",
    "                ResultsList.append([i, j, m, 'Regulator_Gene'])                     \n",
    "                \n",
    "                \n",
    "#Convert list to dataframe\n",
    "ResultsListDf = pd.DataFrame(ResultsList)\n",
    "#remove duplicates from dataframe\n",
    "ResultsListDf = ResultsListDf.drop_duplicates()\n",
    "#assign columns to dataframe\n",
    "ResultsListDf.columns = ['Drug', 'TargetSymbol', 'Regulon_ID', 'Miner_Target_Type']\n",
    "#ResultsListDf = ResultsListDf[['Drug', 'GeneSymbol', 'Regulon_ID']]\n",
    "ResultsListDf = ResultsListDf.drop_duplicates()\n",
    "print(\"1: \",ResultsListDf.shape)\n",
    "\n",
    "# merge with other drug info\n",
    "ResultsListDf = pd.merge(ResultsListDf, drugTargetCombo, left_on = ['Drug','TargetSymbol'], right_on = ['Drug','TargetSymbol'], how=\"left\")\n",
    "print(\"2: \",ResultsListDf.shape)\n",
    "\n",
    "resultsRegulonGenes = ResultsListDf[ResultsListDf['Miner_Target_Type'] == 'Regulon_Gene']\n",
    "resultsMutationGenes = ResultsListDf[ResultsListDf['Miner_Target_Type'] == 'Mutation_Gene']\n",
    "resultsRegulatorGenes = ResultsListDf[ResultsListDf['Miner_Target_Type'] == 'Regulator_Gene']\n",
    "\n",
    "resultsRegulonGenesDf = pd.merge(resultsRegulonGenes, cmFlows, left_on = ['Regulon_ID'], right_on = ['Regulon_ID'], how=\"left\")\n",
    "resultsMutationGenesDf = pd.merge(resultsMutationGenes, cmFlows, left_on = ['Regulon_ID','TargetSymbol'], right_on = ['Regulon_ID','MutationGene'], how=\"left\")\n",
    "resultsRegulatorGenesDf = pd.merge(resultsRegulatorGenes, cmFlows, left_on = ['Regulon_ID','TargetSymbol'], right_on = ['Regulon_ID','RegulatorSymbol'], how=\"left\")\n",
    "\n",
    "print(\"3: RegulonGenes \",resultsRegulonGenes.shape, resultsRegulonGenesDf.shape )\n",
    "print(\"4: MutationGenes \",resultsMutationGenes.shape, resultsMutationGenesDf.shape )\n",
    "print(\"5: RegulatorGenes \",resultsRegulatorGenes.shape, resultsRegulatorGenesDf.shape )\n",
    "\n",
    "# merge with regulator info\n",
    "#ResultsListDf['Regulon_ID'] = ResultsListDf['Regulon_ID'].astype(int)\n",
    "#print(ResultsListDf)\n",
    "# get regulators from regulonDf\n",
    "#regulonDfRegulators = regulonDf[['Regulon_ID', 'Regulator']].drop_duplicates()\n",
    "\n",
    "#ResultsListDf = pd.merge(ResultsListDf, regulonDfRegulators, on = ['Regulon_ID'], how=\"left\")\n",
    "#print(ResultsListDf)\n",
    "\n",
    "#cmFlows['Regulon_ID'] = cmFlows['Regulon_ID'].astype(int)\n",
    "\n",
    "#ResultsListDf = pd.merge(ResultsListDf, cmFlows, left_on = ['Regulon_ID','GeneSymbol'], right_on = ['Regulon_ID.1'], how=\"left\")\n",
    "#print(ResultsListDf)\n",
    "ResultsListDfAll = pd.concat([resultsRegulonGenesDf,resultsMutationGenesDf,resultsRegulatorGenesDf])\n",
    "#print(\"3 \",ResultsListDf)\n",
    "print(\"6: ResultsListDfAll \",ResultsListDfAll.shape)\n"
   ]
  },
  {
   "cell_type": "code",
   "execution_count": 6,
   "metadata": {},
   "outputs": [],
   "source": [
    "ResultsListDfAll.to_csv(\"../data/GBM_Master_Drugs_Mapped_CMFlows_120921.csv\",index=0)\n"
   ]
  },
  {
   "cell_type": "code",
   "execution_count": 5,
   "metadata": {},
   "outputs": [
    {
     "name": "stdout",
     "output_type": "stream",
     "text": [
      "2:  (77139, 20)\n",
      "3: RegulonGenes  (31394, 20) (31394, 34)\n",
      "4: MutationGenes  (43019, 20) (43172, 34)\n",
      "5: RegulatorGenes  (2726, 20) (35587, 34)\n",
      "6: ResultsListDfAll  (110153, 34)\n"
     ]
    }
   ],
   "source": [
    "\n",
    "# merge with other drug info\n",
    "ResultsListDf = pd.merge(ResultsListDf, drugTargetCombo, left_on = ['Drug','TargetSymbol'], right_on = ['Drug','TargetSymbol'], how=\"left\")\n",
    "print(\"2: \",ResultsListDf.shape)\n",
    "\n",
    "resultsRegulonGenes = ResultsListDf[ResultsListDf['Miner_Target_Type'] == 'Regulon_Gene']\n",
    "resultsMutationGenes = ResultsListDf[ResultsListDf['Miner_Target_Type'] == 'Mutation_Gene']\n",
    "resultsRegulatorGenes = ResultsListDf[ResultsListDf['Miner_Target_Type'] == 'Regulator_Gene']\n",
    "\n",
    "resultsRegulonGenesDf = pd.merge(resultsRegulonGenes, cmFlows, left_on = ['Regulon_ID'], right_on = ['Regulon_ID'], how=\"left\")\n",
    "resultsMutationGenesDf = pd.merge(resultsMutationGenes, cmFlows, left_on = ['Regulon_ID','TargetSymbol'], right_on = ['Regulon_ID','MutationGene'], how=\"left\")\n",
    "resultsRegulatorGenesDf = pd.merge(resultsRegulatorGenes, cmFlows, left_on = ['Regulon_ID','TargetSymbol'], right_on = ['Regulon_ID','RegulatorSymbol'], how=\"left\")\n",
    "\n",
    "print(\"3: RegulonGenes \",resultsRegulonGenes.shape, resultsRegulonGenesDf.shape )\n",
    "print(\"4: MutationGenes \",resultsMutationGenes.shape, resultsMutationGenesDf.shape )\n",
    "print(\"5: RegulatorGenes \",resultsRegulatorGenes.shape, resultsRegulatorGenesDf.shape )\n",
    "\n",
    "# merge with regulator info\n",
    "#ResultsListDf['Regulon_ID'] = ResultsListDf['Regulon_ID'].astype(int)\n",
    "#print(ResultsListDf)\n",
    "# get regulators from regulonDf\n",
    "#regulonDfRegulators = regulonDf[['Regulon_ID', 'Regulator']].drop_duplicates()\n",
    "\n",
    "#ResultsListDf = pd.merge(ResultsListDf, regulonDfRegulators, on = ['Regulon_ID'], how=\"left\")\n",
    "#print(ResultsListDf)\n",
    "\n",
    "#cmFlows['Regulon_ID'] = cmFlows['Regulon_ID'].astype(int)\n",
    "\n",
    "#ResultsListDf = pd.merge(ResultsListDf, cmFlows, left_on = ['Regulon_ID','GeneSymbol'], right_on = ['Regulon_ID.1'], how=\"left\")\n",
    "#print(ResultsListDf)\n",
    "ResultsListDfAll = pd.concat([resultsRegulonGenesDf,resultsMutationGenesDf,resultsRegulatorGenesDf])\n",
    "#print(\"3 \",ResultsListDf)\n",
    "print(\"6: ResultsListDfAll \",ResultsListDfAll.shape)\n"
   ]
  },
  {
   "cell_type": "code",
   "execution_count": null,
   "metadata": {},
   "outputs": [],
   "source": []
  }
 ],
 "metadata": {
  "kernelspec": {
   "display_name": "Python 3 (ipykernel)",
   "language": "python",
   "name": "python3"
  },
  "language_info": {
   "codemirror_mode": {
    "name": "ipython",
    "version": 3
   },
   "file_extension": ".py",
   "mimetype": "text/x-python",
   "name": "python",
   "nbconvert_exporter": "python",
   "pygments_lexer": "ipython3",
   "version": "3.7.8"
  }
 },
 "nbformat": 4,
 "nbformat_minor": 4
}
