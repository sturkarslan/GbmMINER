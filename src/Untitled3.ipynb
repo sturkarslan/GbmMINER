{
 "cells": [
  {
   "cell_type": "code",
   "execution_count": 1,
   "id": "591655e9-b72b-4d92-aca0-f729a1892418",
   "metadata": {},
   "outputs": [],
   "source": [
    "import numpy as np\n",
    "import pandas as pd\n",
    "from scipy import stats\n",
    "from numpy import random as rd\n",
    "import os\n",
    "import json\n",
    "from sklearn.decomposition import PCA\n",
    "import multiprocessing, multiprocessing.pool\n",
    "import matplotlib.pyplot as plt\n",
    "import seaborn as sns\n",
    "import time\n",
    "from collections import Counter\n",
    "from sklearn.manifold import TSNE\n",
    "import pickle\n",
    "import numpy as np\n",
    "import pandas as pd\n",
    "from sklearn.model_selection import train_test_split\n",
    "from sklearn.tree import DecisionTreeClassifier\n",
    "from sklearn.ensemble import RandomForestClassifier\n",
    "from sklearn.metrics import accuracy_score\n",
    "from sklearn.metrics import f1_score\n",
    "from sklearn.metrics import roc_auc_score\n",
    "from sklearn import metrics\n",
    "from sklearn import tree\n",
    "import miner_py3 as miner\n",
    "%matplotlib inline\n",
    "plt.style.use('ggplot')"
   ]
  },
  {
   "cell_type": "code",
   "execution_count": 2,
   "id": "35b8c9b9-9016-4c8c-97e5-ac771008b25e",
   "metadata": {},
   "outputs": [],
   "source": [
    "# Path to the miner directory\n",
    "input_path = os.path.join(os.path.expanduser('~'),'Desktop','GitHub','miner','miner')\n",
    "\n",
    "# create name for results folder where output files will be saved\n",
    "resultsFolder = \"miner_network_results\"\n",
    "\n",
    "# create results directory\n",
    "resultsDirectory = os.path.join(os.path.split(os.getcwd())[0],resultsFolder)\n",
    "if not os.path.isdir(resultsDirectory):\n",
    "    os.mkdir(resultsDirectory)"
   ]
  },
  {
   "cell_type": "markdown",
   "id": "094bfc6b-8bba-4769-b8e8-5e1e9dd2055d",
   "metadata": {},
   "source": [
    "## This is my test"
   ]
  },
  {
   "cell_type": "code",
   "execution_count": 3,
   "id": "e72bdd6c-238d-4c85-b04d-a8e2eefde1df",
   "metadata": {},
   "outputs": [
    {
     "name": "stdout",
     "output_type": "stream",
     "text": [
      "test\n"
     ]
    }
   ],
   "source": [
    "print(\"test\")"
   ]
  },
  {
   "cell_type": "code",
   "execution_count": null,
   "id": "d8ca543d-a11c-48a5-981b-14a1f9136875",
   "metadata": {},
   "outputs": [],
   "source": []
  }
 ],
 "metadata": {
  "kernelspec": {
   "display_name": "Python 3 (ipykernel)",
   "language": "python",
   "name": "python3"
  },
  "language_info": {
   "codemirror_mode": {
    "name": "ipython",
    "version": 3
   },
   "file_extension": ".py",
   "mimetype": "text/x-python",
   "name": "python",
   "nbconvert_exporter": "python",
   "pygments_lexer": "ipython3",
   "version": "3.7.8"
  }
 },
 "nbformat": 4,
 "nbformat_minor": 5
}
